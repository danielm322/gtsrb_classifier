{
 "cells": [
  {
   "attachments": {},
   "cell_type": "markdown",
   "metadata": {},
   "source": [
    "# General Imports"
   ]
  },
  {
   "cell_type": "code",
   "execution_count": 1,
   "metadata": {},
   "outputs": [],
   "source": [
    "%load_ext autoreload\n",
    "%autoreload 2\n",
    "%reload_ext autoreload"
   ]
  },
  {
   "cell_type": "code",
   "execution_count": 2,
   "metadata": {},
   "outputs": [],
   "source": [
    "%matplotlib inline"
   ]
  },
  {
   "cell_type": "code",
   "execution_count": 3,
   "metadata": {},
   "outputs": [],
   "source": [
    "from collections import namedtuple\n",
    "import numpy as np\n",
    "import matplotlib.pyplot as plt\n",
    "import random\n",
    "import pandas as pd\n",
    "import seaborn as sns\n",
    "from PIL import Image\n",
    "from icecream import ic"
   ]
  },
  {
   "cell_type": "code",
   "execution_count": 4,
   "metadata": {},
   "outputs": [],
   "source": [
    "import torch\n",
    "import pytorch_lightning as pl\n",
    "from pytorch_lightning.callbacks import ModelCheckpoint\n",
    "from torchvision import transforms as transform_lib\n",
    "from pytorch_lightning.callbacks import TQDMProgressBar\n",
    "from torch.utils.data import Dataset\n",
    "from torch.utils.data import DataLoader\n",
    "from torch.utils.data.sampler import SubsetRandomSampler"
   ]
  },
  {
   "cell_type": "code",
   "execution_count": 5,
   "metadata": {},
   "outputs": [],
   "source": [
    "from datasets import GtsrbModule"
   ]
  },
  {
   "cell_type": "code",
   "execution_count": 6,
   "metadata": {},
   "outputs": [],
   "source": [
    "from pl_bolts.datamodules import CIFAR10DataModule\n",
    "from pl_bolts.datamodules import STL10DataModule"
   ]
  },
  {
   "cell_type": "code",
   "execution_count": 7,
   "metadata": {},
   "outputs": [],
   "source": [
    "from models import ResnetModule"
   ]
  },
  {
   "cell_type": "code",
   "execution_count": 8,
   "metadata": {},
   "outputs": [],
   "source": [
    "from dropblock import DropBlock2D, LinearScheduler"
   ]
  },
  {
   "cell_type": "code",
   "execution_count": 9,
   "metadata": {},
   "outputs": [],
   "source": [
    "from ls_ood_detect_cea.uncertainty_estimation import Hook\n",
    "from ls_ood_detect_cea.uncertainty_estimation import deeplabv3p_get_ls_mcd_samples\n",
    "from ls_ood_detect_cea.uncertainty_estimation import get_latent_represent_mcd_samples\n",
    "from ls_ood_detect_cea.uncertainty_estimation import get_dl_h_z\n",
    "from ls_ood_detect_cea.ood_detection_dataset import build_ood_detection_ds\n",
    "from ls_ood_detect_cea.dimensionality_reduction import plot_samples_pacmap\n",
    "from ls_ood_detect_cea.detectors import KDEClassifier\n",
    "from ls_ood_detect_cea.metrics import get_ood_detector_results, plot_roc_ood_detector"
   ]
  },
  {
   "cell_type": "markdown",
   "metadata": {},
   "source": [
    "# Paths"
   ]
  },
  {
   "cell_type": "markdown",
   "metadata": {},
   "source": [
    "Datasets paths:"
   ]
  },
  {
   "cell_type": "code",
   "execution_count": 11,
   "metadata": {},
   "outputs": [],
   "source": [
    "gtsrb_dataset_path = \"/media/farnez/Data/DATASETS/gtsrb-data/\"\n",
    "cifar10_data_path = \"/media/farnez/Data/DATASETS/cifar-10/\"\n",
    "stl10_data_path = \"/media/farnez/Data/DATASETS/stl-10/\""
   ]
  },
  {
   "cell_type": "markdown",
   "metadata": {},
   "source": [
    "Experiments path:"
   ]
  },
  {
   "cell_type": "code",
   "execution_count": 12,
   "metadata": {},
   "outputs": [],
   "source": [
    "exp_path = \"/media/farnez/Data/EXPERIMENTS/ICLR-2024/gtsrb-classification/\""
   ]
  },
  {
   "cell_type": "markdown",
   "metadata": {},
   "source": [
    "Resnet Classification Model Number & checkpoint:"
   ]
  },
  {
   "cell_type": "code",
   "execution_count": 13,
   "metadata": {},
   "outputs": [],
   "source": [
    "exp_model_name = \"resnet18_model_2\""
   ]
  },
  {
   "cell_type": "code",
   "execution_count": 14,
   "metadata": {},
   "outputs": [
    {
     "data": {
      "text/plain": [
       "'/media/farnez/Data/EXPERIMENTS/ICLR-2024/gtsrb-classification/resnet18_model_2/model/epoch=721-step=101080.ckpt'"
      ]
     },
     "execution_count": 14,
     "metadata": {},
     "output_type": "execute_result"
    }
   ],
   "source": [
    "gtsrb_resnet18_model_path = exp_path + exp_model_name + \"/model/epoch=721-step=101080.ckpt\"\n",
    "gtsrb_resnet18_model_path"
   ]
  },
  {
   "cell_type": "markdown",
   "metadata": {},
   "source": [
    "Samples Paths:"
   ]
  },
  {
   "cell_type": "code",
   "execution_count": 15,
   "metadata": {},
   "outputs": [
    {
     "data": {
      "text/plain": [
       "'/media/farnez/Data/EXPERIMENTS/ICLR-2024/gtsrb-classification/resnet18_model_2/embeddings_z/mc_samples/'"
      ]
     },
     "execution_count": 15,
     "metadata": {},
     "output_type": "execute_result"
    }
   ],
   "source": [
    "mc_samples_path = exp_path + exp_model_name + \"/embeddings_z/mc_samples/\"\n",
    "mc_samples_path"
   ]
  },
  {
   "cell_type": "code",
   "execution_count": 16,
   "metadata": {},
   "outputs": [
    {
     "data": {
      "text/plain": [
       "'/media/farnez/Data/EXPERIMENTS/ICLR-2024/gtsrb-classification/resnet18_model_2/embeddings_z/entropy/'"
      ]
     },
     "execution_count": 16,
     "metadata": {},
     "output_type": "execute_result"
    }
   ],
   "source": [
    "h_z_path = exp_path + exp_model_name + \"/embeddings_z/entropy/\"\n",
    "h_z_path"
   ]
  },
  {
   "cell_type": "markdown",
   "metadata": {},
   "source": [
    "# Compute Device"
   ]
  },
  {
   "cell_type": "code",
   "execution_count": 17,
   "metadata": {},
   "outputs": [
    {
     "name": "stdout",
     "output_type": "stream",
     "text": [
      "cuda\n"
     ]
    }
   ],
   "source": [
    "device = torch.device('cuda' if torch.cuda.is_available() else 'cpu')\n",
    "print(device)"
   ]
  },
  {
   "attachments": {},
   "cell_type": "markdown",
   "metadata": {},
   "source": [
    "# Datasets"
   ]
  },
  {
   "attachments": {},
   "cell_type": "markdown",
   "metadata": {},
   "source": [
    "## GTSRB-Normal"
   ]
  },
  {
   "cell_type": "code",
   "execution_count": 18,
   "metadata": {},
   "outputs": [],
   "source": [
    "gtsrb_normal_dm = GtsrbModule(img_size=(128, 128), data_path=gtsrb_dataset_path, batch_size=1, shuffle=False)"
   ]
  },
  {
   "cell_type": "code",
   "execution_count": 19,
   "metadata": {},
   "outputs": [],
   "source": [
    "gtsrb_normal_dm.setup(stage='fit')\n",
    "gtsrb_normal_dm.setup(stage='validate')\n",
    "gtsrb_normal_dm.setup(stage='test')"
   ]
  },
  {
   "cell_type": "code",
   "execution_count": 20,
   "metadata": {},
   "outputs": [
    {
     "name": "stderr",
     "output_type": "stream",
     "text": [
      "ic| len(samples_idx):"
     ]
    },
    {
     "name": "stderr",
     "output_type": "stream",
     "text": [
      " 7120\n"
     ]
    }
   ],
   "source": [
    "gtsrb_ds_len = len(gtsrb_normal_dm.ds_gtsrb_train)\n",
    "indices_train_dl = list(range(gtsrb_ds_len))\n",
    "samples_size = 0.2 # of the dataset\n",
    "\n",
    "random.seed(9290)\n",
    "random.shuffle(indices_train_dl)\n",
    "\n",
    "split = int(np.floor(gtsrb_ds_len * samples_size))\n",
    "samples_idx = indices_train_dl[:split]\n",
    "ic(len(samples_idx));\n",
    "\n",
    "train_sampler = SubsetRandomSampler(samples_idx)\n",
    "\n",
    "gtsrb_normal_dm.shuffle = False\n",
    "gtsrb_normal_dm.ds_gtsrb_train_sampler = train_sampler"
   ]
  },
  {
   "cell_type": "code",
   "execution_count": 21,
   "metadata": {},
   "outputs": [
    {
     "name": "stderr",
     "output_type": "stream",
     "text": [
      "ic| len(gtsrb_normal_train_loader): 7120\n",
      "ic| len(gtsrb_normal_valid_loader): 3609\n"
     ]
    },
    {
     "name": "stderr",
     "output_type": "stream",
     "text": [
      "ic| len(gtsrb_normal_test_loader): 1273\n"
     ]
    }
   ],
   "source": [
    "gtsrb_normal_train_loader = gtsrb_normal_dm.train_dataloader()\n",
    "gtsrb_normal_valid_loader = gtsrb_normal_dm.val_dataloader()\n",
    "gtsrb_normal_test_loader = gtsrb_normal_dm.test_dataloader()\n",
    "ic(len(gtsrb_normal_train_loader));\n",
    "ic(len(gtsrb_normal_valid_loader));\n",
    "ic(len(gtsrb_normal_test_loader));"
   ]
  },
  {
   "cell_type": "code",
   "execution_count": 37,
   "metadata": {},
   "outputs": [],
   "source": [
    "dataiter = iter(gtsrb_normal_train_loader)"
   ]
  },
  {
   "cell_type": "code",
   "execution_count": 38,
   "metadata": {},
   "outputs": [
    {
     "name": "stdout",
     "output_type": "stream",
     "text": [
      "Speed limit (70km/h)\n"
     ]
    },
    {
     "data": {
      "image/png": "[encoded data removed]",
      "text/plain": [
       "<Figure size 100x100 with 1 Axes>"
      ]
     },
     "metadata": {},
     "output_type": "display_data"
    }
   ],
   "source": [
    "samp, lbl = dataiter.next()\n",
    "lbl_np = lbl[0].cpu().numpy()\n",
    "print(gtsrb_normal_dm.idx2label[lbl_np.item()])\n",
    "gtsrb_normal_dm.unprocess_image(samp[0], plot=True)"
   ]
  },
  {
   "attachments": {},
   "cell_type": "markdown",
   "metadata": {},
   "source": [
    "## GTSRB-Anomalies"
   ]
  },
  {
   "cell_type": "code",
   "execution_count": 22,
   "metadata": {},
   "outputs": [],
   "source": [
    "gtsrb_anomal_dm = GtsrbModule(img_size=(128, 128), data_path=gtsrb_dataset_path, batch_size=1, anomaly_transforms=True, shuffle=True)"
   ]
  },
  {
   "cell_type": "code",
   "execution_count": 23,
   "metadata": {},
   "outputs": [],
   "source": [
    "gtsrb_anomal_dm.setup(stage='fit')\n",
    "gtsrb_anomal_dm.setup(stage='validate')\n",
    "gtsrb_anomal_dm.setup(stage='test')"
   ]
  },
  {
   "cell_type": "code",
   "execution_count": 24,
   "metadata": {},
   "outputs": [
    {
     "name": "stderr",
     "output_type": "stream",
     "text": [
      "ic| len(gtsrb_anomal_train_loader): 35600"
     ]
    },
    {
     "name": "stderr",
     "output_type": "stream",
     "text": [
      "\n",
      "ic| len(gtsrb_anomal_valid_loader): 3609\n",
      "ic| len(gtsrb_anomal_test_loader): 1273\n"
     ]
    }
   ],
   "source": [
    "gtsrb_anomal_train_loader = gtsrb_anomal_dm.train_dataloader()\n",
    "gtsrb_anomal_valid_loader = gtsrb_anomal_dm.val_dataloader()\n",
    "gtsrb_anomal_test_loader = gtsrb_anomal_dm.test_dataloader()\n",
    "ic(len(gtsrb_anomal_train_loader));\n",
    "ic(len(gtsrb_anomal_valid_loader));\n",
    "ic(len(gtsrb_anomal_test_loader));"
   ]
  },
  {
   "cell_type": "code",
   "execution_count": 25,
   "metadata": {},
   "outputs": [],
   "source": [
    "dataiter_anomal = iter(gtsrb_anomal_train_loader)"
   ]
  },
  {
   "cell_type": "code",
   "execution_count": 52,
   "metadata": {},
   "outputs": [
    {
     "name": "stdout",
     "output_type": "stream",
     "text": [
      "Priority road\n"
     ]
    },
    {
     "data": {
      "image/png": "[encoded data removed]",
      "text/plain": [
       "<Figure size 100x100 with 1 Axes>"
      ]
     },
     "metadata": {},
     "output_type": "display_data"
    }
   ],
   "source": [
    "samp, lbl = dataiter_anomal.next()\n",
    "lbl_np = lbl[0].cpu().numpy()\n",
    "print(gtsrb_anomal_dm.idx2label[lbl_np.item()])\n",
    "gtsrb_anomal_dm.unprocess_image(samp[0], plot=True)"
   ]
  },
  {
   "attachments": {},
   "cell_type": "markdown",
   "metadata": {},
   "source": [
    "## CIFAR-10 OoD"
   ]
  },
  {
   "cell_type": "code",
   "execution_count": 53,
   "metadata": {},
   "outputs": [],
   "source": [
    "cifar10_dm = CIFAR10DataModule(data_dir=cifar10_data_path,\n",
    "                               val_split=0.2,\n",
    "                               num_workers=10,\n",
    "                               normalize=True,\n",
    "                               batch_size=1,\n",
    "                               seed=10,\n",
    "                               drop_last=True,\n",
    "                               shuffle=True)\n",
    "\n",
    "cifar10_transforms = transform_lib.Compose([\n",
    "    transform_lib.Resize((128, 128)),\n",
    "    transform_lib.ToTensor(),\n",
    "    transform_lib.Normalize(\n",
    "        mean=[0.3337, 0.3064, 0.3171],\n",
    "        std=[0.2672, 0.2564, 0.2629]\n",
    "    )\n",
    "])\n",
    "\n",
    "cifar10_dm.train_transforms = cifar10_transforms\n",
    "cifar10_dm.test_transforms = cifar10_transforms\n",
    "cifar10_dm.val_transforms  = cifar10_transforms"
   ]
  },
  {
   "cell_type": "code",
   "execution_count": 102,
   "metadata": {},
   "outputs": [
    {
     "name": "stdout",
     "output_type": "stream",
     "text": [
      "Files already downloaded and verified\n",
      "Files already downloaded and verified\n"
     ]
    }
   ],
   "source": [
    "cifar10_dm.prepare_data()"
   ]
  },
  {
   "cell_type": "code",
   "execution_count": 54,
   "metadata": {},
   "outputs": [],
   "source": [
    "cifar10_dm.setup(stage='fit')\n",
    "cifar10_dm.setup(stage='test')"
   ]
  },
  {
   "cell_type": "code",
   "execution_count": 55,
   "metadata": {},
   "outputs": [
    {
     "name": "stderr",
     "output_type": "stream",
     "text": [
      "ic| len(cifar10_train_loader): 40000\n",
      "ic| len(cifar10_valid_loader): 10000"
     ]
    },
    {
     "name": "stderr",
     "output_type": "stream",
     "text": [
      "\n",
      "ic| len(cifar10_test_loader): 10000\n"
     ]
    }
   ],
   "source": [
    "cifar10_train_loader = cifar10_dm.train_dataloader()\n",
    "cifar10_valid_loader = cifar10_dm.val_dataloader()\n",
    "cifar10_test_loader = cifar10_dm.test_dataloader()\n",
    "ic(len(cifar10_train_loader));\n",
    "ic(len(cifar10_valid_loader));\n",
    "ic(len(cifar10_test_loader));"
   ]
  },
  {
   "cell_type": "code",
   "execution_count": 56,
   "metadata": {},
   "outputs": [],
   "source": [
    "def unprocess_cifar10_image(im,\n",
    "                            norm_mean=[x / 255.0 for x in [125.3, 123.0, 113.9]],\n",
    "                            norm_std=[x / 255.0 for x in [63.0, 62.1, 66.7]], \n",
    "                            plot=False):\n",
    "    # im = im.squeeze().numpy().transpose((1, 2, 0))\n",
    "    norm_mean = np.array(norm_mean)\n",
    "    norm_std = np.array(norm_std)\n",
    "    im = im.squeeze().numpy().transpose((1, 2, 0))\n",
    "    im = norm_std * im + norm_mean\n",
    "    im = np.clip(im, 0, 1)\n",
    "    im = im * 255\n",
    "    im = Image.fromarray(im.astype(np.uint8))\n",
    "\n",
    "    if plot:\n",
    "        plt.rcParams['figure.figsize'] = [2.54/2.54, 2.54/2.54]\n",
    "        plt.imshow(im)\n",
    "        plt.xticks([])\n",
    "        plt.yticks([])\n",
    "        plt.show()\n",
    "    else:\n",
    "        return im"
   ]
  },
  {
   "cell_type": "code",
   "execution_count": 57,
   "metadata": {},
   "outputs": [],
   "source": [
    "dataiter = iter(cifar10_train_loader)"
   ]
  },
  {
   "cell_type": "code",
   "execution_count": 58,
   "metadata": {},
   "outputs": [
    {
     "data": {
      "image/png": "[encoded data removed]",
      "text/plain": [
       "<Figure size 100x100 with 1 Axes>"
      ]
     },
     "metadata": {},
     "output_type": "display_data"
    }
   ],
   "source": [
    "samp, lbl = dataiter.next()\n",
    "lbl_np = lbl[0].cpu().numpy()\n",
    "unprocess_cifar10_image(samp[0], norm_mean=[0.3337, 0.3064, 0.3171], norm_std=[0.2672, 0.2564, 0.2629], plot=True)"
   ]
  },
  {
   "attachments": {},
   "cell_type": "markdown",
   "metadata": {},
   "source": [
    "## STL-10 OoD"
   ]
  },
  {
   "cell_type": "code",
   "execution_count": 59,
   "metadata": {},
   "outputs": [],
   "source": [
    "stl10_dm = STL10DataModule(data_dir=stl10_data_path,\n",
    "                           train_val_split=3000,\n",
    "                           num_workers=10,\n",
    "                           batch_size=1,\n",
    "                           seed=10,\n",
    "                           drop_last=True,\n",
    "                           shuffle=True)\n",
    "\n",
    "stl10_transforms = transform_lib.Compose([\n",
    "    transform_lib.Resize((128, 128)),\n",
    "    transform_lib.ToTensor(),\n",
    "    transform_lib.Normalize(\n",
    "        mean=(0.3337, 0.3064, 0.3171),\n",
    "        std=(0.2672, 0.2564, 0.2629)\n",
    "    )\n",
    "])\n",
    "\n",
    "stl10_dm.train_transforms = stl10_transforms\n",
    "stl10_dm.test_transforms = stl10_transforms\n",
    "stl10_dm.val_transforms  = stl10_transforms"
   ]
  },
  {
   "cell_type": "code",
   "execution_count": 132,
   "metadata": {},
   "outputs": [
    {
     "name": "stdout",
     "output_type": "stream",
     "text": [
      "Files already downloaded and verified\n",
      "Files already downloaded and verified\n",
      "Files already downloaded and verified\n"
     ]
    }
   ],
   "source": [
    "stl10_dm.prepare_data()"
   ]
  },
  {
   "cell_type": "code",
   "execution_count": 60,
   "metadata": {},
   "outputs": [
    {
     "name": "stderr",
     "output_type": "stream",
     "text": [
      "ic| len(stl10_train_loader): 2000\n",
      "ic| len(stl10_valid_loader): 3000\n",
      "ic| len(stl10_test_loader): 8000\n"
     ]
    }
   ],
   "source": [
    "stl10_train_loader = stl10_dm.train_dataloader_labeled()\n",
    "stl10_valid_loader = stl10_dm.val_dataloader_labeled()\n",
    "stl10_test_loader = stl10_dm.test_dataloader()\n",
    "ic(len(stl10_train_loader));\n",
    "ic(len(stl10_valid_loader));\n",
    "ic(len(stl10_test_loader));"
   ]
  },
  {
   "cell_type": "code",
   "execution_count": 61,
   "metadata": {},
   "outputs": [],
   "source": [
    "def unprocess_stl10_image(im,\n",
    "                          norm_mean=[0.43, 0.42, 0.39],\n",
    "                          norm_std=[0.27, 0.26, 0.27], \n",
    "                          plot=False):\n",
    "\n",
    "    norm_mean = np.array(norm_mean)\n",
    "    norm_std = np.array(norm_std)\n",
    "    im = im.squeeze().numpy().transpose((1, 2, 0))\n",
    "    im = norm_std * im + norm_mean\n",
    "    im = np.clip(im, 0, 1)\n",
    "    im = im * 255\n",
    "    im = Image.fromarray(im.astype(np.uint8))\n",
    "\n",
    "    if plot:\n",
    "        plt.rcParams['figure.figsize'] = [2.54/2.54, 2.54/2.54]\n",
    "        plt.imshow(im)\n",
    "        plt.xticks([])\n",
    "        plt.yticks([])\n",
    "        plt.show()\n",
    "    else:\n",
    "        return im"
   ]
  },
  {
   "cell_type": "code",
   "execution_count": 62,
   "metadata": {},
   "outputs": [],
   "source": [
    "dataiter = iter(stl10_train_loader)"
   ]
  },
  {
   "cell_type": "code",
   "execution_count": 63,
   "metadata": {},
   "outputs": [
    {
     "data": {
      "image/png": "[encoded data removed]",
      "text/plain": [
       "<Figure size 100x100 with 1 Axes>"
      ]
     },
     "metadata": {},
     "output_type": "display_data"
    }
   ],
   "source": [
    "samp, lbl = dataiter.next()\n",
    "lbl_np = lbl[0].cpu().numpy()\n",
    "unprocess_stl10_image(samp[0], norm_mean=[0.3337, 0.3064, 0.3171], norm_std=[0.2672, 0.2564, 0.2629], plot=True)"
   ]
  },
  {
   "attachments": {},
   "cell_type": "markdown",
   "metadata": {},
   "source": [
    "# GTSRB ResNet18 Classifier"
   ]
  },
  {
   "cell_type": "code",
   "execution_count": 64,
   "metadata": {},
   "outputs": [],
   "source": [
    "gtsrb_model = ResnetModule.load_from_checkpoint(checkpoint_path=gtsrb_resnet18_model_path)"
   ]
  },
  {
   "cell_type": "code",
   "execution_count": 65,
   "metadata": {},
   "outputs": [],
   "source": [
    "gtsrb_model;"
   ]
  },
  {
   "cell_type": "code",
   "execution_count": 66,
   "metadata": {},
   "outputs": [],
   "source": [
    "gtsrb_model.eval();"
   ]
  },
  {
   "attachments": {},
   "cell_type": "markdown",
   "metadata": {},
   "source": [
    "# Add Hook\n",
    "\n",
    "We add 2 Hooks:\n",
    "\n",
    "1. In the dropblock2d layer (after applying dropout to the)\n",
    "2. In the fc (after applying a linear transformation to the output of the dropblock2d layer)"
   ]
  },
  {
   "cell_type": "code",
   "execution_count": 67,
   "metadata": {},
   "outputs": [
    {
     "name": "stderr",
     "output_type": "stream",
     "text": [
      "ic| gtsrb_model.model.dropblock2d_layer: DropBlock2D()\n",
      "ic| gtsrb_model.model.dropblock2d_layer.drop_prob: 0.8\n",
      "ic| gtsrb_model.model.dropblock2d_layer.block_size: 6\n",
      "ic| gtsrb_model.model.dropblock2d_layer.training: False\n",
      "ic| '==========================='\n",
      "ic| gtsrb_model.model.dropout_layer: Dropout(p=0.3, inplace=False)\n",
      "ic| gtsrb_model.model.dropout_layer.p: 0.3\n",
      "ic| gtsrb_model.model.dropout_layer.training: False\n"
     ]
    }
   ],
   "source": [
    "ic(gtsrb_model.model.dropblock2d_layer);\n",
    "ic(gtsrb_model.model.dropblock2d_layer.drop_prob);\n",
    "ic(gtsrb_model.model.dropblock2d_layer.block_size);\n",
    "ic(gtsrb_model.model.dropblock2d_layer.training);\n",
    "ic(\"===========================\")\n",
    "ic(gtsrb_model.model.dropout_layer);\n",
    "ic(gtsrb_model.model.dropout_layer.p);\n",
    "ic(gtsrb_model.model.dropout_layer.training);"
   ]
  },
  {
   "attachments": {},
   "cell_type": "markdown",
   "metadata": {},
   "source": [
    "## Hook DropBlock2D Layer"
   ]
  },
  {
   "cell_type": "code",
   "execution_count": 68,
   "metadata": {},
   "outputs": [],
   "source": [
    "gtsrb_model_dropblock2d_layer_hook = Hook(gtsrb_model.model.dropblock2d_layer)"
   ]
  },
  {
   "cell_type": "code",
   "execution_count": 69,
   "metadata": {},
   "outputs": [
    {
     "name": "stderr",
     "output_type": "stream",
     "text": [
      "ic| gtsrb_model.model.dropblock2d_layer._forward_hooks: OrderedDict("
     ]
    },
    {
     "name": "stderr",
     "output_type": "stream",
     "text": [
      "[(2,\n",
      "                                                                      <bound method Hook.hook_fn of <ls_ood_detect_cea.uncertainty_estimation.Hook object at 0x7f3b3cfb7850>>)])\n"
     ]
    }
   ],
   "source": [
    "ic(gtsrb_model.model.dropblock2d_layer._forward_hooks);"
   ]
  },
  {
   "attachments": {},
   "cell_type": "markdown",
   "metadata": {},
   "source": [
    "# Get Monte-Carlo Samples"
   ]
  },
  {
   "cell_type": "code",
   "execution_count": 70,
   "metadata": {},
   "outputs": [],
   "source": [
    "# Monte Carlo Dropout - Enable Dropout @ Test Time!\n",
    "def resnet18_enable_dropblock2d_test(m):\n",
    "    if type(m) == DropBlock2D:\n",
    "        m.train()"
   ]
  },
  {
   "cell_type": "code",
   "execution_count": 71,
   "metadata": {},
   "outputs": [],
   "source": [
    "mc_samples = 16"
   ]
  },
  {
   "cell_type": "code",
   "execution_count": 72,
   "metadata": {},
   "outputs": [],
   "source": [
    "gtsrb_model.to(device);\n",
    "gtsrb_model.eval(); \n",
    "gtsrb_model.apply(resnet18_enable_dropblock2d_test); # enable dropout"
   ]
  },
  {
   "cell_type": "code",
   "execution_count": 73,
   "metadata": {},
   "outputs": [
    {
     "name": "stderr",
     "output_type": "stream",
     "text": [
      "ic| gtsrb_model.model.dropblock2d_layer: DropBlock2D()\n",
      "ic| gtsrb_model"
     ]
    },
    {
     "name": "stderr",
     "output_type": "stream",
     "text": [
      ".model.dropblock2d_layer.drop_prob: 0.8\n",
      "ic| gtsrb_model.model.dropblock2d_layer.block_size: 6\n",
      "ic| gtsrb_model.model.dropblock2d_layer.training: True\n",
      "ic| '======='\n",
      "ic| gtsrb_model.model.dropout_layer: Dropout(p=0.3, inplace=False)\n",
      "ic| gtsrb_model.model.dropout_layer.p: 0.3\n",
      "ic| gtsrb_model.model.dropout_layer.training: False\n"
     ]
    }
   ],
   "source": [
    "ic(gtsrb_model.model.dropblock2d_layer);\n",
    "ic(gtsrb_model.model.dropblock2d_layer.drop_prob);\n",
    "ic(gtsrb_model.model.dropblock2d_layer.block_size);\n",
    "ic(gtsrb_model.model.dropblock2d_layer.training);\n",
    "ic(\"=======\")\n",
    "ic(gtsrb_model.model.dropout_layer);\n",
    "ic(gtsrb_model.model.dropout_layer.p);\n",
    "ic(gtsrb_model.model.dropout_layer.training);"
   ]
  },
  {
   "cell_type": "code",
   "execution_count": 75,
   "metadata": {},
   "outputs": [],
   "source": [
    "gtsrb_resnet_gtsrb_normal_train_16mc_samples = get_latent_represent_mcd_samples(gtsrb_model.model,\n",
    "                                                                                gtsrb_normal_train_loader,\n",
    "                                                                                mc_samples,\n",
    "                                                                                gtsrb_model_dropblock2d_layer_hook,\n",
    "                                                                                get_2d_rep_mean=True)"
   ]
  },
  {
   "cell_type": "code",
   "execution_count": 76,
   "metadata": {},
   "outputs": [],
   "source": [
    "gtsrb_resnet_gtsrb_normal_valid_16mc_samples = get_latent_represent_mcd_samples(gtsrb_model.model,\n",
    "                                                                                gtsrb_normal_valid_loader,\n",
    "                                                                                mc_samples,\n",
    "                                                                                gtsrb_model_dropblock2d_layer_hook,\n",
    "                                                                                get_2d_rep_mean=True)"
   ]
  },
  {
   "cell_type": "code",
   "execution_count": 77,
   "metadata": {},
   "outputs": [],
   "source": [
    "gtsrb_resnet_gtsrb_normal_test_16mc_samples = get_latent_represent_mcd_samples(gtsrb_model.model,\n",
    "                                                                               gtsrb_normal_test_loader,\n",
    "                                                                               mc_samples,\n",
    "                                                                               gtsrb_model_dropblock2d_layer_hook,\n",
    "                                                                               get_2d_rep_mean=True)"
   ]
  },
  {
   "cell_type": "code",
   "execution_count": 78,
   "metadata": {},
   "outputs": [],
   "source": [
    "gtsrb_resnet_gtsrb_anomal_valid_16mc_samples = get_latent_represent_mcd_samples(gtsrb_model.model,\n",
    "                                                                                gtsrb_anomal_valid_loader,\n",
    "                                                                                mc_samples,\n",
    "                                                                                gtsrb_model_dropblock2d_layer_hook,\n",
    "                                                                                get_2d_rep_mean=True)"
   ]
  },
  {
   "cell_type": "code",
   "execution_count": 79,
   "metadata": {},
   "outputs": [],
   "source": [
    "gtsrb_resnet_gtsrb_anomal_test_16mc_samples = get_latent_represent_mcd_samples(gtsrb_model.model,\n",
    "                                                                               gtsrb_anomal_test_loader,\n",
    "                                                                               mc_samples,\n",
    "                                                                               gtsrb_model_dropblock2d_layer_hook,\n",
    "                                                                               get_2d_rep_mean=True)"
   ]
  },
  {
   "cell_type": "code",
   "execution_count": 80,
   "metadata": {},
   "outputs": [],
   "source": [
    "gtsrb_resnet_cifar10_valid_16mc_samples = get_latent_represent_mcd_samples(gtsrb_model.model,\n",
    "                                                                           cifar10_valid_loader,\n",
    "                                                                           mc_samples,\n",
    "                                                                           gtsrb_model_dropblock2d_layer_hook,\n",
    "                                                                           get_2d_rep_mean=True)"
   ]
  },
  {
   "cell_type": "code",
   "execution_count": 81,
   "metadata": {},
   "outputs": [],
   "source": [
    "gtsrb_resnet_cifar10_test_16mc_samples = get_latent_represent_mcd_samples(gtsrb_model.model,\n",
    "                                                                          cifar10_test_loader,\n",
    "                                                                          mc_samples,\n",
    "                                                                          gtsrb_model_dropblock2d_layer_hook,\n",
    "                                                                          get_2d_rep_mean=True)"
   ]
  },
  {
   "cell_type": "code",
   "execution_count": 82,
   "metadata": {},
   "outputs": [],
   "source": [
    "gtsrb_resnet_stl10_valid_16mc_samples = get_latent_represent_mcd_samples(gtsrb_model.model,\n",
    "                                                                         stl10_valid_loader,\n",
    "                                                                         mc_samples,\n",
    "                                                                         gtsrb_model_dropblock2d_layer_hook,\n",
    "                                                                         get_2d_rep_mean=True)"
   ]
  },
  {
   "cell_type": "code",
   "execution_count": 83,
   "metadata": {},
   "outputs": [],
   "source": [
    "gtsrb_resnet_stl10_test_16mc_samples = get_latent_represent_mcd_samples(gtsrb_model.model,\n",
    "                                                                        stl10_test_loader,\n",
    "                                                                        mc_samples,\n",
    "                                                                        gtsrb_model_dropblock2d_layer_hook,\n",
    "                                                                        get_2d_rep_mean=True)"
   ]
  },
  {
   "cell_type": "code",
   "execution_count": 84,
   "metadata": {},
   "outputs": [
    {
     "data": {
      "text/plain": [
       "'/media/farnez/Data/EXPERIMENTS/ICLR-2024/gtsrb-classification/resnet18_model_2/embeddings_z/mc_samples/'"
      ]
     },
     "execution_count": 84,
     "metadata": {},
     "output_type": "execute_result"
    }
   ],
   "source": [
    "mc_samples_path"
   ]
  },
  {
   "cell_type": "code",
   "execution_count": 85,
   "metadata": {},
   "outputs": [],
   "source": [
    "torch.save(gtsrb_resnet_gtsrb_normal_train_16mc_samples,\n",
    "           mc_samples_path + \"gtsrb_resnet_gtsrb_normal_train_16mc_samples.pt\")"
   ]
  },
  {
   "cell_type": "code",
   "execution_count": 86,
   "metadata": {},
   "outputs": [],
   "source": [
    "torch.save(gtsrb_resnet_gtsrb_normal_valid_16mc_samples,\n",
    "           mc_samples_path + 'gtsrb_resnet_gtsrb_normal_valid_16mc_samples.pt')\n",
    "torch.save(gtsrb_resnet_gtsrb_normal_test_16mc_samples,\n",
    "           mc_samples_path + 'gtsrb_resnet_gtsrb_normal_test_16mc_samples.pt')"
   ]
  },
  {
   "cell_type": "code",
   "execution_count": 87,
   "metadata": {},
   "outputs": [],
   "source": [
    "torch.save(gtsrb_resnet_gtsrb_anomal_valid_16mc_samples,\n",
    "           mc_samples_path + 'gtsrb_resnet_gtsrb_anomal_valid_16mc_samples.pt')\n",
    "torch.save(gtsrb_resnet_gtsrb_anomal_test_16mc_samples,\n",
    "           mc_samples_path + 'gtsrb_resnet_gtsrb_anomal_test_16mc_samples.pt')"
   ]
  },
  {
   "cell_type": "code",
   "execution_count": 88,
   "metadata": {},
   "outputs": [],
   "source": [
    "torch.save(gtsrb_resnet_cifar10_valid_16mc_samples,\n",
    "           mc_samples_path + 'gtsrb_resnet_cifar10_valid_16mc_samples.pt')\n",
    "torch.save(gtsrb_resnet_cifar10_test_16mc_samples,\n",
    "           mc_samples_path + 'gtsrb_resnet_cifar10_test_16mc_samples.pt')"
   ]
  },
  {
   "cell_type": "code",
   "execution_count": 89,
   "metadata": {},
   "outputs": [],
   "source": [
    "torch.save(gtsrb_resnet_stl10_valid_16mc_samples,\n",
    "           mc_samples_path + 'gtsrb_resnet_stl10_valid_16mc_samples.pt')\n",
    "torch.save(gtsrb_resnet_stl10_test_16mc_samples,\n",
    "           mc_samples_path + 'gtsrb_resnet_stl10_test_16mc_samples.pt')"
   ]
  },
  {
   "attachments": {},
   "cell_type": "markdown",
   "metadata": {},
   "source": [
    "# Get Entropy"
   ]
  },
  {
   "cell_type": "code",
   "execution_count": 90,
   "metadata": {},
   "outputs": [
    {
     "name": "stderr",
     "output_type": "stream",
     "text": [
      "ic| dl_h_mvn_z_samples_np.shape: (7120, 1)\n",
      "ic| dl_h_z_samples_np.shape: (7120, 128)\n"
     ]
    }
   ],
   "source": [
    "_, gtsrb_rn18_h_z_gtsrb_normal_train_samples_np = get_dl_h_z(gtsrb_resnet_gtsrb_normal_train_16mc_samples, mcd_samples_nro=mc_samples)"
   ]
  },
  {
   "cell_type": "code",
   "execution_count": 91,
   "metadata": {},
   "outputs": [
    {
     "name": "stderr",
     "output_type": "stream",
     "text": [
      "ic| dl_h_mvn_z_samples_np.shape: (3609, 1)\n",
      "ic| dl_h_z_samples_np.shape: (3609, 128)\n"
     ]
    }
   ],
   "source": [
    "_, gtsrb_rn18_h_z_gtsrb_normal_valid_samples_np = get_dl_h_z(gtsrb_resnet_gtsrb_normal_valid_16mc_samples, mcd_samples_nro=mc_samples)"
   ]
  },
  {
   "cell_type": "code",
   "execution_count": 92,
   "metadata": {},
   "outputs": [
    {
     "name": "stderr",
     "output_type": "stream",
     "text": [
      "ic| dl_h_mvn_z_samples_np.shape: (1273, 1)\n",
      "ic| dl_h_z_samples_np.shape: (1273, 128)\n"
     ]
    }
   ],
   "source": [
    "_, gtsrb_rn18_h_z_gtsrb_normal_test_samples_np = get_dl_h_z(gtsrb_resnet_gtsrb_normal_test_16mc_samples, mcd_samples_nro=mc_samples)"
   ]
  },
  {
   "cell_type": "code",
   "execution_count": 93,
   "metadata": {},
   "outputs": [
    {
     "name": "stderr",
     "output_type": "stream",
     "text": [
      "ic| dl_h_mvn_z_samples_np.shape: (3609, 1)\n",
      "ic| dl_h_z_samples_np.shape: (3609, 128)\n"
     ]
    }
   ],
   "source": [
    "_, gtsrb_rn18_h_z_gtsrb_anomal_valid_samples_np = get_dl_h_z(gtsrb_resnet_gtsrb_anomal_valid_16mc_samples, mcd_samples_nro=mc_samples)"
   ]
  },
  {
   "cell_type": "code",
   "execution_count": 94,
   "metadata": {},
   "outputs": [
    {
     "name": "stderr",
     "output_type": "stream",
     "text": [
      "ic| dl_h_mvn_z_samples_np.shape: (1273, 1)\n",
      "ic| dl_h_z_samples_np.shape: (1273, 128)\n"
     ]
    }
   ],
   "source": [
    "_, gtsrb_rn18_h_z_gtsrb_anomal_test_samples_np = get_dl_h_z(gtsrb_resnet_gtsrb_anomal_test_16mc_samples, mcd_samples_nro=mc_samples)"
   ]
  },
  {
   "cell_type": "code",
   "execution_count": 95,
   "metadata": {},
   "outputs": [
    {
     "name": "stderr",
     "output_type": "stream",
     "text": [
      "ic| dl_h_mvn_z_samples_np.shape: (10000, 1)\n",
      "ic| dl_h_z_samples_np.shape: (10000, 128)\n"
     ]
    }
   ],
   "source": [
    "_, gtsrb_rn18_h_z_cifar10_valid_samples_np = get_dl_h_z(gtsrb_resnet_cifar10_valid_16mc_samples, mcd_samples_nro=mc_samples)"
   ]
  },
  {
   "cell_type": "code",
   "execution_count": 96,
   "metadata": {},
   "outputs": [
    {
     "name": "stderr",
     "output_type": "stream",
     "text": [
      "ic| dl_h_mvn_z_samples_np.shape: (10000, 1)\n",
      "ic| dl_h_z_samples_np.shape: (10000, 128)\n"
     ]
    }
   ],
   "source": [
    "_, gtsrb_rn18_h_z_cifar10_test_samples_np = get_dl_h_z(gtsrb_resnet_cifar10_test_16mc_samples, mcd_samples_nro=mc_samples)"
   ]
  },
  {
   "cell_type": "code",
   "execution_count": 97,
   "metadata": {},
   "outputs": [
    {
     "name": "stderr",
     "output_type": "stream",
     "text": [
      "ic| dl_h_mvn_z_samples_np.shape: (3000, 1)\n",
      "ic| dl_h_z_samples_np.shape: (3000, 128)\n"
     ]
    }
   ],
   "source": [
    "_, gtsrb_rn18_h_z_stl10_valid_samples_np = get_dl_h_z(gtsrb_resnet_stl10_valid_16mc_samples, mcd_samples_nro=mc_samples)"
   ]
  },
  {
   "cell_type": "code",
   "execution_count": 98,
   "metadata": {},
   "outputs": [
    {
     "name": "stderr",
     "output_type": "stream",
     "text": [
      "ic| dl_h_mvn_z_samples_np.shape: (8000, 1)\n",
      "ic| dl_h_z_samples_np.shape: (8000, 128)\n"
     ]
    }
   ],
   "source": [
    "_, gtsrb_rn18_h_z_stl10_test_samples_np = get_dl_h_z(gtsrb_resnet_stl10_test_16mc_samples, mcd_samples_nro=mc_samples)"
   ]
  },
  {
   "cell_type": "code",
   "execution_count": 99,
   "metadata": {},
   "outputs": [],
   "source": [
    "np.save(h_z_path + 'gtsrb_rn18_h_z_gtsrb_normal_train_samples_np',\n",
    "        gtsrb_rn18_h_z_gtsrb_normal_train_samples_np)\n",
    "np.save(h_z_path + 'gtsrb_rn18_h_z_gtsrb_normal_valid_samples_np',\n",
    "        gtsrb_rn18_h_z_gtsrb_normal_valid_samples_np)\n",
    "np.save(h_z_path + 'gtsrb_rn18_h_z_gtsrb_normal_test_samples_np',\n",
    "        gtsrb_rn18_h_z_gtsrb_normal_test_samples_np)\n",
    "\n",
    "np.save(h_z_path + 'gtsrb_rn18_h_z_gtsrb_anomal_valid_samples_np',\n",
    "        gtsrb_rn18_h_z_gtsrb_anomal_valid_samples_np)\n",
    "np.save(h_z_path + 'gtsrb_rn18_h_z_gtsrb_anomal_test_samples_np',\n",
    "        gtsrb_rn18_h_z_gtsrb_anomal_test_samples_np)\n",
    "\n",
    "np.save(h_z_path + 'gtsrb_rn18_h_z_cifar10_valid_samples_np',\n",
    "        gtsrb_rn18_h_z_cifar10_valid_samples_np)\n",
    "np.save(h_z_path + 'gtsrb_rn18_h_z_cifar10_test_samples_np',\n",
    "        gtsrb_rn18_h_z_cifar10_test_samples_np)\n",
    "\n",
    "np.save(h_z_path + 'gtsrb_rn18_h_z_stl10_valid_samples_np',\n",
    "        gtsrb_rn18_h_z_stl10_valid_samples_np)\n",
    "np.save(h_z_path + 'gtsrb_rn18_h_z_stl10_test_samples_np',\n",
    "        gtsrb_rn18_h_z_stl10_test_samples_np)"
   ]
  },
  {
   "attachments": {},
   "cell_type": "markdown",
   "metadata": {},
   "source": [
    "# Load Entropy Values"
   ]
  },
  {
   "cell_type": "code",
   "execution_count": 101,
   "metadata": {},
   "outputs": [],
   "source": [
    "gtsrb_rn18_h_z_gtsrb_normal_train_samples_np = np.load(h_z_path + 'gtsrb_rn18_h_z_gtsrb_normal_train_samples_np.npy')\n",
    "gtsrb_rn18_h_z_gtsrb_normal_valid_samples_np = np.load(h_z_path + 'gtsrb_rn18_h_z_gtsrb_normal_valid_samples_np.npy')\n",
    "gtsrb_rn18_h_z_gtsrb_normal_test_samples_np = np.load(h_z_path + 'gtsrb_rn18_h_z_gtsrb_normal_test_samples_np.npy')\n",
    "\n",
    "gtsrb_rn18_h_z_gtsrb_anomal_valid_samples_np = np.load(h_z_path + 'gtsrb_rn18_h_z_gtsrb_anomal_valid_samples_np.npy')\n",
    "gtsrb_rn18_h_z_gtsrb_anomal_test_samples_np = np.load(h_z_path + 'gtsrb_rn18_h_z_gtsrb_anomal_test_samples_np.npy')\n",
    "\n",
    "gtsrb_rn18_h_z_cifar10_valid_samples_np = np.load(h_z_path + 'gtsrb_rn18_h_z_cifar10_valid_samples_np.npy')\n",
    "gtsrb_rn18_h_z_cifar10_test_samples_np = np.load(h_z_path + 'gtsrb_rn18_h_z_cifar10_test_samples_np.npy')\n",
    "\n",
    "gtsrb_rn18_h_z_stl10_valid_samples_np = np.load(h_z_path + 'gtsrb_rn18_h_z_stl10_valid_samples_np.npy')\n",
    "gtsrb_rn18_h_z_stl10_test_samples_np = np.load(h_z_path + 'gtsrb_rn18_h_z_stl10_test_samples_np.npy')"
   ]
  },
  {
   "cell_type": "code",
   "execution_count": 104,
   "metadata": {},
   "outputs": [
    {
     "name": "stderr",
     "output_type": "stream",
     "text": [
      "ic| gtsrb_rn18_h_z_gtsrb_normal_train_samples_np.shape: (7120, 128)\n"
     ]
    },
    {
     "name": "stderr",
     "output_type": "stream",
     "text": [
      "ic| gtsrb_rn18_h_z_gtsrb_normal_valid_samples_np.shape: (3609, 128)\n",
      "ic| gtsrb_rn18_h_z_gtsrb_normal_test_samples_np.shape: (1273, 128)\n",
      "ic| gtsrb_rn18_h_z_gtsrb_anomal_valid_samples_np.shape: (3609, 128)\n",
      "ic| gtsrb_rn18_h_z_gtsrb_anomal_test_samples_np.shape: (1273, 128)\n",
      "ic| gtsrb_rn18_h_z_cifar10_valid_samples_np.shape: (10000, 128)\n",
      "ic| gtsrb_rn18_h_z_cifar10_test_samples_np.shape: (10000, 128)\n",
      "ic| gtsrb_rn18_h_z_stl10_valid_samples_np.shape: (3000, 128)\n",
      "ic| gtsrb_rn18_h_z_stl10_test_samples_np.shape: (8000, 128)\n"
     ]
    }
   ],
   "source": [
    "ic(gtsrb_rn18_h_z_gtsrb_normal_train_samples_np.shape);\n",
    "ic(gtsrb_rn18_h_z_gtsrb_normal_valid_samples_np.shape);\n",
    "ic(gtsrb_rn18_h_z_gtsrb_normal_test_samples_np.shape);\n",
    "ic(gtsrb_rn18_h_z_gtsrb_anomal_valid_samples_np.shape);\n",
    "ic(gtsrb_rn18_h_z_gtsrb_anomal_test_samples_np.shape);\n",
    "ic(gtsrb_rn18_h_z_cifar10_valid_samples_np.shape);\n",
    "ic(gtsrb_rn18_h_z_cifar10_test_samples_np.shape);\n",
    "ic(gtsrb_rn18_h_z_stl10_valid_samples_np.shape);\n",
    "ic(gtsrb_rn18_h_z_stl10_test_samples_np.shape);\n"
   ]
  },
  {
   "cell_type": "code",
   "execution_count": null,
   "metadata": {},
   "outputs": [],
   "source": []
  }
 ],
 "metadata": {
  "kernelspec": {
   "display_name": "Semantic_Segmentation",
   "language": "python",
   "name": "python3"
  },
  "language_info": {
   "codemirror_mode": {
    "name": "ipython",
    "version": 3
   },
   "file_extension": ".py",
   "mimetype": "text/x-python",
   "name": "python",
   "nbconvert_exporter": "python",
   "pygments_lexer": "ipython3",
   "version": "3.7.5"
  },
  "orig_nbformat": 4
 },
 "nbformat": 4,
 "nbformat_minor": 2
}

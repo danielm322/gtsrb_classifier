{
 "cells": [
  {
   "attachments": {},
   "cell_type": "markdown",
   "metadata": {},
   "source": [
    "# General Imports"
   ]
  },
  {
   "cell_type": "code",
   "execution_count": 1,
   "metadata": {},
   "outputs": [],
   "source": [
    "%load_ext autoreload\n",
    "%autoreload 2\n",
    "%reload_ext autoreload"
   ]
  },
  {
   "cell_type": "code",
   "execution_count": 2,
   "metadata": {},
   "outputs": [],
   "source": [
    "%matplotlib inline"
   ]
  },
  {
   "cell_type": "code",
   "execution_count": 3,
   "metadata": {},
   "outputs": [],
   "source": [
    "from collections import namedtuple\n",
    "import numpy as np\n",
    "import matplotlib.pyplot as plt\n",
    "import random\n",
    "import pandas as pd\n",
    "import seaborn as sns\n",
    "from PIL import Image\n",
    "from icecream import ic"
   ]
  },
  {
   "cell_type": "code",
   "execution_count": 4,
   "metadata": {},
   "outputs": [],
   "source": [
    "import torch\n",
    "import pytorch_lightning as pl\n",
    "from pytorch_lightning.callbacks import ModelCheckpoint\n",
    "from torchvision import transforms as transform_lib\n",
    "from pytorch_lightning.callbacks import TQDMProgressBar\n",
    "from torch.utils.data import Dataset\n",
    "from torch.utils.data import DataLoader\n",
    "from torch.utils.data.sampler import SubsetRandomSampler"
   ]
  },
  {
   "cell_type": "code",
   "execution_count": 5,
   "metadata": {},
   "outputs": [],
   "source": [
    "from datasets import GtsrbModule"
   ]
  },
  {
   "cell_type": "code",
   "execution_count": 6,
   "metadata": {},
   "outputs": [],
   "source": [
    "from pl_bolts.datamodules import CIFAR10DataModule\n",
    "from pl_bolts.datamodules import STL10DataModule"
   ]
  },
  {
   "cell_type": "code",
   "execution_count": 7,
   "metadata": {},
   "outputs": [],
   "source": [
    "from models import ResnetModule"
   ]
  },
  {
   "cell_type": "code",
   "execution_count": 8,
   "metadata": {},
   "outputs": [],
   "source": [
    "from dropblock import DropBlock2D, LinearScheduler"
   ]
  },
  {
   "cell_type": "code",
   "execution_count": 9,
   "metadata": {},
   "outputs": [],
   "source": [
    "from ls_ood_detect_cea.uncertainty_estimation import Hook\n",
    "from ls_ood_detect_cea.uncertainty_estimation import deeplabv3p_get_ls_mcd_samples\n",
    "from ls_ood_detect_cea.uncertainty_estimation import get_latent_represent_mcd_samples\n",
    "from ls_ood_detect_cea.uncertainty_estimation import get_dl_h_z\n",
    "from ls_ood_detect_cea.ood_detection_dataset import build_ood_detection_ds\n",
    "from ls_ood_detect_cea.dimensionality_reduction import plot_samples_pacmap\n",
    "from ls_ood_detect_cea.detectors import KDEClassifier\n",
    "from ls_ood_detect_cea.metrics import get_ood_detector_results, plot_roc_ood_detector"
   ]
  },
  {
   "cell_type": "code",
   "execution_count": 191,
   "metadata": {},
   "outputs": [],
   "source": [
    "from ls_ood_detect_cea.metrics import get_hz_detector_results"
   ]
  },
  {
   "cell_type": "code",
   "execution_count": null,
   "metadata": {},
   "outputs": [],
   "source": [
    "from ls_ood_detect_cea.uncertainty_estimation import Hook\n",
    "from ls_ood_detect_cea.uncertainty_estimation import deeplabv3p_get_ls_mcd_samples\n",
    "from ls_ood_detect_cea.uncertainty_estimation import get_latent_represent_mcd_samples\n",
    "from ls_ood_detect_cea.uncertainty_estimation import get_dl_h_z\n",
    "from ls_ood_detect_cea.ood_detection_dataset import build_ood_detection_ds\n",
    "from ls_ood_detect_cea.dimensionality_reduction import plot_samples_pacmap\n",
    "from ls_ood_detect_cea.detectors import KDEClassifier, DetectorKDE\n",
    "from ls_ood_detect_cea.score import get_hz_scores\n",
    "from ls_ood_detect_cea.metrics import get_hz_detector_results\n",
    "from ls_ood_detect_cea.metrics import get_ood_detector_results\n",
    "from ls_ood_detect_cea.metrics import plot_roc_ood_detector\n",
    "from ls_ood_detect_cea.metrics import plot_auprc_ood_detector\n",
    "from ls_ood_detect_cea.dimensionality_reduction import plot_samples_pacmap\n",
    "from ls_ood_detect_cea.dimensionality_reduction import apply_pca_ds_split\n",
    "from ls_ood_detect_cea.dimensionality_reduction import apply_pca_transform"
   ]
  },
  {
   "cell_type": "code",
   "execution_count": 285,
   "metadata": {},
   "outputs": [
    {
     "name": "stdout",
     "output_type": "stream",
     "text": [
      "cuda\n"
     ]
    }
   ],
   "source": [
    "device = torch.device('cuda' if torch.cuda.is_available() else 'cpu')\n",
    "print(device)"
   ]
  },
  {
   "attachments": {},
   "cell_type": "markdown",
   "metadata": {},
   "source": [
    "# Datasets"
   ]
  },
  {
   "attachments": {},
   "cell_type": "markdown",
   "metadata": {},
   "source": [
    "## GTSRB-Normal"
   ]
  },
  {
   "cell_type": "code",
   "execution_count": 11,
   "metadata": {},
   "outputs": [],
   "source": [
    "dataset_path = \"/media/farnez/Data/DATASETS/gtsrb-data/\""
   ]
  },
  {
   "cell_type": "code",
   "execution_count": 12,
   "metadata": {},
   "outputs": [],
   "source": [
    "gtsrb_normal_dm = GtsrbModule(img_size=(128, 128), data_path=dataset_path, batch_size=1, shuffle=False)"
   ]
  },
  {
   "cell_type": "code",
   "execution_count": 13,
   "metadata": {},
   "outputs": [],
   "source": [
    "gtsrb_normal_dm.setup(stage='fit')\n",
    "gtsrb_normal_dm.setup(stage='validate')\n",
    "gtsrb_normal_dm.setup(stage='test')"
   ]
  },
  {
   "cell_type": "code",
   "execution_count": 14,
   "metadata": {},
   "outputs": [
    {
     "name": "stderr",
     "output_type": "stream",
     "text": [
      "ic| len(samples_idx): 7120\n"
     ]
    }
   ],
   "source": [
    "gtsrb_ds_len = len(gtsrb_normal_dm.ds_gtsrb_train)\n",
    "indices_train_dl = list(range(gtsrb_ds_len))\n",
    "samples_size = 0.2 # of the dataset\n",
    "\n",
    "random.seed(9290)\n",
    "random.shuffle(indices_train_dl)\n",
    "\n",
    "split = int(np.floor(gtsrb_ds_len * samples_size))\n",
    "samples_idx = indices_train_dl[:split]\n",
    "ic(len(samples_idx));\n",
    "\n",
    "train_sampler = SubsetRandomSampler(samples_idx)\n",
    "\n",
    "gtsrb_normal_dm.shuffle = False\n",
    "gtsrb_normal_dm.ds_gtsrb_train_sampler = train_sampler"
   ]
  },
  {
   "cell_type": "code",
   "execution_count": 15,
   "metadata": {},
   "outputs": [
    {
     "name": "stderr",
     "output_type": "stream",
     "text": [
      "ic| len(gtsrb_normal_train_loader): 7120\n",
      "ic| len(gtsrb_normal_valid_loader): 3609\n",
      "ic| len(gtsrb_normal_test_loader): 1273\n"
     ]
    }
   ],
   "source": [
    "gtsrb_normal_train_loader = gtsrb_normal_dm.train_dataloader()\n",
    "gtsrb_normal_valid_loader = gtsrb_normal_dm.val_dataloader()\n",
    "gtsrb_normal_test_loader = gtsrb_normal_dm.test_dataloader()\n",
    "ic(len(gtsrb_normal_train_loader));\n",
    "ic(len(gtsrb_normal_valid_loader));\n",
    "ic(len(gtsrb_normal_test_loader));"
   ]
  },
  {
   "cell_type": "code",
   "execution_count": 16,
   "metadata": {},
   "outputs": [],
   "source": [
    "dataiter = iter(gtsrb_normal_train_loader)"
   ]
  },
  {
   "cell_type": "code",
   "execution_count": 26,
   "metadata": {},
   "outputs": [
    {
     "name": "stdout",
     "output_type": "stream",
     "text": [
      "Speed limit (70km/h)\n"
     ]
    },
    {
     "data": {
      "image/png": "[encoded data removed]",
      "text/plain": [
       "<Figure size 100x100 with 1 Axes>"
      ]
     },
     "metadata": {},
     "output_type": "display_data"
    }
   ],
   "source": [
    "samp, lbl = dataiter.next()\n",
    "lbl_np = lbl[0].cpu().numpy()\n",
    "print(gtsrb_normal_dm.idx2label[lbl_np.item()])\n",
    "gtsrb_normal_dm.unprocess_image(samp[0], plot=True)"
   ]
  },
  {
   "cell_type": "code",
   "execution_count": 27,
   "metadata": {},
   "outputs": [
    {
     "name": "stderr",
     "output_type": "stream",
     "text": [
      "ic| samp.shape: torch.Size([1, 3, 128, 128])\n"
     ]
    },
    {
     "data": {
      "text/plain": [
       "torch.Size([1, 3, 128, 128])"
      ]
     },
     "execution_count": 27,
     "metadata": {},
     "output_type": "execute_result"
    }
   ],
   "source": [
    "ic(samp.shape)"
   ]
  },
  {
   "attachments": {},
   "cell_type": "markdown",
   "metadata": {},
   "source": [
    "## GTSRB-Anomalies"
   ]
  },
  {
   "cell_type": "code",
   "execution_count": 28,
   "metadata": {},
   "outputs": [],
   "source": [
    "dataset_path = \"/media/farnez/Data/DATASETS/gtsrb-data/\""
   ]
  },
  {
   "cell_type": "code",
   "execution_count": 29,
   "metadata": {},
   "outputs": [],
   "source": [
    "gtsrb_anomal_dm = GtsrbModule(img_size=(128, 128), data_path=dataset_path, batch_size=1, anomaly_transforms=True, shuffle=True)"
   ]
  },
  {
   "cell_type": "code",
   "execution_count": 30,
   "metadata": {},
   "outputs": [],
   "source": [
    "gtsrb_anomal_dm.setup(stage='fit')\n",
    "gtsrb_anomal_dm.setup(stage='validate')\n",
    "gtsrb_anomal_dm.setup(stage='test')\n",
    "# print(gtsrb_anomal_dm.ds_gtsrb_train)\n",
    "# print(gtsrb_anomal_dm.ds_gtsrb_valid)\n",
    "# print(gtsrb_anomal_dm.ds_gtsrb_test)"
   ]
  },
  {
   "cell_type": "code",
   "execution_count": 31,
   "metadata": {},
   "outputs": [
    {
     "name": "stderr",
     "output_type": "stream",
     "text": [
      "ic| len(gtsrb_anomal_train_loader): 35600\n"
     ]
    },
    {
     "name": "stderr",
     "output_type": "stream",
     "text": [
      "ic| len(gtsrb_anomal_valid_loader): 3609\n",
      "ic| len(gtsrb_anomal_test_loader): 1273\n"
     ]
    }
   ],
   "source": [
    "gtsrb_anomal_train_loader = gtsrb_anomal_dm.train_dataloader()\n",
    "gtsrb_anomal_valid_loader = gtsrb_anomal_dm.val_dataloader()\n",
    "gtsrb_anomal_test_loader = gtsrb_anomal_dm.test_dataloader()\n",
    "ic(len(gtsrb_anomal_train_loader));\n",
    "ic(len(gtsrb_anomal_valid_loader));\n",
    "ic(len(gtsrb_anomal_test_loader));"
   ]
  },
  {
   "cell_type": "code",
   "execution_count": 32,
   "metadata": {},
   "outputs": [],
   "source": [
    "dataiter_anomal = iter(gtsrb_anomal_train_loader)"
   ]
  },
  {
   "cell_type": "code",
   "execution_count": 67,
   "metadata": {},
   "outputs": [
    {
     "name": "stdout",
     "output_type": "stream",
     "text": [
      "Traffic signals\n"
     ]
    },
    {
     "data": {
      "image/png": "[encoded data removed]",
      "text/plain": [
       "<Figure size 100x100 with 1 Axes>"
      ]
     },
     "metadata": {},
     "output_type": "display_data"
    }
   ],
   "source": [
    "samp, lbl = dataiter_anomal.next()\n",
    "lbl_np = lbl[0].cpu().numpy()\n",
    "print(gtsrb_anomal_dm.idx2label[lbl_np.item()])\n",
    "gtsrb_anomal_dm.unprocess_image(samp[0], plot=True)"
   ]
  },
  {
   "cell_type": "code",
   "execution_count": 90,
   "metadata": {},
   "outputs": [
    {
     "data": {
      "text/plain": [
       "True"
      ]
     },
     "execution_count": 90,
     "metadata": {},
     "output_type": "execute_result"
    }
   ],
   "source": [
    "gtsrb_anomal_dm.anomaly_transforms"
   ]
  },
  {
   "cell_type": "code",
   "execution_count": 91,
   "metadata": {},
   "outputs": [
    {
     "data": {
      "text/plain": [
       "torch.Size([1, 3, 128, 128])"
      ]
     },
     "execution_count": 91,
     "metadata": {},
     "output_type": "execute_result"
    }
   ],
   "source": [
    "samp.shape"
   ]
  },
  {
   "attachments": {},
   "cell_type": "markdown",
   "metadata": {},
   "source": [
    "## CIFAR-10 OoD"
   ]
  },
  {
   "cell_type": "code",
   "execution_count": 68,
   "metadata": {},
   "outputs": [],
   "source": [
    "cifar10_data_dir = \"/media/farnez/Data/DATASETS/cifar-10/\""
   ]
  },
  {
   "cell_type": "code",
   "execution_count": 69,
   "metadata": {},
   "outputs": [],
   "source": [
    "cifar10_dm = CIFAR10DataModule(data_dir=cifar10_data_dir,\n",
    "                               val_split=0.2,\n",
    "                               num_workers=10,\n",
    "                               normalize=True,\n",
    "                               batch_size=1,\n",
    "                               seed=10,\n",
    "                               drop_last=True,\n",
    "                               shuffle=True)\n",
    "\n",
    "cifar10_transforms = transform_lib.Compose([\n",
    "    transform_lib.Resize((128, 128)),\n",
    "    transform_lib.ToTensor(),\n",
    "    transform_lib.Normalize(\n",
    "        mean=[0.3337, 0.3064, 0.3171],\n",
    "        std=[0.2672, 0.2564, 0.2629]\n",
    "    )\n",
    "])\n",
    "\n",
    "cifar10_dm.train_transforms = cifar10_transforms\n",
    "cifar10_dm.test_transforms = cifar10_transforms\n",
    "cifar10_dm.val_transforms  = cifar10_transforms"
   ]
  },
  {
   "cell_type": "code",
   "execution_count": 70,
   "metadata": {},
   "outputs": [
    {
     "name": "stdout",
     "output_type": "stream",
     "text": [
      "Files already downloaded and verified\n",
      "Files already downloaded and verified\n"
     ]
    }
   ],
   "source": [
    "cifar10_dm.prepare_data()"
   ]
  },
  {
   "cell_type": "code",
   "execution_count": 71,
   "metadata": {},
   "outputs": [],
   "source": [
    "cifar10_dm.setup(stage='fit')\n",
    "cifar10_dm.setup(stage='test')"
   ]
  },
  {
   "cell_type": "code",
   "execution_count": 72,
   "metadata": {},
   "outputs": [
    {
     "name": "stderr",
     "output_type": "stream",
     "text": [
      "ic| len(cifar10_train_loader): 40000\n",
      "ic| len(cifar10_valid_loader): 10000\n",
      "ic| len(cifar10_test_loader): 10000\n"
     ]
    }
   ],
   "source": [
    "cifar10_train_loader = cifar10_dm.train_dataloader()\n",
    "cifar10_valid_loader = cifar10_dm.val_dataloader()\n",
    "cifar10_test_loader = cifar10_dm.test_dataloader()\n",
    "ic(len(cifar10_train_loader));\n",
    "ic(len(cifar10_valid_loader));\n",
    "ic(len(cifar10_test_loader));"
   ]
  },
  {
   "cell_type": "code",
   "execution_count": 73,
   "metadata": {},
   "outputs": [],
   "source": [
    "def unprocess_cifar10_image(im,\n",
    "                            norm_mean=[x / 255.0 for x in [125.3, 123.0, 113.9]],\n",
    "                            norm_std=[x / 255.0 for x in [63.0, 62.1, 66.7]], \n",
    "                            plot=False):\n",
    "    # im = im.squeeze().numpy().transpose((1, 2, 0))\n",
    "    norm_mean = np.array(norm_mean)\n",
    "    norm_std = np.array(norm_std)\n",
    "    im = im.squeeze().numpy().transpose((1, 2, 0))\n",
    "    im = norm_std * im + norm_mean\n",
    "    im = np.clip(im, 0, 1)\n",
    "    im = im * 255\n",
    "    im = Image.fromarray(im.astype(np.uint8))\n",
    "\n",
    "    if plot:\n",
    "        plt.rcParams['figure.figsize'] = [2.54/2.54, 2.54/2.54]\n",
    "        plt.imshow(im)\n",
    "        plt.xticks([])\n",
    "        plt.yticks([])\n",
    "        plt.show()\n",
    "    else:\n",
    "        return im"
   ]
  },
  {
   "cell_type": "code",
   "execution_count": 74,
   "metadata": {},
   "outputs": [],
   "source": [
    "dataiter = iter(cifar10_train_loader)"
   ]
  },
  {
   "cell_type": "code",
   "execution_count": 78,
   "metadata": {},
   "outputs": [
    {
     "data": {
      "image/png": "[encoded data removed]",
      "text/plain": [
       "<Figure size 100x100 with 1 Axes>"
      ]
     },
     "metadata": {},
     "output_type": "display_data"
    }
   ],
   "source": [
    "samp, lbl = dataiter.next()\n",
    "lbl_np = lbl[0].cpu().numpy()\n",
    "unprocess_cifar10_image(samp[0], norm_mean=[0.3337, 0.3064, 0.3171], norm_std=[0.2672, 0.2564, 0.2629], plot=True)"
   ]
  },
  {
   "cell_type": "code",
   "execution_count": 79,
   "metadata": {},
   "outputs": [
    {
     "data": {
      "text/plain": [
       "torch.Size([1, 3, 128, 128])"
      ]
     },
     "execution_count": 79,
     "metadata": {},
     "output_type": "execute_result"
    }
   ],
   "source": [
    "samp.shape"
   ]
  },
  {
   "attachments": {},
   "cell_type": "markdown",
   "metadata": {},
   "source": [
    "## STL-10 OoD"
   ]
  },
  {
   "cell_type": "code",
   "execution_count": 80,
   "metadata": {},
   "outputs": [],
   "source": [
    "stl10_data_dir = \"/media/farnez/Data/DATASETS/stl-10/\""
   ]
  },
  {
   "cell_type": "code",
   "execution_count": 81,
   "metadata": {},
   "outputs": [],
   "source": [
    "stl10_dm = STL10DataModule(data_dir=stl10_data_dir,\n",
    "                           train_val_split=3000,\n",
    "                           num_workers=10,\n",
    "                           batch_size=1,\n",
    "                           seed=10,\n",
    "                           drop_last=True,\n",
    "                           shuffle=True)\n",
    "\n",
    "stl10_transforms = transform_lib.Compose([\n",
    "    transform_lib.Resize((128, 128)),\n",
    "    transform_lib.ToTensor(),\n",
    "    transform_lib.Normalize(\n",
    "        mean=(0.3337, 0.3064, 0.3171),\n",
    "        std=(0.2672, 0.2564, 0.2629)\n",
    "    )\n",
    "])\n",
    "\n",
    "stl10_dm.train_transforms = stl10_transforms\n",
    "stl10_dm.test_transforms = stl10_transforms\n",
    "stl10_dm.val_transforms  = stl10_transforms"
   ]
  },
  {
   "cell_type": "code",
   "execution_count": 81,
   "metadata": {},
   "outputs": [
    {
     "name": "stdout",
     "output_type": "stream",
     "text": [
      "Files already downloaded and verified\n",
      "Files already downloaded and verified\n",
      "Files already downloaded and verified\n"
     ]
    }
   ],
   "source": [
    "stl10_dm.prepare_data()"
   ]
  },
  {
   "cell_type": "code",
   "execution_count": 82,
   "metadata": {},
   "outputs": [
    {
     "name": "stderr",
     "output_type": "stream",
     "text": [
      "ic| len(stl10_train_loader): 2000\n",
      "ic| len(stl10_valid_loader): 3000\n",
      "ic| len(stl10_test_loader): 8000\n"
     ]
    }
   ],
   "source": [
    "stl10_train_loader = stl10_dm.train_dataloader_labeled()\n",
    "stl10_valid_loader = stl10_dm.val_dataloader_labeled()\n",
    "stl10_test_loader = stl10_dm.test_dataloader()\n",
    "ic(len(stl10_train_loader));\n",
    "ic(len(stl10_valid_loader));\n",
    "ic(len(stl10_test_loader));"
   ]
  },
  {
   "cell_type": "code",
   "execution_count": 83,
   "metadata": {},
   "outputs": [],
   "source": [
    "def unprocess_stl10_image(im,\n",
    "                          norm_mean=[0.43, 0.42, 0.39],\n",
    "                          norm_std=[0.27, 0.26, 0.27], \n",
    "                          plot=False):\n",
    "    # im = im.squeeze().numpy().transpose((1, 2, 0))\n",
    "    norm_mean = np.array(norm_mean)\n",
    "    norm_std = np.array(norm_std)\n",
    "    im = im.squeeze().numpy().transpose((1, 2, 0))\n",
    "    im = norm_std * im + norm_mean\n",
    "    im = np.clip(im, 0, 1)\n",
    "    im = im * 255\n",
    "    im = Image.fromarray(im.astype(np.uint8))\n",
    "\n",
    "    if plot:\n",
    "        plt.rcParams['figure.figsize'] = [2.54/2.54, 2.54/2.54]\n",
    "        plt.imshow(im)\n",
    "        plt.xticks([])\n",
    "        plt.yticks([])\n",
    "        plt.show()\n",
    "    else:\n",
    "        return im"
   ]
  },
  {
   "cell_type": "code",
   "execution_count": 84,
   "metadata": {},
   "outputs": [],
   "source": [
    "dataiter = iter(stl10_train_loader)"
   ]
  },
  {
   "cell_type": "code",
   "execution_count": 91,
   "metadata": {},
   "outputs": [
    {
     "data": {
      "image/png": "[encoded data removed]",
      "text/plain": [
       "<Figure size 100x100 with 1 Axes>"
      ]
     },
     "metadata": {},
     "output_type": "display_data"
    }
   ],
   "source": [
    "samp, lbl = dataiter.next()\n",
    "lbl_np = lbl[0].cpu().numpy()\n",
    "unprocess_stl10_image(samp[0], norm_mean=[0.3337, 0.3064, 0.3171], norm_std=[0.2672, 0.2564, 0.2629], plot=True)"
   ]
  },
  {
   "cell_type": "code",
   "execution_count": 92,
   "metadata": {},
   "outputs": [
    {
     "data": {
      "text/plain": [
       "torch.Size([1, 3, 128, 128])"
      ]
     },
     "execution_count": 92,
     "metadata": {},
     "output_type": "execute_result"
    }
   ],
   "source": [
    "samp.shape"
   ]
  },
  {
   "attachments": {},
   "cell_type": "markdown",
   "metadata": {},
   "source": [
    "# GTSRB ResNet18 Classifier"
   ]
  },
  {
   "cell_type": "markdown",
   "metadata": {},
   "source": [
    "__Normal Classifier__"
   ]
  },
  {
   "cell_type": "code",
   "execution_count": 93,
   "metadata": {},
   "outputs": [],
   "source": [
    "gtsrb_model_path = \"/home/farnez/Projects/GTSRB-Classifier/lightning_logs/2023-05-17_00-13-13/last.ckpt\"\n",
    "gtsrb_model = ResnetModule.load_from_checkpoint(checkpoint_path=gtsrb_model_path)"
   ]
  },
  {
   "cell_type": "code",
   "execution_count": 94,
   "metadata": {},
   "outputs": [],
   "source": [
    "gtsrb_model;"
   ]
  },
  {
   "cell_type": "code",
   "execution_count": 95,
   "metadata": {},
   "outputs": [],
   "source": [
    "gtsrb_model.eval();"
   ]
  },
  {
   "cell_type": "markdown",
   "metadata": {},
   "source": [
    "__Classifier with Spectral Normalization__"
   ]
  },
  {
   "cell_type": "code",
   "execution_count": 53,
   "metadata": {},
   "outputs": [],
   "source": [
    "gtsrb_model_sn_path = \"/home/farnez/Projects/GTSRB-Classifier/lightning_logs/2023-05-14_03-11-13/last.ckpt\"\n",
    "gtsrb_model = ResnetModule.load_from_checkpoint(checkpoint_path=gtsrb_model_sn_path)"
   ]
  },
  {
   "cell_type": "code",
   "execution_count": 57,
   "metadata": {},
   "outputs": [],
   "source": [
    "gtsrb_model;"
   ]
  },
  {
   "cell_type": "code",
   "execution_count": 58,
   "metadata": {},
   "outputs": [],
   "source": [
    "gtsrb_model.eval();"
   ]
  },
  {
   "cell_type": "markdown",
   "metadata": {},
   "source": [
    "# Dataset Distribution Shift Detection Baselines"
   ]
  },
  {
   "cell_type": "code",
   "execution_count": 96,
   "metadata": {},
   "outputs": [],
   "source": [
    "gtsrb_model;"
   ]
  },
  {
   "cell_type": "code",
   "execution_count": 97,
   "metadata": {},
   "outputs": [
    {
     "name": "stderr",
     "output_type": "stream",
     "text": [
      "ic| len(gtsrb_normal_train_loader): 7120\n",
      "ic| len(gtsrb_normal_valid_loader): 3609\n",
      "ic| len(gtsrb_normal_test_loader): 1273\n",
      "ic| '========================================'\n",
      "ic| len(gtsrb_anomal_train_loader): 35600\n",
      "ic| len(gtsrb_anomal_valid_loader): 3609\n",
      "ic| len(gtsrb_anomal_test_loader): 1273\n",
      "ic| '========================================'\n",
      "ic| len(cifar10_train_loader): 40000\n",
      "ic| len(cifar10_valid_loader): 10000\n",
      "ic| len(cifar10_test_loader): 10000\n",
      "ic| '========================================'\n",
      "ic| len(stl10_train_loader): 2000\n",
      "ic| len(stl10_valid_loader): 3000\n",
      "ic| len(stl10_test_loader): 8000\n"
     ]
    }
   ],
   "source": [
    "ic(len(gtsrb_normal_train_loader));\n",
    "ic(len(gtsrb_normal_valid_loader));\n",
    "ic(len(gtsrb_normal_test_loader));\n",
    "ic(\"========================================\")\n",
    "ic(len(gtsrb_anomal_train_loader));\n",
    "ic(len(gtsrb_anomal_valid_loader));\n",
    "ic(len(gtsrb_anomal_test_loader));\n",
    "ic(\"========================================\")\n",
    "ic(len(cifar10_train_loader));\n",
    "ic(len(cifar10_valid_loader));\n",
    "ic(len(cifar10_test_loader));\n",
    "ic(\"========================================\")\n",
    "ic(len(stl10_train_loader));\n",
    "ic(len(stl10_valid_loader));\n",
    "ic(len(stl10_test_loader));"
   ]
  },
  {
   "cell_type": "markdown",
   "metadata": {},
   "source": [
    "## Predictive Uncertainty"
   ]
  },
  {
   "cell_type": "code",
   "execution_count": 98,
   "metadata": {},
   "outputs": [],
   "source": [
    "# Monte Carlo Dropout - Enable Dropout @ Test Time!\n",
    "def resnet18_enable_dropblock2d_test(m):\n",
    "    if type(m) == DropBlock2D:\n",
    "        m.train()"
   ]
  },
  {
   "cell_type": "code",
   "execution_count": 99,
   "metadata": {},
   "outputs": [],
   "source": [
    "gtsrb_model.to(device);\n",
    "gtsrb_model.eval(); \n",
    "gtsrb_model.apply(resnet18_enable_dropblock2d_test); # enable dropout"
   ]
  },
  {
   "cell_type": "code",
   "execution_count": 182,
   "metadata": {},
   "outputs": [],
   "source": [
    "def get_mcd_pred_uncertainty_score(dnn_model: torch.nn.Module,\n",
    "                                   input_dataloader: DataLoader,\n",
    "                                   mcd_nro_samples: int = 2):\n",
    "    \n",
    "    softmax_fn = torch.nn.Softmax(dim=1)\n",
    "    \n",
    "    device = torch.device('cuda' if torch.cuda.is_available() else 'cpu')\n",
    "    \n",
    "    gtsrb_model.to(device)\n",
    "    with torch.no_grad():\n",
    "        # dl_imgs_latent_mcd_samples = []\n",
    "        # dl_pred_mcd_samples = []\n",
    "        img_pred_mcd_samples = []\n",
    "        \n",
    "        for i, (image, label) in enumerate(input_dataloader):\n",
    "            image = image.to(device)\n",
    "            \n",
    "            for sample in range(mcd_nro_samples):\n",
    "                pred_img = dnn_model(image)      \n",
    "\n",
    "                img_pred_mcd_samples.append(pred_img)\n",
    "\n",
    "            img_pred_mcd_samples_t = torch.cat(img_pred_mcd_samples, dim=0)\n",
    "            # ic(img_pred_mcd_samples_t.shape)\n",
    "            \n",
    "            # compute softmax output - normalized output:\n",
    "            img_pred_softmax_mcd_samples_t = softmax_fn(img_pred_mcd_samples_t)\n",
    "            \n",
    "        dl_pred_mcd_samples = torch.split(img_pred_softmax_mcd_samples_t, mcd_nro_samples)\n",
    "        # Get dataloader mcd predictions:\n",
    "        dl_pred_mcd_samples_t = torch.stack(dl_pred_mcd_samples)\n",
    "        \n",
    "        # get predictive entropy:\n",
    "        expect_preds = torch.mean(dl_pred_mcd_samples_t, dim=1)\n",
    "        pred_h_t = -torch.sum((expect_preds * torch.log(expect_preds)), dim=1)\n",
    "        # get expected entropy:\n",
    "        preds_h = -torch.sum(dl_pred_mcd_samples_t * torch.log(dl_pred_mcd_samples_t), dim=-1)\n",
    "        expected_h_preds_t = torch.mean(preds_h, dim=1)\n",
    "        # get mutual information:\n",
    "        mi_t = pred_h_t - expected_h_preds_t\n",
    "       \n",
    "    \n",
    "    return dl_pred_mcd_samples_t, pred_h_t, mi_t\n"
   ]
  },
  {
   "cell_type": "code",
   "execution_count": 183,
   "metadata": {},
   "outputs": [],
   "source": [
    "dl_gtsrb_test_preds, dl_gtsrb_test_pred_h, dl_gtsrb_test_mi = get_mcd_pred_uncertainty_score(dnn_model=gtsrb_model.model, \n",
    "                                                                                         input_dataloader=gtsrb_normal_test_loader,\n",
    "                                                                                         mcd_nro_samples=16)"
   ]
  },
  {
   "cell_type": "code",
   "execution_count": 184,
   "metadata": {},
   "outputs": [],
   "source": [
    "dl_gtsrb_anomal_test_preds, dl_gtsrb_anomal_test_pred_h, dl_gtsrb_anomal_test_mi = get_mcd_pred_uncertainty_score(dnn_model=gtsrb_model.model, \n",
    "                                                                                                              input_dataloader=gtsrb_anomal_test_loader,\n",
    "                                                                                                              mcd_nro_samples=16)"
   ]
  },
  {
   "cell_type": "code",
   "execution_count": 185,
   "metadata": {},
   "outputs": [],
   "source": [
    "dl_cifar10_test_preds, dl_cifar10_test_pred_h, dl_cifar10_test_mi = get_mcd_pred_uncertainty_score(dnn_model=gtsrb_model.model, \n",
    "                                                                                         input_dataloader=cifar10_test_loader,\n",
    "                                                                                         mcd_nro_samples=16)"
   ]
  },
  {
   "cell_type": "code",
   "execution_count": 186,
   "metadata": {},
   "outputs": [],
   "source": [
    "dl_stl10_test_preds, dl_stl10_test_pred_h, dl_stl10_test_mi = get_mcd_pred_uncertainty_score(dnn_model=gtsrb_model.model, \n",
    "                                                                                         input_dataloader=stl10_test_loader,\n",
    "                                                                                         mcd_nro_samples=16)"
   ]
  },
  {
   "cell_type": "code",
   "execution_count": 254,
   "metadata": {},
   "outputs": [],
   "source": [
    "dl_gtsrb_valid_preds, dl_gtsrb_valid_pred_h, dl_gtsrb_valid_mi = get_mcd_pred_uncertainty_score(dnn_model=gtsrb_model.model, \n",
    "                                                                                            input_dataloader=gtsrb_normal_valid_loader,\n",
    "                                                                                            mcd_nro_samples=16)"
   ]
  },
  {
   "cell_type": "code",
   "execution_count": 255,
   "metadata": {},
   "outputs": [],
   "source": [
    "dl_gtsrb_anomal_valid_preds, dl_gtsrb_anomal_valid_pred_h, dl_gtsrb_anomal_valid_mi = get_mcd_pred_uncertainty_score(dnn_model=gtsrb_model.model, \n",
    "                                                                                                                 input_dataloader=gtsrb_anomal_valid_loader,\n",
    "                                                                                                                 mcd_nro_samples=16)"
   ]
  },
  {
   "cell_type": "code",
   "execution_count": 256,
   "metadata": {},
   "outputs": [],
   "source": [
    "dl_cifar10_valid_preds, dl_cifar10_valid_pred_h, dl_cifar10_valid_mi = get_mcd_pred_uncertainty_score(dnn_model=gtsrb_model.model, \n",
    "                                                                                                  input_dataloader=cifar10_valid_loader,\n",
    "                                                                                                  mcd_nro_samples=16)"
   ]
  },
  {
   "cell_type": "code",
   "execution_count": 257,
   "metadata": {},
   "outputs": [],
   "source": [
    "dl_stl10_valid_preds, dl_stl10_valid_pred_h, dl_stl10_valid_mi = get_mcd_pred_uncertainty_score(dnn_model=gtsrb_model.model, \n",
    "                                                                                            input_dataloader=stl10_valid_loader,\n",
    "                                                                                            mcd_nro_samples=16)"
   ]
  },
  {
   "cell_type": "code",
   "execution_count": 187,
   "metadata": {},
   "outputs": [],
   "source": [
    "torch.save(dl_gtsrb_test_preds,\n",
    "           '/media/farnez/Data/EXPERIMENTS/CoRL-2023/gtsrb-classification/resnet18/OoD_detection_baselines/predicted_uncertainty/dl_gtsrb_test_preds.pt')\n",
    "torch.save(dl_gtsrb_test_pred_h,\n",
    "           '/media/farnez/Data/EXPERIMENTS/CoRL-2023/gtsrb-classification/resnet18/OoD_detection_baselines/predicted_uncertainty/dl_gtsrb_test_pred_h.pt')\n",
    "torch.save(dl_gtsrb_test_mi,\n",
    "           '/media/farnez/Data/EXPERIMENTS/CoRL-2023/gtsrb-classification/resnet18/OoD_detection_baselines/predicted_uncertainty/dl_gtsrb_test_mi.pt')\n",
    "\n",
    "\n",
    "torch.save(dl_gtsrb_anomal_test_preds,\n",
    "           '/media/farnez/Data/EXPERIMENTS/CoRL-2023/gtsrb-classification/resnet18/OoD_detection_baselines/predicted_uncertainty/dl_gtsrb_anomal_test_preds.pt')\n",
    "torch.save(dl_gtsrb_anomal_test_pred_h,\n",
    "           '/media/farnez/Data/EXPERIMENTS/CoRL-2023/gtsrb-classification/resnet18/OoD_detection_baselines/predicted_uncertainty/dl_gtsrb_anomal_test_pred_h.pt')\n",
    "torch.save(dl_gtsrb_anomal_test_mi,\n",
    "           '/media/farnez/Data/EXPERIMENTS/CoRL-2023/gtsrb-classification/resnet18/OoD_detection_baselines/predicted_uncertainty/dl_gtsrb_anomal_test_mi.pt')\n",
    "\n",
    "\n",
    "torch.save(dl_cifar10_test_preds,\n",
    "           '/media/farnez/Data/EXPERIMENTS/CoRL-2023/gtsrb-classification/resnet18/OoD_detection_baselines/predicted_uncertainty/dl_cifar10_test_preds.pt')\n",
    "torch.save(dl_cifar10_test_pred_h,\n",
    "           '/media/farnez/Data/EXPERIMENTS/CoRL-2023/gtsrb-classification/resnet18/OoD_detection_baselines/predicted_uncertainty/dl_cifar10_test_pred_h.pt')\n",
    "torch.save(dl_cifar10_test_mi,\n",
    "           '/media/farnez/Data/EXPERIMENTS/CoRL-2023/gtsrb-classification/resnet18/OoD_detection_baselines/predicted_uncertainty/dl_cifar10_test_mi.pt')\n",
    "\n",
    "\n",
    "torch.save(dl_stl10_test_preds,\n",
    "           '/media/farnez/Data/EXPERIMENTS/CoRL-2023/gtsrb-classification/resnet18/OoD_detection_baselines/predicted_uncertainty/dl_stl10_test_preds.pt')\n",
    "torch.save(dl_stl10_test_pred_h,\n",
    "           '/media/farnez/Data/EXPERIMENTS/CoRL-2023/gtsrb-classification/resnet18/OoD_detection_baselines/predicted_uncertainty/dl_stl10_test_pred_h.pt')\n",
    "torch.save(dl_stl10_test_mi,\n",
    "           '/media/farnez/Data/EXPERIMENTS/CoRL-2023/gtsrb-classification/resnet18/OoD_detection_baselines/predicted_uncertainty/dl_stl10_test_mi.pt')"
   ]
  },
  {
   "cell_type": "code",
   "execution_count": 258,
   "metadata": {},
   "outputs": [],
   "source": [
    "torch.save(dl_gtsrb_valid_preds,\n",
    "           '/media/farnez/Data/EXPERIMENTS/CoRL-2023/gtsrb-classification/resnet18/OoD_detection_baselines/predicted_uncertainty/dl_gtsrb_valid_preds.pt')\n",
    "torch.save(dl_gtsrb_valid_pred_h,\n",
    "           '/media/farnez/Data/EXPERIMENTS/CoRL-2023/gtsrb-classification/resnet18/OoD_detection_baselines/predicted_uncertainty/dl_gtsrb_valid_pred_h.pt')\n",
    "torch.save(dl_gtsrb_valid_mi,\n",
    "           '/media/farnez/Data/EXPERIMENTS/CoRL-2023/gtsrb-classification/resnet18/OoD_detection_baselines/predicted_uncertainty/dl_gtsrb_valid_mi.pt')\n",
    "\n",
    "\n",
    "torch.save(dl_gtsrb_anomal_valid_preds,\n",
    "           '/media/farnez/Data/EXPERIMENTS/CoRL-2023/gtsrb-classification/resnet18/OoD_detection_baselines/predicted_uncertainty/dl_gtsrb_anomal_valid_preds.pt')\n",
    "torch.save(dl_gtsrb_anomal_valid_pred_h,\n",
    "           '/media/farnez/Data/EXPERIMENTS/CoRL-2023/gtsrb-classification/resnet18/OoD_detection_baselines/predicted_uncertainty/dl_gtsrb_anomal_valid_pred_h.pt')\n",
    "torch.save(dl_gtsrb_anomal_valid_mi,\n",
    "           '/media/farnez/Data/EXPERIMENTS/CoRL-2023/gtsrb-classification/resnet18/OoD_detection_baselines/predicted_uncertainty/dl_gtsrb_anomal_valid_mi.pt')\n",
    "\n",
    "\n",
    "torch.save(dl_cifar10_valid_preds,\n",
    "           '/media/farnez/Data/EXPERIMENTS/CoRL-2023/gtsrb-classification/resnet18/OoD_detection_baselines/predicted_uncertainty/dl_cifar10_valid_preds.pt')\n",
    "torch.save(dl_cifar10_valid_pred_h,\n",
    "           '/media/farnez/Data/EXPERIMENTS/CoRL-2023/gtsrb-classification/resnet18/OoD_detection_baselines/predicted_uncertainty/dl_cifar10_valid_pred_h.pt')\n",
    "torch.save(dl_cifar10_valid_mi,\n",
    "           '/media/farnez/Data/EXPERIMENTS/CoRL-2023/gtsrb-classification/resnet18/OoD_detection_baselines/predicted_uncertainty/dl_cifar10_valid_mi.pt')\n",
    "\n",
    "\n",
    "torch.save(dl_stl10_valid_preds,\n",
    "           '/media/farnez/Data/EXPERIMENTS/CoRL-2023/gtsrb-classification/resnet18/OoD_detection_baselines/predicted_uncertainty/dl_stl10_valid_preds.pt')\n",
    "torch.save(dl_stl10_valid_pred_h,\n",
    "           '/media/farnez/Data/EXPERIMENTS/CoRL-2023/gtsrb-classification/resnet18/OoD_detection_baselines/predicted_uncertainty/dl_stl10_valid_pred_h.pt')\n",
    "torch.save(dl_stl10_valid_mi,\n",
    "           '/media/farnez/Data/EXPERIMENTS/CoRL-2023/gtsrb-classification/resnet18/OoD_detection_baselines/predicted_uncertainty/dl_stl10_valid_mi.pt')"
   ]
  },
  {
   "cell_type": "code",
   "execution_count": 216,
   "metadata": {},
   "outputs": [
    {
     "name": "stderr",
     "output_type": "stream",
     "text": [
      "ic| dl_gtsrb_test_pred_h.shape: torch.Size([1273])\n"
     ]
    },
    {
     "name": "stderr",
     "output_type": "stream",
     "text": [
      "ic| dl_gtsrb_test_mi.shape: torch.Size([1273])\n",
      "ic| '================================================================'\n",
      "ic| dl_gtsrb_anomal_test_pred_h.shape: torch.Size([1273])\n",
      "ic| dl_gtsrb_anomal_test_mi.shape: torch.Size([1273])\n",
      "ic| '================================================================'\n",
      "ic| dl_cifar10_test_pred_h.shape: torch.Size([10000])\n",
      "ic| dl_cifar10_test_mi.shape: torch.Size([10000])\n",
      "ic| '================================================================'\n",
      "ic| dl_stl10_test_pred_h.shape: torch.Size([8000])\n",
      "ic| dl_stl10_test_mi.shape: torch.Size([8000])\n"
     ]
    }
   ],
   "source": [
    "ic(dl_gtsrb_test_pred_h.shape);\n",
    "ic(dl_gtsrb_test_mi.shape);\n",
    "ic(\"================================================================\");\n",
    "ic(dl_gtsrb_anomal_test_pred_h.shape);\n",
    "ic(dl_gtsrb_anomal_test_mi.shape);\n",
    "ic(\"================================================================\");\n",
    "ic(dl_cifar10_test_pred_h.shape);\n",
    "ic(dl_cifar10_test_mi.shape);\n",
    "ic(\"================================================================\");\n",
    "ic(dl_stl10_test_pred_h.shape);\n",
    "ic(dl_stl10_test_mi.shape);"
   ]
  },
  {
   "cell_type": "code",
   "execution_count": 261,
   "metadata": {},
   "outputs": [
    {
     "name": "stderr",
     "output_type": "stream",
     "text": [
      "ic| ind_gtsrb_test_pred_h_score.shape: (1273,)\n",
      "ic"
     ]
    },
    {
     "name": "stderr",
     "output_type": "stream",
     "text": [
      "| ind_gtsrb_test_mi_score.shape: (1273,)\n",
      "ic| ood_gtsrb_anomal_test_pred_h_score.shape: (1273,)\n",
      "ic| ood_gtsrb_anomal_test_mi_score.shape: (1273,)\n",
      "ic| ood_cifar10_test_pred_h_score.shape: (10000,)\n",
      "ic| ood_cifar10_test_mi_score.shape: (10000,)\n",
      "ic| ood_stl10_test_pred_h_score.shape: (8000,)\n",
      "ic| ood_stl10_test_mi_score.shape: (8000,)\n"
     ]
    }
   ],
   "source": [
    "ind_gtsrb_test_pred_h_score = dl_gtsrb_test_pred_h.cpu().numpy()\n",
    "ind_gtsrb_test_mi_score = dl_gtsrb_test_mi.cpu().numpy()\n",
    "ic(ind_gtsrb_test_pred_h_score.shape);\n",
    "ic(ind_gtsrb_test_mi_score.shape);\n",
    "\n",
    "ood_gtsrb_anomal_test_pred_h_score = dl_gtsrb_anomal_test_pred_h.cpu().numpy()\n",
    "ood_gtsrb_anomal_test_mi_score = dl_gtsrb_anomal_test_mi.cpu().numpy()\n",
    "ic(ood_gtsrb_anomal_test_pred_h_score.shape);\n",
    "ic(ood_gtsrb_anomal_test_mi_score.shape);\n",
    "\n",
    "ood_cifar10_test_pred_h_score = dl_cifar10_test_pred_h.cpu().numpy()\n",
    "ood_cifar10_test_mi_score = dl_cifar10_test_mi.cpu().numpy()\n",
    "ic(ood_cifar10_test_pred_h_score.shape);\n",
    "ic(ood_cifar10_test_mi_score.shape);\n",
    "\n",
    "ood_stl10_test_pred_h_score = dl_stl10_test_pred_h.cpu().numpy()\n",
    "ood_stl10_test_mi_score = dl_stl10_test_mi.cpu().numpy()\n",
    "ic(ood_stl10_test_pred_h_score.shape);\n",
    "ic(ood_stl10_test_mi_score.shape);"
   ]
  },
  {
   "cell_type": "code",
   "execution_count": 262,
   "metadata": {},
   "outputs": [
    {
     "name": "stderr",
     "output_type": "stream",
     "text": [
      "ic| ind_gtsrb_valid_pred_h_score.shape: (3609,)\n",
      "ic| ind_gtsrb_valid_mi_score.shape: (3609,)\n",
      "ic| ood_gtsrb_anomal_valid_pred_h_score.shape: (3609,)\n",
      "ic| ood_gtsrb_anomal_valid_mi_score.shape: (3609,)\n",
      "ic| ood_cifar10_valid_pred_h_score.shape: (10000,)\n",
      "ic| ood_cifar10_valid_mi_score.shape: (10000,)\n",
      "ic| ood_stl10_valid_pred_h_score.shape: (3000,)\n",
      "ic| ood_stl10_valid_mi_score.shape: (3000,)\n"
     ]
    }
   ],
   "source": [
    "ind_gtsrb_valid_pred_h_score = dl_gtsrb_valid_pred_h.cpu().numpy()\n",
    "ind_gtsrb_valid_mi_score = dl_gtsrb_valid_mi.cpu().numpy()\n",
    "ic(ind_gtsrb_valid_pred_h_score.shape);\n",
    "ic(ind_gtsrb_valid_mi_score.shape);\n",
    "\n",
    "ood_gtsrb_anomal_valid_pred_h_score = dl_gtsrb_anomal_valid_pred_h.cpu().numpy()\n",
    "ood_gtsrb_anomal_valid_mi_score = dl_gtsrb_anomal_valid_mi.cpu().numpy()\n",
    "ic(ood_gtsrb_anomal_valid_pred_h_score.shape);\n",
    "ic(ood_gtsrb_anomal_valid_mi_score.shape);\n",
    "\n",
    "ood_cifar10_valid_pred_h_score = dl_cifar10_valid_pred_h.cpu().numpy()\n",
    "ood_cifar10_valid_mi_score = dl_cifar10_valid_mi.cpu().numpy()\n",
    "ic(ood_cifar10_valid_pred_h_score.shape);\n",
    "ic(ood_cifar10_valid_mi_score.shape);\n",
    "\n",
    "ood_stl10_valid_pred_h_score = dl_stl10_valid_pred_h.cpu().numpy()\n",
    "ood_stl10_valid_mi_score = dl_stl10_valid_mi.cpu().numpy()\n",
    "ic(ood_stl10_valid_pred_h_score.shape);\n",
    "ic(ood_stl10_valid_mi_score.shape);"
   ]
  },
  {
   "cell_type": "code",
   "execution_count": 263,
   "metadata": {},
   "outputs": [],
   "source": [
    "ind_gtsrb_pred_h_score = np.concatenate((ind_gtsrb_valid_pred_h_score, ind_gtsrb_test_pred_h_score))\n",
    "ind_gtsrb_pred_mi_score = np.concatenate((ind_gtsrb_valid_mi_score, ind_gtsrb_test_mi_score))\n",
    "\n",
    "ood_gtsrb_anomal_pred_h_score = np.concatenate((ood_gtsrb_anomal_valid_pred_h_score, ood_gtsrb_anomal_test_pred_h_score))\n",
    "ood_gtsrb_anomal_pred_mi_score = np.concatenate((ood_gtsrb_anomal_valid_mi_score, ood_gtsrb_anomal_test_mi_score))\n",
    "\n",
    "ood_cifar10_pred_h_score = np.concatenate((ood_cifar10_valid_pred_h_score, ood_cifar10_test_pred_h_score))\n",
    "ood_cifar10_pred_mi_score = np.concatenate((ood_cifar10_valid_mi_score, ood_cifar10_test_mi_score))\n",
    "\n",
    "ood_stl10_pred_h_score = np.concatenate((ood_stl10_valid_pred_h_score, ood_stl10_test_pred_h_score))\n",
    "ood_stl10_pred_mi_score = np.concatenate((ood_stl10_valid_mi_score, ood_stl10_test_mi_score))\n"
   ]
  },
  {
   "cell_type": "markdown",
   "metadata": {},
   "source": [
    "### Plot Score Values Predictive Entropy"
   ]
  },
  {
   "cell_type": "code",
   "execution_count": 271,
   "metadata": {},
   "outputs": [],
   "source": [
    "df_pred_h_scores_gtsrb = pd.DataFrame(ind_gtsrb_pred_h_score, columns=[\"Predictive H score\"])\n",
    "df_pred_h_scores_gtsrb_anomal = pd.DataFrame(ood_gtsrb_anomal_pred_h_score, columns=[\"Predictive H score\"])\n",
    "df_pred_h_scores_stl10 = pd.DataFrame(ood_stl10_pred_h_score, columns=[\"Predictive H score\"])\n",
    "df_pred_h_scores_cifar10 = pd.DataFrame(ood_cifar10_pred_h_score, columns=[\"Predictive H score\"])\n",
    "\n",
    "df_pred_h_scores_gtsrb.insert(0, \"Dataset\", \"\")\n",
    "df_pred_h_scores_gtsrb.loc[:, \"Dataset\"] = \"gtsrb\"\n",
    "\n",
    "df_pred_h_scores_gtsrb_anomal.insert(0, \"Dataset\", \"\")\n",
    "df_pred_h_scores_gtsrb_anomal.loc[:, \"Dataset\"] = \"gtsrb-anomal\"\n",
    "\n",
    "df_pred_h_scores_stl10.insert(0, \"Dataset\", \"\")\n",
    "df_pred_h_scores_stl10.loc[:, \"Dataset\"] = \"stl10\"\n",
    "\n",
    "df_pred_h_scores_cifar10.insert(0, \"Dataset\", \"\")\n",
    "df_pred_h_scores_cifar10.loc[:, \"Dataset\"] = \"cifar10\""
   ]
  },
  {
   "cell_type": "code",
   "execution_count": 272,
   "metadata": {},
   "outputs": [
    {
     "data": {
      "image/png": "[encoded data removed]",
      "text/plain": [
       "<Figure size 642.875x500 with 1 Axes>"
      ]
     },
     "metadata": {},
     "output_type": "display_data"
    }
   ],
   "source": [
    "df_pred_h_scores = pd.concat([df_pred_h_scores_gtsrb,\n",
    "                              df_pred_h_scores_gtsrb_anomal,\n",
    "                              df_pred_h_scores_stl10,\n",
    "                              df_pred_h_scores_cifar10]).reset_index(drop=True)\n",
    "\n",
    "sns.displot(df_pred_h_scores, x=\"Predictive H score\", hue=\"Dataset\", kind=\"hist\", fill=True)\n",
    "plt.show()"
   ]
  },
  {
   "cell_type": "code",
   "execution_count": 273,
   "metadata": {},
   "outputs": [
    {
     "data": {
      "image/png": "[encoded data removed]",
      "text/plain": [
       "<Figure size 642.875x500 with 1 Axes>"
      ]
     },
     "metadata": {},
     "output_type": "display_data"
    }
   ],
   "source": [
    "df_pred_h_scores = pd.concat([df_pred_h_scores_gtsrb,\n",
    "                              df_pred_h_scores_gtsrb_anomal]).reset_index(drop=True)\n",
    "\n",
    "sns.displot(df_pred_h_scores, x=\"Predictive H score\", hue=\"Dataset\", kind=\"hist\", fill=True)\n",
    "plt.show()"
   ]
  },
  {
   "cell_type": "markdown",
   "metadata": {},
   "source": [
    "### Plot Score values Predictive MI"
   ]
  },
  {
   "cell_type": "code",
   "execution_count": 274,
   "metadata": {},
   "outputs": [],
   "source": [
    "df_mi_scores_gtsrb = pd.DataFrame(ind_gtsrb_pred_mi_score, columns=[\"Predictive MI score\"])\n",
    "df_mi_scores_gtsrb_anomal = pd.DataFrame(ood_gtsrb_anomal_pred_mi_score, columns=[\"Predictive MI score\"])\n",
    "df_mi_scores_stl10 = pd.DataFrame(ood_stl10_pred_mi_score, columns=[\"Predictive MI score\"])\n",
    "df_mi_scores_cifar10 = pd.DataFrame(ood_cifar10_pred_mi_score, columns=[\"Predictive MI score\"])\n",
    "\n",
    "df_mi_scores_gtsrb.insert(0, \"Dataset\", \"\")\n",
    "df_mi_scores_gtsrb.loc[:, \"Dataset\"] = \"gtsrb\"\n",
    "\n",
    "df_mi_scores_gtsrb_anomal.insert(0, \"Dataset\", \"\")\n",
    "df_mi_scores_gtsrb_anomal.loc[:, \"Dataset\"] = \"gtsrb-anomal\"\n",
    "\n",
    "df_mi_scores_stl10.insert(0, \"Dataset\", \"\")\n",
    "df_mi_scores_stl10.loc[:, \"Dataset\"] = \"stl10\"\n",
    "\n",
    "df_mi_scores_cifar10.insert(0, \"Dataset\", \"\")\n",
    "df_mi_scores_cifar10.loc[:, \"Dataset\"] = \"cifar10\""
   ]
  },
  {
   "cell_type": "code",
   "execution_count": 275,
   "metadata": {},
   "outputs": [
    {
     "data": {
      "image/png": "[encoded data removed]",
      "text/plain": [
       "<Figure size 642.875x500 with 1 Axes>"
      ]
     },
     "metadata": {},
     "output_type": "display_data"
    }
   ],
   "source": [
    "df_pred_mi_scores = pd.concat([df_mi_scores_gtsrb,\n",
    "                               df_mi_scores_gtsrb_anomal,\n",
    "                               df_mi_scores_stl10,\n",
    "                               df_mi_scores_cifar10]).reset_index(drop=True)\n",
    "\n",
    "sns.displot(df_pred_mi_scores, x=\"Predictive MI score\", hue=\"Dataset\", kind=\"hist\", fill=True)\n",
    "plt.show()"
   ]
  },
  {
   "cell_type": "code",
   "execution_count": 276,
   "metadata": {},
   "outputs": [
    {
     "data": {
      "image/png": "[encoded data removed]",
      "text/plain": [
       "<Figure size 642.875x500 with 1 Axes>"
      ]
     },
     "metadata": {},
     "output_type": "display_data"
    }
   ],
   "source": [
    "df_pred_mi_scores = pd.concat([df_mi_scores_gtsrb,\n",
    "                               df_mi_scores_gtsrb_anomal]).reset_index(drop=True)\n",
    "\n",
    "sns.displot(df_pred_mi_scores, x=\"Predictive MI score\", hue=\"Dataset\", kind=\"hist\", fill=True)\n",
    "plt.show()"
   ]
  },
  {
   "cell_type": "code",
   "execution_count": null,
   "metadata": {},
   "outputs": [],
   "source": []
  },
  {
   "cell_type": "markdown",
   "metadata": {},
   "source": [
    "### Plot Score Values Predictive Entropy (test split)"
   ]
  },
  {
   "cell_type": "code",
   "execution_count": 235,
   "metadata": {},
   "outputs": [],
   "source": [
    "df_pred_h_scores_gtsrb = pd.DataFrame(ind_gtsrb_test_pred_h_score, columns=[\"Predictive H score\"])\n",
    "df_pred_h_scores_gtsrb_anomal = pd.DataFrame(ood_gtsrb_anomal_test_pred_h_score, columns=[\"Predictive H score\"])\n",
    "df_pred_h_scores_stl10 = pd.DataFrame(ood_stl10_test_pred_h_score, columns=[\"Predictive H score\"])\n",
    "df_pred_h_scores_cifar10 = pd.DataFrame(ood_cifar10_test_pred_h_score, columns=[\"Predictive H score\"])\n",
    "\n",
    "df_pred_h_scores_gtsrb.insert(0, \"Dataset\", \"\")\n",
    "df_pred_h_scores_gtsrb.loc[:, \"Dataset\"] = \"gtsrb\"\n",
    "\n",
    "df_pred_h_scores_gtsrb_anomal.insert(0, \"Dataset\", \"\")\n",
    "df_pred_h_scores_gtsrb_anomal.loc[:, \"Dataset\"] = \"gtsrb-anomal\"\n",
    "\n",
    "df_pred_h_scores_stl10.insert(0, \"Dataset\", \"\")\n",
    "df_pred_h_scores_stl10.loc[:, \"Dataset\"] = \"stl10\"\n",
    "\n",
    "df_pred_h_scores_cifar10.insert(0, \"Dataset\", \"\")\n",
    "df_pred_h_scores_cifar10.loc[:, \"Dataset\"] = \"cifar10\""
   ]
  },
  {
   "cell_type": "code",
   "execution_count": 236,
   "metadata": {},
   "outputs": [
    {
     "data": {
      "image/png": "[encoded data removed]",
      "text/plain": [
       "<Figure size 642.875x500 with 1 Axes>"
      ]
     },
     "metadata": {},
     "output_type": "display_data"
    }
   ],
   "source": [
    "df_pred_h_scores = pd.concat([df_pred_h_scores_gtsrb,\n",
    "                              df_pred_h_scores_gtsrb_anomal,\n",
    "                              df_pred_h_scores_stl10,\n",
    "                              df_pred_h_scores_cifar10]).reset_index(drop=True)\n",
    "\n",
    "sns.displot(df_pred_h_scores, x=\"Predictive H score\", hue=\"Dataset\", kind=\"hist\", fill=True)\n",
    "plt.show()"
   ]
  },
  {
   "cell_type": "code",
   "execution_count": 237,
   "metadata": {},
   "outputs": [
    {
     "data": {
      "image/png": "[encoded data removed]",
      "text/plain": [
       "<Figure size 642.875x500 with 1 Axes>"
      ]
     },
     "metadata": {},
     "output_type": "display_data"
    }
   ],
   "source": [
    "df_pred_h_scores = pd.concat([df_pred_h_scores_gtsrb,\n",
    "                              df_pred_h_scores_gtsrb_anomal]).reset_index(drop=True)\n",
    "\n",
    "sns.displot(df_pred_h_scores, x=\"Predictive H score\", hue=\"Dataset\", kind=\"hist\", fill=True)\n",
    "plt.show()"
   ]
  },
  {
   "cell_type": "markdown",
   "metadata": {},
   "source": [
    "### Plot Score values Predictive MI (test split)"
   ]
  },
  {
   "cell_type": "code",
   "execution_count": 232,
   "metadata": {},
   "outputs": [],
   "source": [
    "df_mi_scores_gtsrb = pd.DataFrame(ind_gtsrb_test_mi_score, columns=[\"Predictive MI score\"])\n",
    "df_mi_scores_gtsrb_anomal = pd.DataFrame(ood_gtsrb_anomal_test_mi_score, columns=[\"Predictive MI score\"])\n",
    "df_mi_scores_stl10 = pd.DataFrame(ood_stl10_test_mi_score, columns=[\"Predictive MI score\"])\n",
    "df_mi_scores_cifar10 = pd.DataFrame(ood_cifar10_test_mi_score, columns=[\"Predictive MI score\"])\n",
    "\n",
    "df_mi_scores_gtsrb.insert(0, \"Dataset\", \"\")\n",
    "df_mi_scores_gtsrb.loc[:, \"Dataset\"] = \"gtsrb\"\n",
    "\n",
    "df_mi_scores_gtsrb_anomal.insert(0, \"Dataset\", \"\")\n",
    "df_mi_scores_gtsrb_anomal.loc[:, \"Dataset\"] = \"gtsrb-anomal\"\n",
    "\n",
    "df_mi_scores_stl10.insert(0, \"Dataset\", \"\")\n",
    "df_mi_scores_stl10.loc[:, \"Dataset\"] = \"stl10\"\n",
    "\n",
    "df_mi_scores_cifar10.insert(0, \"Dataset\", \"\")\n",
    "df_mi_scores_cifar10.loc[:, \"Dataset\"] = \"cifar10\""
   ]
  },
  {
   "cell_type": "code",
   "execution_count": 233,
   "metadata": {},
   "outputs": [
    {
     "data": {
      "image/png": "[encoded data removed]",
      "text/plain": [
       "<Figure size 642.875x500 with 1 Axes>"
      ]
     },
     "metadata": {},
     "output_type": "display_data"
    }
   ],
   "source": [
    "df_pred_mi_scores = pd.concat([df_mi_scores_gtsrb,\n",
    "                               df_mi_scores_gtsrb_anomal,\n",
    "                               df_mi_scores_stl10,\n",
    "                               df_mi_scores_cifar10]).reset_index(drop=True)\n",
    "\n",
    "sns.displot(df_pred_mi_scores, x=\"Predictive MI score\", hue=\"Dataset\", kind=\"hist\", fill=True)\n",
    "plt.show()"
   ]
  },
  {
   "cell_type": "code",
   "execution_count": 234,
   "metadata": {},
   "outputs": [
    {
     "data": {
      "image/png": "[encoded data removed]",
      "text/plain": [
       "<Figure size 642.875x500 with 1 Axes>"
      ]
     },
     "metadata": {},
     "output_type": "display_data"
    }
   ],
   "source": [
    "df_pred_mi_scores = pd.concat([df_mi_scores_gtsrb,\n",
    "                               df_mi_scores_gtsrb_anomal]).reset_index(drop=True)\n",
    "\n",
    "sns.displot(df_pred_mi_scores, x=\"Predictive MI score\", hue=\"Dataset\", kind=\"hist\", fill=True)\n",
    "plt.show()"
   ]
  },
  {
   "cell_type": "markdown",
   "metadata": {},
   "source": [
    "### GTSRB vs GTSRB-Anomalies"
   ]
  },
  {
   "cell_type": "markdown",
   "metadata": {},
   "source": [
    "We use negative uncertainty scores for to align with the convention that positive (in-distribution) samples have higher scores (see plots above)"
   ]
  },
  {
   "cell_type": "code",
   "execution_count": 277,
   "metadata": {},
   "outputs": [
    {
     "name": "stdout",
     "output_type": "stream",
     "text": [
      "Test InD shape (4882,)\n",
      "Test OoD shape (4882,)\n",
      "AUROC: 0.8675\n",
      "FPR95: 0.3515\n",
      "AUPR: 0.8036\n"
     ]
    }
   ],
   "source": [
    "print(\"Test InD shape\", ind_gtsrb_pred_h_score.shape);\n",
    "print(\"Test OoD shape\", ood_gtsrb_anomal_pred_h_score.shape);\n",
    "\n",
    "results_pred_h_gtsrb_anomaly_test = get_hz_detector_results(detect_exp_name=\"predictive h: gtsrb vs. gtsrb_anomaly\",\n",
    "                                                     ind_samples_scores=-ind_gtsrb_pred_h_score,\n",
    "                                                     ood_samples_scores=-ood_gtsrb_anomal_pred_h_score)"
   ]
  },
  {
   "cell_type": "code",
   "execution_count": 280,
   "metadata": {},
   "outputs": [
    {
     "name": "stdout",
     "output_type": "stream",
     "text": [
      "Test InD shape (4882,)\n",
      "Test OoD shape (4882,)\n",
      "AUROC: 0.8607\n",
      "FPR95: 0.4795\n",
      "AUPR: 0.8224\n"
     ]
    }
   ],
   "source": [
    "print(\"Test InD shape\", ind_gtsrb_pred_mi_score.shape);\n",
    "print(\"Test OoD shape\", ood_gtsrb_anomal_pred_mi_score.shape);\n",
    "\n",
    "results_pred_mi_gtsrb_anomaly_test = get_hz_detector_results(detect_exp_name=\"predictive mi: gtsrb vs. gtsrb_anomaly\",\n",
    "                                                             ind_samples_scores=-ind_gtsrb_pred_mi_score,\n",
    "                                                             ood_samples_scores=-ood_gtsrb_anomal_pred_mi_score)"
   ]
  },
  {
   "cell_type": "markdown",
   "metadata": {},
   "source": [
    "### GTSRB vs CIFAR-10"
   ]
  },
  {
   "cell_type": "markdown",
   "metadata": {},
   "source": [
    "We use negative uncertainty scores for to align with the convention that positive (in-distribution) samples have higher scores (see plots above)"
   ]
  },
  {
   "cell_type": "code",
   "execution_count": 281,
   "metadata": {},
   "outputs": [
    {
     "name": "stdout",
     "output_type": "stream",
     "text": [
      "Test InD shape (4882,)\n",
      "Test OoD shape (20000,)\n",
      "AUROC: 0.9890\n",
      "FPR95: 0.0476\n",
      "AUPR: 0.9617\n"
     ]
    }
   ],
   "source": [
    "print(\"Test InD shape\", ind_gtsrb_pred_h_score.shape);\n",
    "print(\"Test OoD shape\", ood_cifar10_pred_h_score.shape);\n",
    "\n",
    "results_pred_h_cifar10_test = get_hz_detector_results(detect_exp_name=\"predictive h: gtsrb vs. cifar10\",\n",
    "                                                      ind_samples_scores=-ind_gtsrb_pred_h_score,\n",
    "                                                      ood_samples_scores=-ood_cifar10_pred_h_score)"
   ]
  },
  {
   "cell_type": "code",
   "execution_count": 282,
   "metadata": {},
   "outputs": [
    {
     "name": "stdout",
     "output_type": "stream",
     "text": [
      "Test InD shape (4882,)\n",
      "Test OoD shape (20000,)\n",
      "AUROC: 0.9725\n",
      "FPR95: 0.1406\n",
      "AUPR: 0.9499\n"
     ]
    }
   ],
   "source": [
    "print(\"Test InD shape\", ind_gtsrb_pred_mi_score.shape);\n",
    "print(\"Test OoD shape\", ood_cifar10_pred_mi_score.shape);\n",
    "\n",
    "results_pred_mi_cifar10_test = get_hz_detector_results(detect_exp_name=\"predictive mi: gtsrb vs. cifar10\",\n",
    "                                                       ind_samples_scores=-ind_gtsrb_pred_mi_score,\n",
    "                                                       ood_samples_scores=-ood_cifar10_pred_mi_score)"
   ]
  },
  {
   "cell_type": "markdown",
   "metadata": {},
   "source": [
    "### GTSRB vs STL-10"
   ]
  },
  {
   "cell_type": "markdown",
   "metadata": {},
   "source": [
    "We use negative uncertainty scores for to align with the convention that positive (in-distribution) samples have higher scores (see plots above)"
   ]
  },
  {
   "cell_type": "code",
   "execution_count": 283,
   "metadata": {},
   "outputs": [
    {
     "name": "stdout",
     "output_type": "stream",
     "text": [
      "Test InD shape (4882,)\n",
      "Test OoD shape (11000,)\n",
      "AUROC: 0.9905\n",
      "FPR95: 0.0388\n",
      "AUPR: 0.9772\n"
     ]
    }
   ],
   "source": [
    "print(\"Test InD shape\", ind_gtsrb_pred_h_score.shape);\n",
    "print(\"Test OoD shape\", ood_stl10_pred_h_score.shape);\n",
    "\n",
    "results_pred_h_stl10_test = get_hz_detector_results(detect_exp_name=\"predictive h: gtsrb vs. stl10\",\n",
    "                                                      ind_samples_scores=-ind_gtsrb_pred_h_score,\n",
    "                                                      ood_samples_scores=-ood_stl10_pred_h_score)"
   ]
  },
  {
   "cell_type": "code",
   "execution_count": 284,
   "metadata": {},
   "outputs": [
    {
     "name": "stdout",
     "output_type": "stream",
     "text": [
      "Test InD shape (4882,)\n",
      "Test OoD shape (11000,)\n",
      "AUROC: 0.9750\n",
      "FPR95: 0.1176\n",
      "AUPR: 0.9679\n"
     ]
    }
   ],
   "source": [
    "print(\"Test InD shape\", ind_gtsrb_pred_mi_score.shape);\n",
    "print(\"Test OoD shape\", ood_stl10_pred_mi_score.shape);\n",
    "\n",
    "results_pred_mi_stl10_test = get_hz_detector_results(detect_exp_name=\"predictive mi: gtsrb vs. stl10\",\n",
    "                                                       ind_samples_scores=-ind_gtsrb_pred_mi_score,\n",
    "                                                       ood_samples_scores=-ood_stl10_pred_mi_score)"
   ]
  },
  {
   "cell_type": "markdown",
   "metadata": {},
   "source": [
    "### GTSRB vs GTSRB-Anomalies (test split)"
   ]
  },
  {
   "cell_type": "markdown",
   "metadata": {},
   "source": [
    "We use negative uncertainty scores for to align with the convention that positive (in-distribution) samples have higher scores (see plots above)"
   ]
  },
  {
   "cell_type": "code",
   "execution_count": 247,
   "metadata": {},
   "outputs": [
    {
     "name": "stdout",
     "output_type": "stream",
     "text": [
      "Test InD shape (1273,)\n",
      "Test OoD shape (1273,)\n",
      "AUROC: 0.8728\n",
      "FPR95: 0.3645\n",
      "AUPR: 0.8211\n"
     ]
    }
   ],
   "source": [
    "print(\"Test InD shape\", ind_gtsrb_test_pred_h_score.shape);\n",
    "print(\"Test OoD shape\", ood_gtsrb_anomal_test_pred_h_score.shape);\n",
    "\n",
    "results_pred_h_gtsrb_anomaly_test = get_hz_detector_results(detect_exp_name=\"predictive h: gtsrb vs. gtsrb_anomaly\",\n",
    "                                                     ind_samples_scores=-ind_gtsrb_test_pred_h_score,\n",
    "                                                     ood_samples_scores=-ood_gtsrb_anomal_test_pred_h_score)"
   ]
  },
  {
   "cell_type": "code",
   "execution_count": 249,
   "metadata": {},
   "outputs": [
    {
     "name": "stdout",
     "output_type": "stream",
     "text": [
      "Test InD shape (1273,)\n",
      "Test OoD shape (1273,)\n",
      "AUROC: 0.8652\n",
      "FPR95: 0.4815\n",
      "AUPR: 0.8309\n"
     ]
    }
   ],
   "source": [
    "print(\"Test InD shape\", ind_gtsrb_test_mi_score.shape);\n",
    "print(\"Test OoD shape\", ood_gtsrb_anomal_test_mi_score.shape);\n",
    "\n",
    "results_pred_mi_gtsrb_anomaly_test = get_hz_detector_results(detect_exp_name=\"predictive mi: gtsrb vs. gtsrb_anomaly\",\n",
    "                                                             ind_samples_scores=-ind_gtsrb_test_mi_score,\n",
    "                                                             ood_samples_scores=-ood_gtsrb_anomal_test_mi_score)"
   ]
  },
  {
   "cell_type": "markdown",
   "metadata": {},
   "source": [
    "### GTSRB vs CIFAR-10 (test split)"
   ]
  },
  {
   "cell_type": "markdown",
   "metadata": {},
   "source": [
    "We use negative uncertainty scores for to align with the convention that positive (in-distribution) samples have higher scores (see plots above)"
   ]
  },
  {
   "cell_type": "code",
   "execution_count": 250,
   "metadata": {},
   "outputs": [
    {
     "name": "stdout",
     "output_type": "stream",
     "text": [
      "Test InD shape (1273,)\n",
      "Test OoD shape (10000,)\n",
      "AUROC: 0.9882\n",
      "FPR95: 0.0675\n",
      "AUPR: 0.9383\n"
     ]
    }
   ],
   "source": [
    "print(\"Test InD shape\", ind_gtsrb_test_pred_h_score.shape);\n",
    "print(\"Test OoD shape\", ood_cifar10_test_pred_h_score.shape);\n",
    "\n",
    "results_pred_h_cifar10_test = get_hz_detector_results(detect_exp_name=\"predictive h: gtsrb vs. cifar10\",\n",
    "                                                      ind_samples_scores=-ind_gtsrb_test_pred_h_score,\n",
    "                                                      ood_samples_scores=-ood_cifar10_test_pred_h_score)"
   ]
  },
  {
   "cell_type": "code",
   "execution_count": 251,
   "metadata": {},
   "outputs": [
    {
     "name": "stdout",
     "output_type": "stream",
     "text": [
      "Test InD shape (1273,)\n",
      "Test OoD shape (10000,)\n",
      "AUROC: 0.9701\n",
      "FPR95: 0.1651\n",
      "AUPR: 0.9307\n"
     ]
    }
   ],
   "source": [
    "print(\"Test InD shape\", ind_gtsrb_test_mi_score.shape);\n",
    "print(\"Test OoD shape\", ood_cifar10_test_mi_score.shape);\n",
    "\n",
    "results_pred_mi_cifar10_test = get_hz_detector_results(detect_exp_name=\"predictive mi: gtsrb vs. cifar10\",\n",
    "                                                       ind_samples_scores=-ind_gtsrb_test_mi_score,\n",
    "                                                       ood_samples_scores=-ood_cifar10_test_mi_score)"
   ]
  },
  {
   "cell_type": "markdown",
   "metadata": {},
   "source": [
    "### GTSRB vs STL-10 (test split)"
   ]
  },
  {
   "cell_type": "markdown",
   "metadata": {},
   "source": [
    "We use negative uncertainty scores for to align with the convention that positive (in-distribution) samples have higher scores (see plots above)"
   ]
  },
  {
   "cell_type": "code",
   "execution_count": 252,
   "metadata": {},
   "outputs": [
    {
     "name": "stdout",
     "output_type": "stream",
     "text": [
      "Test InD shape (1273,)\n",
      "Test OoD shape (8000,)\n",
      "AUROC: 0.9899\n",
      "FPR95: 0.0510\n",
      "AUPR: 0.9458\n"
     ]
    }
   ],
   "source": [
    "print(\"Test InD shape\", ind_gtsrb_test_pred_h_score.shape);\n",
    "print(\"Test OoD shape\", ood_stl10_test_pred_h_score.shape);\n",
    "\n",
    "results_pred_h_stl10_test = get_hz_detector_results(detect_exp_name=\"predictive h: gtsrb vs. stl10\",\n",
    "                                                      ind_samples_scores=-ind_gtsrb_test_pred_h_score,\n",
    "                                                      ood_samples_scores=-ood_stl10_test_pred_h_score)"
   ]
  },
  {
   "cell_type": "code",
   "execution_count": 253,
   "metadata": {},
   "outputs": [
    {
     "name": "stdout",
     "output_type": "stream",
     "text": [
      "Test InD shape (1273,)\n",
      "Test OoD shape (8000,)\n",
      "AUROC: 0.9724\n",
      "FPR95: 0.1395\n",
      "AUPR: 0.9404\n"
     ]
    }
   ],
   "source": [
    "print(\"Test InD shape\", ind_gtsrb_test_mi_score.shape);\n",
    "print(\"Test OoD shape\", ood_stl10_test_mi_score.shape);\n",
    "\n",
    "results_pred_mi_stl10_test = get_hz_detector_results(detect_exp_name=\"predictive mi: gtsrb vs. stl10\",\n",
    "                                                       ind_samples_scores=-ind_gtsrb_test_mi_score,\n",
    "                                                       ood_samples_scores=-ood_stl10_test_mi_score)"
   ]
  },
  {
   "cell_type": "markdown",
   "metadata": {},
   "source": [
    "## MSP Score"
   ]
  },
  {
   "cell_type": "code",
   "execution_count": 311,
   "metadata": {},
   "outputs": [],
   "source": [
    "gtsrb_model.to(device);\n",
    "gtsrb_model.eval(); "
   ]
  },
  {
   "cell_type": "code",
   "execution_count": 315,
   "metadata": {},
   "outputs": [],
   "source": [
    "def get_msp_score(dnn_model: torch.nn.Module,\n",
    "                  input_dataloader: DataLoader):\n",
    "    \n",
    "    softmax_fn = torch.nn.Softmax(dim=1)\n",
    "    \n",
    "    device = torch.device('cuda' if torch.cuda.is_available() else 'cpu')\n",
    "    gtsrb_model.to(device)\n",
    "    dl_preds = []\n",
    "    dl_preds_msp_scores = []\n",
    "\n",
    "    with torch.no_grad():\n",
    "        \n",
    "        for i, (image, label) in enumerate(input_dataloader):\n",
    "            image = image.to(device)\n",
    "            pred_logits = dnn_model(image)\n",
    "                                    \n",
    "            pred_score = torch.max(softmax_fn(pred_logits), dim=1)\n",
    "            # ic(pred_score.shape)\n",
    "            # get the max values:\n",
    "            dl_preds_msp_scores.append(pred_score[0])\n",
    "        \n",
    "        dl_preds_msp_scores_t = torch.cat(dl_preds_msp_scores, dim=0)\n",
    "        # ic(dl_preds_msp_scores_t.shape)\n",
    "        # pred = np.max(softmax_fn(pred_logits).detach().cpu().numpy(), axis=1)\n",
    "        dl_preds_msp_scores = dl_preds_msp_scores_t.detach().cpu().numpy()\n",
    "        \n",
    "    return dl_preds_msp_scores"
   ]
  },
  {
   "cell_type": "code",
   "execution_count": 325,
   "metadata": {},
   "outputs": [],
   "source": [
    "ind_gtsrb_test_pred_msp_score = get_msp_score(dnn_model=gtsrb_model.model, input_dataloader=gtsrb_normal_test_loader)\n",
    "ood_gtsrb_anomal_test_pred_msp_score = get_msp_score(dnn_model=gtsrb_model.model, input_dataloader=gtsrb_anomal_test_loader)\n",
    "ood_cifar10_test_pred_msp_score = get_msp_score(dnn_model=gtsrb_model.model, input_dataloader=cifar10_test_loader)\n",
    "ood_stl10_test_pred_msp_score = get_msp_score(dnn_model=gtsrb_model.model, input_dataloader=stl10_test_loader)"
   ]
  },
  {
   "cell_type": "code",
   "execution_count": 343,
   "metadata": {},
   "outputs": [],
   "source": [
    "ind_gtsrb_valid_pred_msp_score = get_msp_score(dnn_model=gtsrb_model.model, input_dataloader=gtsrb_normal_valid_loader)\n",
    "ood_gtsrb_anomal_valid_pred_msp_score = get_msp_score(dnn_model=gtsrb_model.model, input_dataloader=gtsrb_anomal_valid_loader)\n",
    "ood_cifar10_valid_pred_msp_score = get_msp_score(dnn_model=gtsrb_model.model, input_dataloader=cifar10_valid_loader)\n",
    "ood_stl10_valid_pred_msp_score = get_msp_score(dnn_model=gtsrb_model.model, input_dataloader=stl10_valid_loader)"
   ]
  },
  {
   "cell_type": "code",
   "execution_count": 344,
   "metadata": {},
   "outputs": [],
   "source": [
    "ind_gtsrb_pred_msp_score = np.concatenate((ind_gtsrb_valid_pred_msp_score, ind_gtsrb_test_pred_msp_score))\n",
    "ood_gtsrb_anomal_pred_msp_score = np.concatenate((ood_gtsrb_anomal_valid_pred_msp_score, ood_gtsrb_anomal_test_pred_msp_score))\n",
    "ood_cifar10_pred_msp_score = np.concatenate((ood_cifar10_valid_pred_msp_score, ood_cifar10_test_pred_msp_score))\n",
    "ood_stl10_pred_msp_score = np.concatenate((ood_stl10_valid_pred_msp_score, ood_stl10_test_pred_msp_score))"
   ]
  },
  {
   "cell_type": "code",
   "execution_count": 345,
   "metadata": {},
   "outputs": [],
   "source": [
    "np.save('/media/farnez/Data/EXPERIMENTS/CoRL-2023/gtsrb-classification/resnet18/OoD_detection_baselines/msp_score/ind_gtsrb_pred_msp_score',\n",
    "        ind_gtsrb_pred_msp_score)\n",
    "\n",
    "np.save('/media/farnez/Data/EXPERIMENTS/CoRL-2023/gtsrb-classification/resnet18/OoD_detection_baselines/msp_score/ood_gtsrb_anomal_pred_msp_score',\n",
    "        ood_gtsrb_anomal_pred_msp_score)\n",
    "\n",
    "np.save('/media/farnez/Data/EXPERIMENTS/CoRL-2023/gtsrb-classification/resnet18/OoD_detection_baselines/msp_score/ood_cifar10_pred_msp_score',\n",
    "        ood_cifar10_pred_msp_score)\n",
    "\n",
    "np.save('/media/farnez/Data/EXPERIMENTS/CoRL-2023/gtsrb-classification/resnet18/OoD_detection_baselines/msp_score/ood_stl10_pred_msp_score',\n",
    "        ood_stl10_pred_msp_score)"
   ]
  },
  {
   "cell_type": "markdown",
   "metadata": {},
   "source": [
    "### Plot MSP scores"
   ]
  },
  {
   "cell_type": "code",
   "execution_count": 346,
   "metadata": {},
   "outputs": [],
   "source": [
    "df_pred_msp_scores_gtsrb = pd.DataFrame(ind_gtsrb_pred_msp_score, columns=[\"Predictive MSP score\"])\n",
    "df_pred_msp_scores_gtsrb_anomal = pd.DataFrame(ood_gtsrb_anomal_pred_msp_score, columns=[\"Predictive MSP score\"])\n",
    "df_pred_msp_scores_stl10 = pd.DataFrame(ood_stl10_pred_msp_score, columns=[\"Predictive MSP score\"])\n",
    "df_pred_msp_scores_cifar10 = pd.DataFrame(ood_cifar10_pred_msp_score, columns=[\"Predictive MSP score\"])\n",
    "\n",
    "df_pred_msp_scores_gtsrb.insert(0, \"Dataset\", \"\")\n",
    "df_pred_msp_scores_gtsrb.loc[:, \"Dataset\"] = \"gtsrb\"\n",
    "\n",
    "df_pred_msp_scores_gtsrb_anomal.insert(0, \"Dataset\", \"\")\n",
    "df_pred_msp_scores_gtsrb_anomal.loc[:, \"Dataset\"] = \"gtsrb-anomal\"\n",
    "\n",
    "df_pred_msp_scores_stl10.insert(0, \"Dataset\", \"\")\n",
    "df_pred_msp_scores_stl10.loc[:, \"Dataset\"] = \"stl10\"\n",
    "\n",
    "df_pred_msp_scores_cifar10.insert(0, \"Dataset\", \"\")\n",
    "df_pred_msp_scores_cifar10.loc[:, \"Dataset\"] = \"cifar10\""
   ]
  },
  {
   "cell_type": "code",
   "execution_count": 347,
   "metadata": {},
   "outputs": [
    {
     "data": {
      "image/png": "[encoded data removed]",
      "text/plain": [
       "<Figure size 642.875x500 with 1 Axes>"
      ]
     },
     "metadata": {},
     "output_type": "display_data"
    }
   ],
   "source": [
    "df_pred_h_scores = pd.concat([df_pred_msp_scores_gtsrb,\n",
    "                              df_pred_msp_scores_gtsrb_anomal,\n",
    "                              df_pred_msp_scores_stl10,\n",
    "                              df_pred_msp_scores_cifar10]).reset_index(drop=True)\n",
    "\n",
    "sns.displot(df_pred_h_scores, x=\"Predictive MSP score\", hue=\"Dataset\", kind=\"hist\", fill=True)\n",
    "plt.show()"
   ]
  },
  {
   "cell_type": "code",
   "execution_count": 348,
   "metadata": {},
   "outputs": [
    {
     "data": {
      "image/png": "[encoded data removed]",
      "text/plain": [
       "<Figure size 642.875x500 with 1 Axes>"
      ]
     },
     "metadata": {},
     "output_type": "display_data"
    }
   ],
   "source": [
    "df_pred_h_scores = pd.concat([df_pred_msp_scores_gtsrb,\n",
    "                              df_pred_msp_scores_gtsrb_anomal]).reset_index(drop=True)\n",
    "\n",
    "sns.displot(df_pred_h_scores, x=\"Predictive MSP score\", hue=\"Dataset\", kind=\"hist\", fill=True)\n",
    "plt.show()"
   ]
  },
  {
   "cell_type": "markdown",
   "metadata": {},
   "source": [
    "### Plot MSP scores (test-split)"
   ]
  },
  {
   "cell_type": "code",
   "execution_count": 329,
   "metadata": {},
   "outputs": [],
   "source": [
    "df_pred_msp_scores_gtsrb = pd.DataFrame(ind_gtsrb_test_pred_msp_score, columns=[\"Predictive MSP score\"])\n",
    "df_pred_msp_scores_gtsrb_anomal = pd.DataFrame(ood_gtsrb_anomal_test_pred_msp_score, columns=[\"Predictive MSP score\"])\n",
    "df_pred_msp_scores_stl10 = pd.DataFrame(ood_stl10_test_pred_msp_score, columns=[\"Predictive MSP score\"])\n",
    "df_pred_msp_scores_cifar10 = pd.DataFrame(ood_cifar10_test_pred_msp_score, columns=[\"Predictive MSP score\"])\n",
    "\n",
    "df_pred_msp_scores_gtsrb.insert(0, \"Dataset\", \"\")\n",
    "df_pred_msp_scores_gtsrb.loc[:, \"Dataset\"] = \"gtsrb\"\n",
    "\n",
    "df_pred_msp_scores_gtsrb_anomal.insert(0, \"Dataset\", \"\")\n",
    "df_pred_msp_scores_gtsrb_anomal.loc[:, \"Dataset\"] = \"gtsrb-anomal\"\n",
    "\n",
    "df_pred_msp_scores_stl10.insert(0, \"Dataset\", \"\")\n",
    "df_pred_msp_scores_stl10.loc[:, \"Dataset\"] = \"stl10\"\n",
    "\n",
    "df_pred_msp_scores_cifar10.insert(0, \"Dataset\", \"\")\n",
    "df_pred_msp_scores_cifar10.loc[:, \"Dataset\"] = \"cifar10\""
   ]
  },
  {
   "cell_type": "code",
   "execution_count": 331,
   "metadata": {},
   "outputs": [
    {
     "data": {
      "image/png": "[encoded data removed]",
      "text/plain": [
       "<Figure size 642.875x500 with 1 Axes>"
      ]
     },
     "metadata": {},
     "output_type": "display_data"
    }
   ],
   "source": [
    "df_pred_h_scores = pd.concat([df_pred_msp_scores_gtsrb,\n",
    "                              df_pred_msp_scores_gtsrb_anomal,\n",
    "                              df_pred_msp_scores_stl10,\n",
    "                              df_pred_msp_scores_cifar10]).reset_index(drop=True)\n",
    "\n",
    "sns.displot(df_pred_h_scores, x=\"Predictive MSP score\", hue=\"Dataset\", kind=\"hist\", fill=True)\n",
    "plt.show()"
   ]
  },
  {
   "cell_type": "code",
   "execution_count": 332,
   "metadata": {},
   "outputs": [
    {
     "data": {
      "image/png": "[encoded data removed]",
      "text/plain": [
       "<Figure size 642.875x500 with 1 Axes>"
      ]
     },
     "metadata": {},
     "output_type": "display_data"
    }
   ],
   "source": [
    "df_pred_h_scores = pd.concat([df_pred_msp_scores_gtsrb,\n",
    "                              df_pred_msp_scores_gtsrb_anomal]).reset_index(drop=True)\n",
    "\n",
    "sns.displot(df_pred_h_scores, x=\"Predictive MSP score\", hue=\"Dataset\", kind=\"hist\", fill=True)\n",
    "plt.show()"
   ]
  },
  {
   "cell_type": "markdown",
   "metadata": {},
   "source": [
    "### GTSRB vs GTSRB-Anomalies"
   ]
  },
  {
   "cell_type": "markdown",
   "metadata": {},
   "source": [
    "We use negative uncertainty scores for to align with the convention that positive (in-distribution) samples have higher scores (see plots above)"
   ]
  },
  {
   "cell_type": "code",
   "execution_count": 354,
   "metadata": {},
   "outputs": [
    {
     "name": "stdout",
     "output_type": "stream",
     "text": [
      "Test InD shape (4882,)\n",
      "Test OoD shape (4882,)\n",
      "AUROC: 0.8624\n",
      "FPR95: 0.3869\n",
      "AUPR: 0.8023\n"
     ]
    }
   ],
   "source": [
    "print(\"Test InD shape\", ind_gtsrb_pred_msp_score.shape);\n",
    "print(\"Test OoD shape\", ood_gtsrb_anomal_pred_msp_score.shape);\n",
    "\n",
    "results_pred_msp_gtsrb_anomaly_test = get_hz_detector_results(detect_exp_name=\"MSP score: gtsrb vs. gtsrb_anomaly\",\n",
    "                                                              ind_samples_scores=ind_gtsrb_pred_msp_score,\n",
    "                                                              ood_samples_scores=ood_gtsrb_anomal_pred_msp_score)"
   ]
  },
  {
   "cell_type": "markdown",
   "metadata": {},
   "source": [
    "### GTSRB vs CIFAR-10"
   ]
  },
  {
   "cell_type": "markdown",
   "metadata": {},
   "source": [
    "We use negative uncertainty scores for to align with the convention that positive (in-distribution) samples have higher scores (see plots above)"
   ]
  },
  {
   "cell_type": "code",
   "execution_count": 355,
   "metadata": {},
   "outputs": [
    {
     "name": "stdout",
     "output_type": "stream",
     "text": [
      "Test InD shape (4882,)\n",
      "Test OoD shape (20000,)\n",
      "AUROC: 0.9848\n",
      "FPR95: 0.0691\n",
      "AUPR: 0.9522\n"
     ]
    }
   ],
   "source": [
    "print(\"Test InD shape\", ind_gtsrb_pred_msp_score.shape);\n",
    "print(\"Test OoD shape\", ood_cifar10_pred_msp_score.shape);\n",
    "\n",
    "results_pred_msp_cifar10_test = get_hz_detector_results(detect_exp_name=\"MSP score: gtsrb vs. cifar10\",\n",
    "                                                        ind_samples_scores=ind_gtsrb_pred_msp_score,\n",
    "                                                        ood_samples_scores=ood_cifar10_pred_msp_score)"
   ]
  },
  {
   "cell_type": "markdown",
   "metadata": {},
   "source": [
    "### GTSRB vs STL-10"
   ]
  },
  {
   "cell_type": "markdown",
   "metadata": {},
   "source": [
    "We use negative uncertainty scores for to align with the convention that positive (in-distribution) samples have higher scores (see plots above)"
   ]
  },
  {
   "cell_type": "code",
   "execution_count": 357,
   "metadata": {},
   "outputs": [
    {
     "name": "stdout",
     "output_type": "stream",
     "text": [
      "Test InD shape (4882,)\n",
      "Test OoD shape (11000,)\n",
      "AUROC: 0.9858\n",
      "FPR95: 0.0594\n",
      "AUPR: 0.9685\n"
     ]
    }
   ],
   "source": [
    "print(\"Test InD shape\", ind_gtsrb_pred_msp_score.shape);\n",
    "print(\"Test OoD shape\", ood_stl10_pred_msp_score.shape);\n",
    "\n",
    "results_pred_msp_stl10_test = get_hz_detector_results(detect_exp_name=\"MSP score: gtsrb vs. stl10\",\n",
    "                                                      ind_samples_scores=ind_gtsrb_pred_msp_score,\n",
    "                                                      ood_samples_scores=ood_stl10_pred_msp_score)"
   ]
  },
  {
   "cell_type": "markdown",
   "metadata": {},
   "source": [
    "## Energy Score"
   ]
  },
  {
   "cell_type": "code",
   "execution_count": null,
   "metadata": {},
   "outputs": [],
   "source": [
    "gtsrb_model.to(device);\n",
    "gtsrb_model.eval(); "
   ]
  },
  {
   "cell_type": "code",
   "execution_count": 333,
   "metadata": {},
   "outputs": [],
   "source": [
    "def get_energy_score(dnn_model: torch.nn.Module,\n",
    "                     input_dataloader: DataLoader):\n",
    "    \n",
    "    device = torch.device('cuda' if torch.cuda.is_available() else 'cpu')\n",
    "    gtsrb_model.to(device)\n",
    "\n",
    "    dl_preds_energy_scores = []\n",
    "\n",
    "    with torch.no_grad():\n",
    "        \n",
    "        for i, (image, label) in enumerate(input_dataloader):\n",
    "            image = image.to(device)\n",
    "            pred_logits = dnn_model(image)\n",
    "            \n",
    "            pred_energy_score = torch.logsumexp(pred_logits, dim=1)\n",
    "\n",
    "            dl_preds_energy_scores.append(pred_energy_score)\n",
    "        \n",
    "        dl_preds_energy_scores_t = torch.cat(dl_preds_energy_scores, dim=0)\n",
    "     \n",
    "        dl_preds_energy_scores = dl_preds_energy_scores_t.detach().cpu().numpy()\n",
    "        \n",
    "    return dl_preds_energy_scores"
   ]
  },
  {
   "cell_type": "code",
   "execution_count": 334,
   "metadata": {},
   "outputs": [],
   "source": [
    "ind_gtsrb_test_pred_energy_score = get_energy_score(dnn_model=gtsrb_model.model, input_dataloader=gtsrb_normal_test_loader)\n",
    "ood_gtsrb_anomal_test_pred_energy_score = get_energy_score(dnn_model=gtsrb_model.model, input_dataloader=gtsrb_anomal_test_loader)\n",
    "ood_cifar10_test_pred_energy_score = get_energy_score(dnn_model=gtsrb_model.model, input_dataloader=cifar10_test_loader)\n",
    "ood_stl10_test_pred_energy_score = get_energy_score(dnn_model=gtsrb_model.model, input_dataloader=stl10_test_loader)"
   ]
  },
  {
   "cell_type": "code",
   "execution_count": 340,
   "metadata": {},
   "outputs": [],
   "source": [
    "ind_gtsrb_valid_pred_energy_score = get_energy_score(dnn_model=gtsrb_model.model, input_dataloader=gtsrb_normal_valid_loader)\n",
    "ood_gtsrb_anomal_valid_pred_energy_score = get_energy_score(dnn_model=gtsrb_model.model, input_dataloader=gtsrb_anomal_valid_loader)\n",
    "ood_cifar10_valid_pred_energy_score = get_energy_score(dnn_model=gtsrb_model.model, input_dataloader=cifar10_valid_loader)\n",
    "ood_stl10_valid_pred_energy_score = get_energy_score(dnn_model=gtsrb_model.model, input_dataloader=stl10_valid_loader)"
   ]
  },
  {
   "cell_type": "code",
   "execution_count": 341,
   "metadata": {},
   "outputs": [],
   "source": [
    "ind_gtsrb_pred_energy_score = np.concatenate((ind_gtsrb_valid_pred_energy_score, ind_gtsrb_test_pred_energy_score))\n",
    "ood_gtsrb_anomal_pred_energy_score = np.concatenate((ood_gtsrb_anomal_valid_pred_energy_score, ood_gtsrb_anomal_test_pred_energy_score))\n",
    "ood_cifar10_pred_energy_score = np.concatenate((ood_cifar10_valid_pred_energy_score, ood_cifar10_test_pred_energy_score))\n",
    "ood_stl10_pred_energy_score = np.concatenate((ood_stl10_valid_pred_energy_score, ood_stl10_test_pred_energy_score))"
   ]
  },
  {
   "cell_type": "code",
   "execution_count": 342,
   "metadata": {},
   "outputs": [],
   "source": [
    "np.save('/media/farnez/Data/EXPERIMENTS/CoRL-2023/gtsrb-classification/resnet18/OoD_detection_baselines/energy_score/ind_gtsrb_pred_energy_score',\n",
    "        ind_gtsrb_pred_energy_score)\n",
    "\n",
    "np.save('/media/farnez/Data/EXPERIMENTS/CoRL-2023/gtsrb-classification/resnet18/OoD_detection_baselines/energy_score/ood_gtsrb_anomal_pred_energy_score',\n",
    "        ood_gtsrb_anomal_pred_energy_score)\n",
    "\n",
    "np.save('/media/farnez/Data/EXPERIMENTS/CoRL-2023/gtsrb-classification/resnet18/OoD_detection_baselines/energy_score/ood_cifar10_pred_energy_score',\n",
    "        ood_cifar10_pred_energy_score)\n",
    "\n",
    "np.save('/media/farnez/Data/EXPERIMENTS/CoRL-2023/gtsrb-classification/resnet18/OoD_detection_baselines/energy_score/ood_stl10_pred_energy_score',\n",
    "        ood_stl10_pred_energy_score)"
   ]
  },
  {
   "cell_type": "markdown",
   "metadata": {},
   "source": [
    "### Plot Energy scores"
   ]
  },
  {
   "cell_type": "code",
   "execution_count": 349,
   "metadata": {},
   "outputs": [],
   "source": [
    "df_pred_energy_scores_gtsrb = pd.DataFrame(ind_gtsrb_pred_energy_score, columns=[\"Predictive Energy score\"])\n",
    "df_pred_energy_scores_gtsrb_anomal = pd.DataFrame(ood_gtsrb_anomal_pred_energy_score, columns=[\"Predictive Energy score\"])\n",
    "df_pred_energy_scores_stl10 = pd.DataFrame(ood_stl10_pred_energy_score, columns=[\"Predictive Energy score\"])\n",
    "df_pred_energy_scores_cifar10 = pd.DataFrame(ood_cifar10_pred_energy_score, columns=[\"Predictive Energy score\"])\n",
    "\n",
    "df_pred_energy_scores_gtsrb.insert(0, \"Dataset\", \"\")\n",
    "df_pred_energy_scores_gtsrb.loc[:, \"Dataset\"] = \"gtsrb\"\n",
    "\n",
    "df_pred_energy_scores_gtsrb_anomal.insert(0, \"Dataset\", \"\")\n",
    "df_pred_energy_scores_gtsrb_anomal.loc[:, \"Dataset\"] = \"gtsrb-anomal\"\n",
    "\n",
    "df_pred_energy_scores_stl10.insert(0, \"Dataset\", \"\")\n",
    "df_pred_energy_scores_stl10.loc[:, \"Dataset\"] = \"stl10\"\n",
    "\n",
    "df_pred_energy_scores_cifar10.insert(0, \"Dataset\", \"\")\n",
    "df_pred_energy_scores_cifar10.loc[:, \"Dataset\"] = \"cifar10\""
   ]
  },
  {
   "cell_type": "code",
   "execution_count": 350,
   "metadata": {},
   "outputs": [
    {
     "data": {
      "image/png": "[encoded data removed]",
      "text/plain": [
       "<Figure size 642.875x500 with 1 Axes>"
      ]
     },
     "metadata": {},
     "output_type": "display_data"
    }
   ],
   "source": [
    "df_pred_h_scores = pd.concat([df_pred_energy_scores_gtsrb,\n",
    "                              df_pred_energy_scores_gtsrb_anomal,\n",
    "                              df_pred_energy_scores_stl10,\n",
    "                              df_pred_energy_scores_cifar10]).reset_index(drop=True)\n",
    "\n",
    "sns.displot(df_pred_h_scores, x=\"Predictive Energy score\", hue=\"Dataset\", kind=\"hist\", fill=True)\n",
    "plt.show()"
   ]
  },
  {
   "cell_type": "code",
   "execution_count": 351,
   "metadata": {},
   "outputs": [
    {
     "data": {
      "image/png": "[encoded data removed]",
      "text/plain": [
       "<Figure size 642.875x500 with 1 Axes>"
      ]
     },
     "metadata": {},
     "output_type": "display_data"
    }
   ],
   "source": [
    "df_pred_h_scores = pd.concat([df_pred_energy_scores_gtsrb,\n",
    "                              df_pred_energy_scores_gtsrb_anomal]).reset_index(drop=True)\n",
    "\n",
    "sns.displot(df_pred_h_scores, x=\"Predictive Energy score\", hue=\"Dataset\", kind=\"hist\", fill=True)\n",
    "plt.show()"
   ]
  },
  {
   "cell_type": "markdown",
   "metadata": {},
   "source": [
    "### Plot Energy scores (test-split)"
   ]
  },
  {
   "cell_type": "code",
   "execution_count": 338,
   "metadata": {},
   "outputs": [],
   "source": [
    "df_pred_energy_scores_gtsrb = pd.DataFrame(ind_gtsrb_test_pred_energy_score, columns=[\"Predictive Energy score\"])\n",
    "df_pred_energy_scores_gtsrb_anomal = pd.DataFrame(ood_gtsrb_anomal_test_pred_energy_score, columns=[\"Predictive Energy score\"])\n",
    "df_pred_energy_scores_stl10 = pd.DataFrame(ood_stl10_test_pred_energy_score, columns=[\"Predictive Energy score\"])\n",
    "df_pred_energy_scores_cifar10 = pd.DataFrame(ood_cifar10_test_pred_energy_score, columns=[\"Predictive Energy score\"])\n",
    "\n",
    "df_pred_energy_scores_gtsrb.insert(0, \"Dataset\", \"\")\n",
    "df_pred_energy_scores_gtsrb.loc[:, \"Dataset\"] = \"gtsrb\"\n",
    "\n",
    "df_pred_energy_scores_gtsrb_anomal.insert(0, \"Dataset\", \"\")\n",
    "df_pred_energy_scores_gtsrb_anomal.loc[:, \"Dataset\"] = \"gtsrb-anomal\"\n",
    "\n",
    "df_pred_energy_scores_stl10.insert(0, \"Dataset\", \"\")\n",
    "df_pred_energy_scores_stl10.loc[:, \"Dataset\"] = \"stl10\"\n",
    "\n",
    "df_pred_energy_scores_cifar10.insert(0, \"Dataset\", \"\")\n",
    "df_pred_energy_scores_cifar10.loc[:, \"Dataset\"] = \"cifar10\""
   ]
  },
  {
   "cell_type": "code",
   "execution_count": 339,
   "metadata": {},
   "outputs": [
    {
     "data": {
      "image/png": "[encoded data removed]",
      "text/plain": [
       "<Figure size 642.875x500 with 1 Axes>"
      ]
     },
     "metadata": {},
     "output_type": "display_data"
    }
   ],
   "source": [
    "df_pred_h_scores = pd.concat([df_pred_energy_scores_gtsrb,\n",
    "                              df_pred_energy_scores_gtsrb_anomal,\n",
    "                              df_pred_energy_scores_stl10,\n",
    "                              df_pred_energy_scores_cifar10]).reset_index(drop=True)\n",
    "\n",
    "sns.displot(df_pred_h_scores, x=\"Predictive Energy score\", hue=\"Dataset\", kind=\"hist\", fill=True)\n",
    "plt.show()"
   ]
  },
  {
   "cell_type": "markdown",
   "metadata": {},
   "source": [
    "### GTSRB vs GTSRB-Anomalies"
   ]
  },
  {
   "cell_type": "markdown",
   "metadata": {},
   "source": [
    "We use negative uncertainty scores for to align with the convention that positive (in-distribution) samples have higher scores (see plots above)"
   ]
  },
  {
   "cell_type": "code",
   "execution_count": 358,
   "metadata": {},
   "outputs": [
    {
     "name": "stdout",
     "output_type": "stream",
     "text": [
      "Test InD shape (4882,)\n",
      "Test OoD shape (4882,)\n",
      "AUROC: 0.8599\n",
      "FPR95: 0.3726\n",
      "AUPR: 0.8012\n"
     ]
    }
   ],
   "source": [
    "print(\"Test InD shape\", ind_gtsrb_pred_energy_score.shape);\n",
    "print(\"Test OoD shape\", ood_gtsrb_anomal_pred_energy_score.shape);\n",
    "\n",
    "results_pred_energy_gtsrb_anomaly_test = get_hz_detector_results(detect_exp_name=\"Energy score: gtsrb vs. gtsrb_anomaly\",\n",
    "                                                              ind_samples_scores=ind_gtsrb_pred_energy_score,\n",
    "                                                              ood_samples_scores=ood_gtsrb_anomal_pred_energy_score)"
   ]
  },
  {
   "cell_type": "markdown",
   "metadata": {},
   "source": [
    "### GTSRB vs CIFAR-10"
   ]
  },
  {
   "cell_type": "markdown",
   "metadata": {},
   "source": [
    "We use negative uncertainty scores for to align with the convention that positive (in-distribution) samples have higher scores (see plots above)"
   ]
  },
  {
   "cell_type": "code",
   "execution_count": 360,
   "metadata": {},
   "outputs": [
    {
     "name": "stdout",
     "output_type": "stream",
     "text": [
      "Test InD shape (4882,)\n",
      "Test OoD shape (20000,)\n",
      "AUROC: 0.9915\n",
      "FPR95: 0.0349\n",
      "AUPR: 0.9682\n"
     ]
    }
   ],
   "source": [
    "print(\"Test InD shape\", ind_gtsrb_pred_energy_score.shape);\n",
    "print(\"Test OoD shape\", ood_cifar10_pred_energy_score.shape);\n",
    "\n",
    "results_pred_energy_cifar10_test = get_hz_detector_results(detect_exp_name=\"Energy score: gtsrb vs. cifar10\",\n",
    "                                                           ind_samples_scores=ind_gtsrb_pred_energy_score,\n",
    "                                                           ood_samples_scores=ood_cifar10_pred_energy_score)"
   ]
  },
  {
   "cell_type": "markdown",
   "metadata": {},
   "source": [
    "### GTSRB vs STL-10"
   ]
  },
  {
   "cell_type": "markdown",
   "metadata": {},
   "source": [
    "We use negative uncertainty scores for to align with the convention that positive (in-distribution) samples have higher scores (see plots above)"
   ]
  },
  {
   "cell_type": "code",
   "execution_count": 361,
   "metadata": {},
   "outputs": [
    {
     "name": "stdout",
     "output_type": "stream",
     "text": [
      "Test InD shape (4882,)\n",
      "Test OoD shape (11000,)\n",
      "AUROC: 0.9928\n",
      "FPR95: 0.0293\n",
      "AUPR: 0.9831\n"
     ]
    }
   ],
   "source": [
    "print(\"Test InD shape\", ind_gtsrb_pred_energy_score.shape);\n",
    "print(\"Test OoD shape\", ood_stl10_pred_energy_score.shape);\n",
    "\n",
    "results_pred_energy_stl10_test = get_hz_detector_results(detect_exp_name=\"Energy score: gtsrb vs. stl10\",\n",
    "                                                         ind_samples_scores=ind_gtsrb_pred_energy_score,\n",
    "                                                         ood_samples_scores=ood_stl10_pred_energy_score)"
   ]
  },
  {
   "cell_type": "code",
   "execution_count": null,
   "metadata": {},
   "outputs": [],
   "source": []
  },
  {
   "cell_type": "code",
   "execution_count": null,
   "metadata": {},
   "outputs": [],
   "source": []
  },
  {
   "cell_type": "code",
   "execution_count": null,
   "metadata": {},
   "outputs": [],
   "source": []
  },
  {
   "cell_type": "markdown",
   "metadata": {},
   "source": [
    "# Help Computations"
   ]
  },
  {
   "cell_type": "code",
   "execution_count": 150,
   "metadata": {},
   "outputs": [
    {
     "name": "stderr",
     "output_type": "stream",
     "text": [
      "ic| a.shape: torch.Size([1273, 43])\n",
      "ic| h.shape: torch.Size([1273])\n"
     ]
    }
   ],
   "source": [
    "a = torch.mean(dl_preds, dim=1)\n",
    "ic(a.shape);\n",
    "h = - torch.sum(a * torch.log(a), dim=1)\n",
    "ic(h.shape);"
   ]
  },
  {
   "cell_type": "code",
   "execution_count": 145,
   "metadata": {},
   "outputs": [
    {
     "data": {
      "text/plain": [
       "torch.Size([1273, 4, 43])"
      ]
     },
     "execution_count": 145,
     "metadata": {},
     "output_type": "execute_result"
    }
   ],
   "source": [
    "dl_preds.shape"
   ]
  },
  {
   "cell_type": "code",
   "execution_count": 170,
   "metadata": {},
   "outputs": [
    {
     "data": {
      "text/plain": [
       "torch.Size([1273, 4])"
      ]
     },
     "execution_count": 170,
     "metadata": {},
     "output_type": "execute_result"
    }
   ],
   "source": [
    "b = -torch.sum(dl_preds * torch.log(dl_preds), dim=-1)\n",
    "b.shape"
   ]
  },
  {
   "cell_type": "code",
   "execution_count": 171,
   "metadata": {},
   "outputs": [
    {
     "data": {
      "text/plain": [
       "torch.Size([1273])"
      ]
     },
     "execution_count": 171,
     "metadata": {},
     "output_type": "execute_result"
    }
   ],
   "source": [
    "c = torch.mean(b, dim=-1)\n",
    "c.shape"
   ]
  },
  {
   "cell_type": "code",
   "execution_count": 172,
   "metadata": {},
   "outputs": [
    {
     "data": {
      "text/plain": [
       "tensor([1.6442, 1.0367, 0.8926,  ..., 0.4374, 0.6017, 1.2400], device='cuda:0')"
      ]
     },
     "execution_count": 172,
     "metadata": {},
     "output_type": "execute_result"
    }
   ],
   "source": [
    "c"
   ]
  },
  {
   "cell_type": "code",
   "execution_count": 173,
   "metadata": {},
   "outputs": [
    {
     "data": {
      "text/plain": [
       "tensor([1.7476, 1.0509, 0.8985,  ..., 0.4385, 0.6024, 1.2487], device='cuda:0')"
      ]
     },
     "execution_count": 173,
     "metadata": {},
     "output_type": "execute_result"
    }
   ],
   "source": [
    "h"
   ]
  },
  {
   "cell_type": "code",
   "execution_count": null,
   "metadata": {},
   "outputs": [],
   "source": []
  }
 ],
 "metadata": {
  "kernelspec": {
   "display_name": "Semantic_Segmentation",
   "language": "python",
   "name": "python3"
  },
  "language_info": {
   "codemirror_mode": {
    "name": "ipython",
    "version": 3
   },
   "file_extension": ".py",
   "mimetype": "text/x-python",
   "name": "python",
   "nbconvert_exporter": "python",
   "pygments_lexer": "ipython3",
   "version": "3.7.5"
  },
  "orig_nbformat": 4
 },
 "nbformat": 4,
 "nbformat_minor": 2
}

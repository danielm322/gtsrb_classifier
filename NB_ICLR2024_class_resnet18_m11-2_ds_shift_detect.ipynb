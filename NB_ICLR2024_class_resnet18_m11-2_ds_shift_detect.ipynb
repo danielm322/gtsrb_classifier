{
 "cells": [
  {
   "cell_type": "markdown",
   "metadata": {},
   "source": [
    "# Summary"
   ]
  },
  {
   "cell_type": "markdown",
   "metadata": {},
   "source": [
    "Model parameters summary:\n",
    "\n",
    "Hook in the last dropout layer\n",
    "\n",
    "-   **drop_block: true**\n",
    "-   **dropblock_prob: 0.5**\n",
    "-   **dropblock_block_size: 6**\n",
    "-   **dropout: true**\n",
    "-   **dropout_prob: 0.3**\n",
    "-   model_name: resnet18\n",
    "-   input_channels: 3\n",
    "-   spectral_norm: false\n",
    "-   lr: 0.0001\n",
    "-   weight_decay: 0.0001\n",
    "-   loss_type: focal\n",
    "\n",
    "**Results:**\n",
    "\n",
    "Experiment: gtsrb vs gtsrb-anomal \n",
    "\n",
    "- AUROC: 0.8130\n",
    "- FPR95: 0.6794\n",
    "- AUPR: 0.8015\n",
    "\n",
    "Experiment: gtsrb vs cifar10\n",
    "\n",
    "- AUROC: 0.9673\n",
    "- FPR95: 0.1992\n",
    "- AUPR: 0.9334\n",
    "\n",
    "Experiment: gtsrb vs stl10\n",
    "\n",
    "- AUROC: 0.9845\n",
    "- FPR95: 0.0603\n",
    "- AUPR: 0.9777"
   ]
  },
  {
   "attachments": {},
   "cell_type": "markdown",
   "metadata": {},
   "source": [
    "# General Imports"
   ]
  },
  {
   "cell_type": "code",
   "execution_count": 1,
   "metadata": {},
   "outputs": [],
   "source": [
    "%load_ext autoreload\n",
    "%autoreload 2\n",
    "%reload_ext autoreload"
   ]
  },
  {
   "cell_type": "code",
   "execution_count": 2,
   "metadata": {},
   "outputs": [],
   "source": [
    "%matplotlib inline"
   ]
  },
  {
   "cell_type": "code",
   "execution_count": 3,
   "metadata": {},
   "outputs": [],
   "source": [
    "from collections import namedtuple\n",
    "import numpy as np\n",
    "import matplotlib.pyplot as plt\n",
    "import random\n",
    "import pandas as pd\n",
    "import seaborn as sns\n",
    "from PIL import Image\n",
    "from icecream import ic"
   ]
  },
  {
   "cell_type": "code",
   "execution_count": 4,
   "metadata": {},
   "outputs": [],
   "source": [
    "import torch\n",
    "import pytorch_lightning as pl\n",
    "from pytorch_lightning.callbacks import ModelCheckpoint\n",
    "from torchvision import transforms as transform_lib\n",
    "from pytorch_lightning.callbacks import TQDMProgressBar\n",
    "from torch.utils.data import Dataset\n",
    "from torch.utils.data import DataLoader"
   ]
  },
  {
   "cell_type": "code",
   "execution_count": 5,
   "metadata": {},
   "outputs": [],
   "source": [
    "from datasets import GtsrbModule"
   ]
  },
  {
   "cell_type": "code",
   "execution_count": 6,
   "metadata": {},
   "outputs": [],
   "source": [
    "from pl_bolts.datamodules import CIFAR10DataModule\n",
    "from pl_bolts.datamodules import STL10DataModule"
   ]
  },
  {
   "cell_type": "code",
   "execution_count": 7,
   "metadata": {},
   "outputs": [],
   "source": [
    "from models import ResnetModule"
   ]
  },
  {
   "cell_type": "code",
   "execution_count": 8,
   "metadata": {},
   "outputs": [],
   "source": [
    "from dropblock import DropBlock2D, LinearScheduler"
   ]
  },
  {
   "cell_type": "code",
   "execution_count": 9,
   "metadata": {},
   "outputs": [],
   "source": [
    "from ls_ood_detect_cea.uncertainty_estimation import Hook\n",
    "from ls_ood_detect_cea.uncertainty_estimation import deeplabv3p_get_ls_mcd_samples\n",
    "from ls_ood_detect_cea.uncertainty_estimation import get_latent_represent_mcd_samples\n",
    "from ls_ood_detect_cea.uncertainty_estimation import get_dl_h_z\n",
    "from ls_ood_detect_cea.ood_detection_dataset import build_ood_detection_ds\n",
    "from ls_ood_detect_cea.dimensionality_reduction import plot_samples_pacmap\n",
    "from ls_ood_detect_cea.detectors import KDEClassifier, DetectorKDE\n",
    "from ls_ood_detect_cea.score import get_hz_scores\n",
    "from ls_ood_detect_cea.metrics import get_hz_detector_results\n",
    "from ls_ood_detect_cea.metrics import get_ood_detector_results\n",
    "from ls_ood_detect_cea.metrics import plot_roc_ood_detector\n",
    "from ls_ood_detect_cea.metrics import plot_auprc_ood_detector\n",
    "from ls_ood_detect_cea.dimensionality_reduction import plot_samples_pacmap\n",
    "from ls_ood_detect_cea.dimensionality_reduction import apply_pca_ds_split\n",
    "from ls_ood_detect_cea.dimensionality_reduction import apply_pca_transform"
   ]
  },
  {
   "cell_type": "markdown",
   "metadata": {},
   "source": [
    "# Paths"
   ]
  },
  {
   "cell_type": "markdown",
   "metadata": {},
   "source": [
    "Datasets paths:"
   ]
  },
  {
   "cell_type": "code",
   "execution_count": 10,
   "metadata": {},
   "outputs": [],
   "source": [
    "gtsrb_dataset_path = \"/media/farnez/Data/DATASETS/gtsrb-data/\"\n",
    "cifar10_data_path = \"/media/farnez/Data/DATASETS/cifar-10/\"\n",
    "stl10_data_path = \"/media/farnez/Data/DATASETS/stl-10/\""
   ]
  },
  {
   "cell_type": "markdown",
   "metadata": {},
   "source": [
    "Experiments path:"
   ]
  },
  {
   "cell_type": "code",
   "execution_count": 11,
   "metadata": {},
   "outputs": [],
   "source": [
    "exp_path = \"/media/farnez/Data/EXPERIMENTS/CVPR-2024/gtsrb-classification/\""
   ]
  },
  {
   "cell_type": "markdown",
   "metadata": {},
   "source": [
    "Resnet Classification Model Number & checkpoint:"
   ]
  },
  {
   "cell_type": "code",
   "execution_count": 12,
   "metadata": {},
   "outputs": [],
   "source": [
    "exp_model_name = \"resnet18_model_11\""
   ]
  },
  {
   "cell_type": "code",
   "execution_count": 13,
   "metadata": {},
   "outputs": [
    {
     "data": {
      "text/plain": [
       "'/media/farnez/Data/EXPERIMENTS/CVPR-2024/gtsrb-classification/resnet18_model_11/model/epoch=1101-step=154280.ckpt'"
      ]
     },
     "execution_count": 13,
     "metadata": {},
     "output_type": "execute_result"
    }
   ],
   "source": [
    "gtsrb_resnet18_model_path = exp_path + exp_model_name + \"/model/epoch=1101-step=154280.ckpt\"\n",
    "gtsrb_resnet18_model_path"
   ]
  },
  {
   "cell_type": "markdown",
   "metadata": {},
   "source": [
    "Samples Paths:"
   ]
  },
  {
   "cell_type": "code",
   "execution_count": 14,
   "metadata": {},
   "outputs": [
    {
     "data": {
      "text/plain": [
       "'/media/farnez/Data/EXPERIMENTS/CVPR-2024/gtsrb-classification/resnet18_model_11/embeddings_z/mc_samples/'"
      ]
     },
     "execution_count": 14,
     "metadata": {},
     "output_type": "execute_result"
    }
   ],
   "source": [
    "mc_samples_path = exp_path + exp_model_name + \"/embeddings_z/mc_samples/\"\n",
    "mc_samples_path"
   ]
  },
  {
   "cell_type": "code",
   "execution_count": 15,
   "metadata": {},
   "outputs": [
    {
     "data": {
      "text/plain": [
       "'/media/farnez/Data/EXPERIMENTS/CVPR-2024/gtsrb-classification/resnet18_model_11/embeddings_z/entropy/'"
      ]
     },
     "execution_count": 15,
     "metadata": {},
     "output_type": "execute_result"
    }
   ],
   "source": [
    "h_z_path = exp_path + exp_model_name + \"/embeddings_z/entropy/\"\n",
    "h_z_path"
   ]
  },
  {
   "cell_type": "markdown",
   "metadata": {},
   "source": [
    "# Compute Device"
   ]
  },
  {
   "cell_type": "code",
   "execution_count": 16,
   "metadata": {},
   "outputs": [
    {
     "name": "stdout",
     "output_type": "stream",
     "text": [
      "cuda\n"
     ]
    }
   ],
   "source": [
    "device = torch.device('cuda' if torch.cuda.is_available() else 'cpu')\n",
    "print(device)"
   ]
  },
  {
   "attachments": {},
   "cell_type": "markdown",
   "metadata": {},
   "source": [
    "# Load Entropy Values"
   ]
  },
  {
   "cell_type": "code",
   "execution_count": 17,
   "metadata": {},
   "outputs": [],
   "source": [
    "gtsrb_rn18_h_z_gtsrb_normal_train_samples_np = np.load(h_z_path + 'gtsrb_rn18_h_z_gtsrb_normal_train_samples_np.npy')\n",
    "gtsrb_rn18_h_z_gtsrb_normal_valid_samples_np = np.load(h_z_path + 'gtsrb_rn18_h_z_gtsrb_normal_valid_samples_np.npy')\n",
    "gtsrb_rn18_h_z_gtsrb_normal_test_samples_np = np.load(h_z_path + 'gtsrb_rn18_h_z_gtsrb_normal_test_samples_np.npy')\n",
    "\n",
    "gtsrb_rn18_h_z_gtsrb_anomal_valid_samples_np = np.load(h_z_path + 'gtsrb_rn18_h_z_gtsrb_anomal_valid_samples_np.npy')\n",
    "gtsrb_rn18_h_z_gtsrb_anomal_test_samples_np = np.load(h_z_path + 'gtsrb_rn18_h_z_gtsrb_anomal_test_samples_np.npy')\n",
    "\n",
    "gtsrb_rn18_h_z_cifar10_valid_samples_np = np.load(h_z_path + 'gtsrb_rn18_h_z_cifar10_valid_samples_np.npy')\n",
    "gtsrb_rn18_h_z_cifar10_test_samples_np = np.load(h_z_path + 'gtsrb_rn18_h_z_cifar10_test_samples_np.npy')\n",
    "\n",
    "gtsrb_rn18_h_z_stl10_valid_samples_np = np.load(h_z_path + 'gtsrb_rn18_h_z_stl10_valid_samples_np.npy')\n",
    "gtsrb_rn18_h_z_stl10_test_samples_np = np.load(h_z_path + 'gtsrb_rn18_h_z_stl10_test_samples_np.npy')"
   ]
  },
  {
   "cell_type": "code",
   "execution_count": 18,
   "metadata": {},
   "outputs": [
    {
     "name": "stderr",
     "output_type": "stream",
     "text": [
      "ic| gtsrb_rn18_h_z_gtsrb_normal_train_samples_np.shape: (7120, 512)\n",
      "ic| gtsrb_rn18_h_z_gtsrb_normal_valid_samples_np.shape: (3609, 512)\n",
      "ic| gtsrb_rn18_h_z_gtsrb_normal_test_samples_np.shape: (1273, 512)\n",
      "ic| gtsrb_rn18_h_z_gtsrb_anomal_valid_samples_np.shape: (3609, 512)\n",
      "ic| gtsrb_rn18_h_z_gtsrb_anomal_test_samples_np.shape: (1273, 512)\n",
      "ic| gtsrb_rn18_h_z_cifar10_valid_samples_np.shape: (10000, 512)\n",
      "ic| gtsrb_rn18_h_z_cifar10_test_samples_np.shape: (10000, 512)\n",
      "ic| gtsrb_rn18_h_z_stl10_valid_samples_np.shape: (3000, 512)\n",
      "ic| gtsrb_rn18_h_z_stl10_test_samples_np.shape: (8000, 512)\n"
     ]
    }
   ],
   "source": [
    "ic(gtsrb_rn18_h_z_gtsrb_normal_train_samples_np.shape);\n",
    "ic(gtsrb_rn18_h_z_gtsrb_normal_valid_samples_np.shape);\n",
    "ic(gtsrb_rn18_h_z_gtsrb_normal_test_samples_np.shape);\n",
    "ic(gtsrb_rn18_h_z_gtsrb_anomal_valid_samples_np.shape);\n",
    "ic(gtsrb_rn18_h_z_gtsrb_anomal_test_samples_np.shape);\n",
    "ic(gtsrb_rn18_h_z_cifar10_valid_samples_np.shape);\n",
    "ic(gtsrb_rn18_h_z_cifar10_test_samples_np.shape);\n",
    "ic(gtsrb_rn18_h_z_stl10_valid_samples_np.shape);\n",
    "ic(gtsrb_rn18_h_z_stl10_test_samples_np.shape);"
   ]
  },
  {
   "attachments": {},
   "cell_type": "markdown",
   "metadata": {},
   "source": [
    "# LaRED Score - Train Data Reference"
   ]
  },
  {
   "cell_type": "code",
   "execution_count": 23,
   "metadata": {},
   "outputs": [
    {
     "name": "stderr",
     "output_type": "stream",
     "text": [
      "ic| gtsrb_rn18_h_z_gtsrb_normal_train_samples_np.shape: (7120, 512)\n"
     ]
    },
    {
     "name": "stderr",
     "output_type": "stream",
     "text": [
      "ic| gtsrb_rn18_h_z_gtsrb_normal_valid_samples_np.shape: (3609, 512)\n",
      "ic| gtsrb_rn18_h_z_gtsrb_normal_test_samples_np.shape: (1273, 512)\n",
      "ic| gtsrb_rn18_h_z_gtsrb_anomal_valid_samples_np.shape: (3609, 512)\n",
      "ic| gtsrb_rn18_h_z_gtsrb_anomal_test_samples_np.shape: (1273, 512)\n",
      "ic| gtsrb_rn18_h_z_cifar10_valid_samples_np.shape: (10000, 512)\n",
      "ic| gtsrb_rn18_h_z_cifar10_test_samples_np.shape: (10000, 512)\n",
      "ic| gtsrb_rn18_h_z_stl10_valid_samples_np.shape: (3000, 512)\n",
      "ic| gtsrb_rn18_h_z_stl10_test_samples_np.shape: (8000, 512)\n"
     ]
    }
   ],
   "source": [
    "ic(gtsrb_rn18_h_z_gtsrb_normal_train_samples_np.shape);\n",
    "ic(gtsrb_rn18_h_z_gtsrb_normal_valid_samples_np.shape);\n",
    "ic(gtsrb_rn18_h_z_gtsrb_normal_test_samples_np.shape);\n",
    "ic(gtsrb_rn18_h_z_gtsrb_anomal_valid_samples_np.shape);\n",
    "ic(gtsrb_rn18_h_z_gtsrb_anomal_test_samples_np.shape);\n",
    "ic(gtsrb_rn18_h_z_cifar10_valid_samples_np.shape);\n",
    "ic(gtsrb_rn18_h_z_cifar10_test_samples_np.shape);\n",
    "ic(gtsrb_rn18_h_z_stl10_valid_samples_np.shape);\n",
    "ic(gtsrb_rn18_h_z_stl10_test_samples_np.shape);"
   ]
  },
  {
   "cell_type": "code",
   "execution_count": 24,
   "metadata": {},
   "outputs": [],
   "source": [
    "gtsrb_h_z = np.concatenate((gtsrb_rn18_h_z_gtsrb_normal_valid_samples_np, gtsrb_rn18_h_z_gtsrb_normal_test_samples_np))\n",
    "gtsrb_anomal_h_z = np.concatenate((gtsrb_rn18_h_z_gtsrb_anomal_valid_samples_np, gtsrb_rn18_h_z_gtsrb_anomal_test_samples_np))\n",
    "cifar10_h_z = np.concatenate((gtsrb_rn18_h_z_cifar10_valid_samples_np, gtsrb_rn18_h_z_cifar10_test_samples_np))\n",
    "stl10_h_z = np.concatenate((gtsrb_rn18_h_z_stl10_valid_samples_np, gtsrb_rn18_h_z_stl10_test_samples_np))"
   ]
  },
  {
   "attachments": {},
   "cell_type": "markdown",
   "metadata": {},
   "source": [
    "## Build Detector"
   ]
  },
  {
   "cell_type": "code",
   "execution_count": 25,
   "metadata": {},
   "outputs": [],
   "source": [
    "gtsrb_ds_shift_detector = DetectorKDE(train_embeddings=gtsrb_rn18_h_z_gtsrb_normal_train_samples_np)"
   ]
  },
  {
   "attachments": {},
   "cell_type": "markdown",
   "metadata": {},
   "source": [
    "## Get Scores"
   ]
  },
  {
   "cell_type": "code",
   "execution_count": 26,
   "metadata": {},
   "outputs": [],
   "source": [
    "scores_gtsrb = get_hz_scores(gtsrb_ds_shift_detector, gtsrb_h_z)\n",
    "\n",
    "scores_gtsrb_anomal = get_hz_scores(gtsrb_ds_shift_detector, gtsrb_anomal_h_z)\n",
    "\n",
    "scores_cifar10 = get_hz_scores(gtsrb_ds_shift_detector, cifar10_h_z)\n",
    "\n",
    "scores_stl10 = get_hz_scores(gtsrb_ds_shift_detector, stl10_h_z)"
   ]
  },
  {
   "attachments": {},
   "cell_type": "markdown",
   "metadata": {},
   "source": [
    "## Get Results"
   ]
  },
  {
   "cell_type": "code",
   "execution_count": 27,
   "metadata": {},
   "outputs": [
    {
     "name": "stdout",
     "output_type": "stream",
     "text": [
      "Test InD shape (4882,)\n",
      "Test OoD shape (4882,)\n",
      "Experiment: gtsrb vs gtsrb-anomal\n",
      "AUROC: 0.5939\n",
      "FPR95: 0.6452\n",
      "AUPR: 0.5394\n"
     ]
    }
   ],
   "source": [
    "print(\"Test InD shape\", scores_gtsrb.shape);\n",
    "print(\"Test OoD shape\", scores_gtsrb_anomal.shape);\n",
    "print(\"Experiment: gtsrb vs gtsrb-anomal\");\n",
    "\n",
    "\n",
    "results_gtsrb_anomal_validation = get_hz_detector_results(detect_exp_name=\"gtsrb vs. gtsrb-anomal\",\n",
    "                                                          ind_samples_scores=scores_gtsrb,\n",
    "                                                          ood_samples_scores=scores_gtsrb_anomal)"
   ]
  },
  {
   "cell_type": "code",
   "execution_count": 28,
   "metadata": {},
   "outputs": [
    {
     "name": "stdout",
     "output_type": "stream",
     "text": [
      "Test InD shape (4882,)\n",
      "Test OoD shape (20000,)\n",
      "Experiment: gtsrb vs cifar10\n",
      "AUROC: 0.6342\n",
      "FPR95: 0.4895\n",
      "AUPR: 0.2408\n"
     ]
    }
   ],
   "source": [
    "print(\"Test InD shape\", scores_gtsrb.shape);\n",
    "print(\"Test OoD shape\", scores_cifar10.shape);\n",
    "print(\"Experiment: gtsrb vs cifar10\");\n",
    "\n",
    "results_cifar10_validation = get_hz_detector_results(detect_exp_name=\"gtsrb vs. cifar10\",\n",
    "                                                     ind_samples_scores=scores_gtsrb,\n",
    "                                                     ood_samples_scores=scores_cifar10)"
   ]
  },
  {
   "cell_type": "code",
   "execution_count": 29,
   "metadata": {},
   "outputs": [
    {
     "name": "stdout",
     "output_type": "stream",
     "text": [
      "Test InD shape (4882,)\n",
      "Test OoD shape (11000,)\n",
      "Experiment: gtsrb vs stl10\n",
      "AUROC: 0.6291\n",
      "FPR95: 0.4985\n",
      "AUPR: 0.3637\n"
     ]
    }
   ],
   "source": [
    "print(\"Test InD shape\", scores_gtsrb.shape);\n",
    "print(\"Test OoD shape\", scores_stl10.shape);\n",
    "print(\"Experiment: gtsrb vs stl10\");\n",
    "\n",
    "results_stl10_validation = get_hz_detector_results(detect_exp_name=\"gtsrb vs. stl10\",\n",
    "                                                   ind_samples_scores=scores_gtsrb,\n",
    "                                                   ood_samples_scores=scores_stl10)"
   ]
  },
  {
   "attachments": {},
   "cell_type": "markdown",
   "metadata": {},
   "source": [
    "## Plot Score Values"
   ]
  },
  {
   "cell_type": "code",
   "execution_count": 30,
   "metadata": {},
   "outputs": [],
   "source": [
    "df_scores_gtsrb = pd.DataFrame(scores_gtsrb, columns=[\"Entropy score\"])\n",
    "df_scores_gtsrb_anomal = pd.DataFrame(scores_gtsrb_anomal, columns=[\"Entropy score\"])\n",
    "df_scores_stl10 = pd.DataFrame(scores_stl10, columns=[\"Entropy score\"])\n",
    "df_scores_cifar10 = pd.DataFrame(scores_cifar10, columns=[\"Entropy score\"])\n",
    "\n",
    "df_scores_gtsrb.insert(0, \"Dataset\", \"\")\n",
    "df_scores_gtsrb.loc[:, \"Dataset\"] = \"gtsrb\"\n",
    "\n",
    "df_scores_gtsrb_anomal.insert(0, \"Dataset\", \"\")\n",
    "df_scores_gtsrb_anomal.loc[:, \"Dataset\"] = \"gtsrb-anomal\"\n",
    "\n",
    "df_scores_stl10.insert(0, \"Dataset\", \"\")\n",
    "df_scores_stl10.loc[:, \"Dataset\"] = \"stl10\"\n",
    "\n",
    "df_scores_cifar10.insert(0, \"Dataset\", \"\")\n",
    "df_scores_cifar10.loc[:, \"Dataset\"] = \"cifar10\""
   ]
  },
  {
   "cell_type": "code",
   "execution_count": 31,
   "metadata": {},
   "outputs": [
    {
     "data": {
      "image/png": "[encoded data removed]",
      "text/plain": [
       "<Figure size 598.5x500 with 1 Axes>"
      ]
     },
     "metadata": {},
     "output_type": "display_data"
    }
   ],
   "source": [
    "df_h_z_valid_scores = pd.concat([df_scores_gtsrb,\n",
    "                                 df_scores_stl10,\n",
    "                                 df_scores_cifar10]).reset_index(drop=True)\n",
    "\n",
    "sns.displot(df_h_z_valid_scores, x=\"Entropy score\", hue=\"Dataset\", kind=\"hist\", fill=True)\n",
    "plt.show()"
   ]
  },
  {
   "cell_type": "code",
   "execution_count": 29,
   "metadata": {},
   "outputs": [
    {
     "data": {
      "image/png": "[encoded data removed]",
      "text/plain": [
       "<Figure size 642.875x500 with 1 Axes>"
      ]
     },
     "metadata": {},
     "output_type": "display_data"
    }
   ],
   "source": [
    "df_h_z_valid_scores = pd.concat([df_scores_gtsrb,\n",
    "                                 df_scores_gtsrb_anomal]).reset_index(drop=True)\n",
    "\n",
    "sns.displot(df_h_z_valid_scores, x=\"Entropy score\", hue=\"Dataset\", kind=\"hist\", fill=True)\n",
    "plt.show()"
   ]
  },
  {
   "cell_type": "code",
   "execution_count": 27,
   "metadata": {},
   "outputs": [
    {
     "data": {
      "image/png": "[encoded data removed]",
      "text/plain": [
       "<Figure size 598.5x500 with 1 Axes>"
      ]
     },
     "metadata": {},
     "output_type": "display_data"
    }
   ],
   "source": [
    "df_h_z_valid_scores = pd.concat([df_scores_gtsrb,\n",
    "                                 df_scores_cifar10]).reset_index(drop=True)\n",
    "\n",
    "sns.displot(df_h_z_valid_scores, x=\"Entropy score\", hue=\"Dataset\", kind=\"hist\", fill=True)\n",
    "plt.show()"
   ]
  },
  {
   "cell_type": "code",
   "execution_count": 28,
   "metadata": {},
   "outputs": [
    {
     "data": {
      "image/png": "[encoded data removed]",
      "text/plain": [
       "<Figure size 586.125x500 with 1 Axes>"
      ]
     },
     "metadata": {},
     "output_type": "display_data"
    }
   ],
   "source": [
    "df_h_z_valid_scores = pd.concat([df_scores_gtsrb,\n",
    "                                 df_scores_stl10]).reset_index(drop=True)\n",
    "\n",
    "sns.displot(df_h_z_valid_scores, x=\"Entropy score\", hue=\"Dataset\", kind=\"hist\", fill=True)\n",
    "plt.show()"
   ]
  },
  {
   "cell_type": "markdown",
   "metadata": {},
   "source": [
    "# Load Entropy Values"
   ]
  },
  {
   "cell_type": "code",
   "execution_count": 17,
   "metadata": {},
   "outputs": [],
   "source": [
    "gtsrb_rn18_h_z_gtsrb_normal_train_samples_np = np.load(h_z_path + 'gtsrb_rn18_h_z_gtsrb_normal_train_samples_np.npy')\n",
    "gtsrb_rn18_h_z_gtsrb_normal_valid_samples_np = np.load(h_z_path + 'gtsrb_rn18_h_z_gtsrb_normal_valid_samples_np.npy')\n",
    "gtsrb_rn18_h_z_gtsrb_normal_test_samples_np = np.load(h_z_path + 'gtsrb_rn18_h_z_gtsrb_normal_test_samples_np.npy')\n",
    "\n",
    "gtsrb_rn18_h_z_gtsrb_anomal_valid_samples_np = np.load(h_z_path + 'gtsrb_rn18_h_z_gtsrb_anomal_valid_samples_np.npy')\n",
    "gtsrb_rn18_h_z_gtsrb_anomal_test_samples_np = np.load(h_z_path + 'gtsrb_rn18_h_z_gtsrb_anomal_test_samples_np.npy')\n",
    "\n",
    "gtsrb_rn18_h_z_cifar10_valid_samples_np = np.load(h_z_path + 'gtsrb_rn18_h_z_cifar10_valid_samples_np.npy')\n",
    "gtsrb_rn18_h_z_cifar10_test_samples_np = np.load(h_z_path + 'gtsrb_rn18_h_z_cifar10_test_samples_np.npy')\n",
    "\n",
    "gtsrb_rn18_h_z_stl10_valid_samples_np = np.load(h_z_path + 'gtsrb_rn18_h_z_stl10_valid_samples_np.npy')\n",
    "gtsrb_rn18_h_z_stl10_test_samples_np = np.load(h_z_path + 'gtsrb_rn18_h_z_stl10_test_samples_np.npy')"
   ]
  },
  {
   "cell_type": "code",
   "execution_count": 18,
   "metadata": {},
   "outputs": [
    {
     "name": "stderr",
     "output_type": "stream",
     "text": [
      "ic| gtsrb_rn18_h_z_gtsrb_normal_train_samples_np.shape: (7120, 512)\n",
      "ic| gtsrb_rn18_h_z_gtsrb_normal_valid_samples_np.shape: (3609, 512)\n",
      "ic| gtsrb_rn18_h_z_gtsrb_normal_test_samples_np.shape: (1273, 512)\n",
      "ic| gtsrb_rn18_h_z_gtsrb_anomal_valid_samples_np.shape: (3609, 512)\n",
      "ic| gtsrb_rn18_h_z_gtsrb_anomal_test_samples_np.shape: (1273, 512)\n",
      "ic| gtsrb_rn18_h_z_cifar10_valid_samples_np.shape: (10000, 512)\n",
      "ic| gtsrb_rn18_h_z_cifar10_test_samples_np.shape: (10000, 512)\n",
      "ic| gtsrb_rn18_h_z_stl10_valid_samples_np.shape: (3000, 512)\n",
      "ic| gtsrb_rn18_h_z_stl10_test_samples_np.shape: (8000, 512)\n"
     ]
    }
   ],
   "source": [
    "ic(gtsrb_rn18_h_z_gtsrb_normal_train_samples_np.shape);\n",
    "ic(gtsrb_rn18_h_z_gtsrb_normal_valid_samples_np.shape);\n",
    "ic(gtsrb_rn18_h_z_gtsrb_normal_test_samples_np.shape);\n",
    "\n",
    "ic(gtsrb_rn18_h_z_gtsrb_anomal_valid_samples_np.shape);\n",
    "ic(gtsrb_rn18_h_z_gtsrb_anomal_test_samples_np.shape);\n",
    "\n",
    "ic(gtsrb_rn18_h_z_cifar10_valid_samples_np.shape);\n",
    "ic(gtsrb_rn18_h_z_cifar10_test_samples_np.shape);\n",
    "\n",
    "ic(gtsrb_rn18_h_z_stl10_valid_samples_np.shape);\n",
    "ic(gtsrb_rn18_h_z_stl10_test_samples_np.shape);"
   ]
  },
  {
   "cell_type": "markdown",
   "metadata": {},
   "source": [
    "# LaRED Score - Train Data Reference Dimensionalitty Reduction PCA"
   ]
  },
  {
   "cell_type": "code",
   "execution_count": 87,
   "metadata": {},
   "outputs": [],
   "source": [
    "pca_gtsrb_rn18_h_z_gtsrb_normal_train_samples_np, pca_tr = apply_pca_ds_split(samples=gtsrb_rn18_h_z_gtsrb_normal_train_samples_np,\n",
    "                                                                              nro_components=66)"
   ]
  },
  {
   "cell_type": "code",
   "execution_count": 88,
   "metadata": {},
   "outputs": [],
   "source": [
    "pca_gtsrb_rn18_h_z_gtsrb_normal_valid_samples_np = apply_pca_transform(gtsrb_rn18_h_z_gtsrb_normal_valid_samples_np, pca_tr) # InD\n",
    "pca_gtsrb_rn18_h_z_gtsrb_normal_test_samples_np = apply_pca_transform(gtsrb_rn18_h_z_gtsrb_normal_test_samples_np, pca_tr) # InD\n",
    "\n",
    "pca_gtsrb_rn18_h_z_gtsrb_anomal_valid_samples_np = apply_pca_transform(gtsrb_rn18_h_z_gtsrb_anomal_valid_samples_np, pca_tr) # OoD | shifted\n",
    "pca_gtsrb_rn18_h_z_gtsrb_anomal_test_samples_np = apply_pca_transform(gtsrb_rn18_h_z_gtsrb_anomal_test_samples_np, pca_tr) # OoD | shifted\n",
    "\n",
    "pca_gtsrb_rn18_h_z_cifar10_valid_samples_np = apply_pca_transform(gtsrb_rn18_h_z_cifar10_valid_samples_np, pca_tr) # OoD | shifted\n",
    "pca_gtsrb_rn18_h_z_cifar10_test_samples_np = apply_pca_transform(gtsrb_rn18_h_z_cifar10_test_samples_np, pca_tr) # OoD | shifted\n",
    "\n",
    "pca_gtsrb_rn18_h_z_stl10_valid_samples_np = apply_pca_transform(gtsrb_rn18_h_z_stl10_valid_samples_np, pca_tr) # OoD | shifted\n",
    "pca_gtsrb_rn18_h_z_stl10_test_samples_np = apply_pca_transform(gtsrb_rn18_h_z_stl10_test_samples_np, pca_tr) # OoD | shifted"
   ]
  },
  {
   "cell_type": "code",
   "execution_count": 89,
   "metadata": {},
   "outputs": [
    {
     "name": "stderr",
     "output_type": "stream",
     "text": [
      "ic| pca_gtsrb_rn18_h_z_gtsrb_normal_train_samples_np.shape: (7120, 66)\n",
      "ic| pca_gtsrb_rn18_h_z_gtsrb_normal_valid_samples_np.shape: (3609, 66)\n",
      "ic| pca_gtsrb_rn18_h_z_gtsrb_normal_test_samples_np.shape: (1273, 66)\n",
      "ic| pca_gtsrb_rn18_h_z_gtsrb_anomal_valid_samples_np.shape: (3609, 66)\n",
      "ic| pca_gtsrb_rn18_h_z_gtsrb_anomal_test_samples_np.shape: (1273, 66)\n",
      "ic| pca_gtsrb_rn18_h_z_cifar10_valid_samples_np.shape: (10000, 66)\n",
      "ic| pca_gtsrb_rn18_h_z_cifar10_test_samples_np.shape: (10000, 66)\n",
      "ic| pca_gtsrb_rn18_h_z_stl10_valid_samples_np.shape: (3000, 66)\n"
     ]
    },
    {
     "name": "stderr",
     "output_type": "stream",
     "text": [
      "ic| pca_gtsrb_rn18_h_z_stl10_test_samples_np.shape: (8000, 66)\n"
     ]
    }
   ],
   "source": [
    "ic(pca_gtsrb_rn18_h_z_gtsrb_normal_train_samples_np.shape);\n",
    "ic(pca_gtsrb_rn18_h_z_gtsrb_normal_valid_samples_np.shape);\n",
    "ic(pca_gtsrb_rn18_h_z_gtsrb_normal_test_samples_np.shape);\n",
    "\n",
    "ic(pca_gtsrb_rn18_h_z_gtsrb_anomal_valid_samples_np.shape);\n",
    "ic(pca_gtsrb_rn18_h_z_gtsrb_anomal_test_samples_np.shape);\n",
    "\n",
    "ic(pca_gtsrb_rn18_h_z_cifar10_valid_samples_np.shape);\n",
    "ic(pca_gtsrb_rn18_h_z_cifar10_test_samples_np.shape);\n",
    "\n",
    "ic(pca_gtsrb_rn18_h_z_stl10_valid_samples_np.shape);\n",
    "ic(pca_gtsrb_rn18_h_z_stl10_test_samples_np.shape);"
   ]
  },
  {
   "cell_type": "code",
   "execution_count": 90,
   "metadata": {},
   "outputs": [
    {
     "name": "stderr",
     "output_type": "stream",
     "text": [
      "ic| pca_gtsrb_rn18_ind_gtsrb_normal_samples.shape: (4882, 66)\n",
      "ic| pca_gtsrb_rn18_ood_gtsrb_anomal_samples.shape: (4882, 66)\n",
      "ic| pca_gtsrb_rn18_ood_cifa10_samples.shape: (20000, 66)\n",
      "ic| pca_gtsrb_rn18_ood_stl10_samples.shape: (11000, 66)\n"
     ]
    }
   ],
   "source": [
    "pca_gtsrb_rn18_ind_gtsrb_normal_samples = np.concatenate((pca_gtsrb_rn18_h_z_gtsrb_normal_valid_samples_np,\n",
    "                                                          pca_gtsrb_rn18_h_z_gtsrb_normal_test_samples_np))\n",
    "\n",
    "pca_gtsrb_rn18_ood_gtsrb_anomal_samples = np.concatenate((pca_gtsrb_rn18_h_z_gtsrb_anomal_valid_samples_np,\n",
    "                                                          pca_gtsrb_rn18_h_z_gtsrb_anomal_test_samples_np))\n",
    "\n",
    "pca_gtsrb_rn18_ood_cifa10_samples = np.concatenate((pca_gtsrb_rn18_h_z_cifar10_valid_samples_np,\n",
    "                                                    pca_gtsrb_rn18_h_z_cifar10_test_samples_np))\n",
    "\n",
    "pca_gtsrb_rn18_ood_stl10_samples = np.concatenate((pca_gtsrb_rn18_h_z_stl10_valid_samples_np,\n",
    "                                                   pca_gtsrb_rn18_h_z_stl10_test_samples_np))\n",
    "\n",
    "ic(pca_gtsrb_rn18_ind_gtsrb_normal_samples.shape);\n",
    "ic(pca_gtsrb_rn18_ood_gtsrb_anomal_samples.shape);\n",
    "ic(pca_gtsrb_rn18_ood_cifa10_samples.shape);\n",
    "ic(pca_gtsrb_rn18_ood_stl10_samples.shape);"
   ]
  },
  {
   "cell_type": "markdown",
   "metadata": {},
   "source": [
    "## Build Detector"
   ]
  },
  {
   "cell_type": "code",
   "execution_count": 91,
   "metadata": {},
   "outputs": [],
   "source": [
    "gtsrb_rn18_ds_shift_detector_pca = DetectorKDE(train_embeddings=pca_gtsrb_rn18_h_z_gtsrb_normal_train_samples_np)"
   ]
  },
  {
   "cell_type": "markdown",
   "metadata": {},
   "source": [
    "## Get Scores"
   ]
  },
  {
   "cell_type": "code",
   "execution_count": 92,
   "metadata": {},
   "outputs": [],
   "source": [
    "scores_pca_gtsrb_rn18_ind_gtsrb_normal_h_z = get_hz_scores(gtsrb_rn18_ds_shift_detector_pca,\n",
    "                                                           pca_gtsrb_rn18_ind_gtsrb_normal_samples)\n",
    "\n",
    "scores_pca_gtsrb_rn18_ood_gtsrb_anomal_h_z = get_hz_scores(gtsrb_rn18_ds_shift_detector_pca,\n",
    "                                                           pca_gtsrb_rn18_ood_gtsrb_anomal_samples)\n",
    "\n",
    "scores_pca_gtsrb_rn18_ood_cifa10_h_z = get_hz_scores(gtsrb_rn18_ds_shift_detector_pca,\n",
    "                                                     pca_gtsrb_rn18_ood_cifa10_samples)\n",
    "\n",
    "scores_pca_gtsrb_rn18_ood_stl10_h_z = get_hz_scores(gtsrb_rn18_ds_shift_detector_pca,\n",
    "                                                    pca_gtsrb_rn18_ood_stl10_samples)"
   ]
  },
  {
   "cell_type": "markdown",
   "metadata": {},
   "source": [
    "## Get Results"
   ]
  },
  {
   "cell_type": "code",
   "execution_count": 93,
   "metadata": {},
   "outputs": [
    {
     "name": "stdout",
     "output_type": "stream",
     "text": [
      "PCA Components:  66\n",
      "\n",
      "gtsrb-normal vs. gtsrb-anomal:\n",
      "Test InD shape (4882,)\n",
      "Test OoD shape (4882,)\n",
      "AUROC: 0.6987\n",
      "FPR95: 0.8400\n",
      "AUPR: 0.7112\n",
      "\n",
      "gtsrb-normal vs. cifar10:\n",
      "Test InD shape (4882,)\n",
      "Test OoD shape (20000,)\n",
      "AUROC: 0.7646\n",
      "FPR95: 0.7685\n",
      "AUPR: 0.5822\n",
      "\n",
      "gtsrb-normal vs. stl10:\n",
      "Test InD shape (4882,)\n",
      "Test OoD shape (11000,)\n",
      "AUROC: 0.7689\n",
      "FPR95: 0.7575\n",
      "AUPR: 0.6868\n"
     ]
    }
   ],
   "source": [
    "print(\"PCA Components: \", pca_gtsrb_rn18_h_z_gtsrb_normal_train_samples_np.shape[1])\n",
    "\n",
    "print(\"\\ngtsrb-normal vs. gtsrb-anomal:\")\n",
    "print(\"Test InD shape\", scores_pca_gtsrb_rn18_ind_gtsrb_normal_h_z.shape);\n",
    "print(\"Test OoD shape\", scores_pca_gtsrb_rn18_ood_gtsrb_anomal_h_z.shape);\n",
    "\n",
    "results_gtsrb_anomal = get_hz_detector_results(detect_exp_name=\"woodscape-normal vs. wooscape-anomal\",\n",
    "                                               ind_samples_scores=scores_pca_gtsrb_rn18_ind_gtsrb_normal_h_z,\n",
    "                                               ood_samples_scores=scores_pca_gtsrb_rn18_ood_gtsrb_anomal_h_z)\n",
    "\n",
    "print(\"\\ngtsrb-normal vs. cifar10:\")\n",
    "print(\"Test InD shape\", scores_pca_gtsrb_rn18_ind_gtsrb_normal_h_z.shape);\n",
    "print(\"Test OoD shape\", scores_pca_gtsrb_rn18_ood_cifa10_h_z.shape);\n",
    "\n",
    "results_cifar10 = get_hz_detector_results(detect_exp_name=\"woodscape-normal vs. cityscapes\",\n",
    "                                          ind_samples_scores=scores_pca_gtsrb_rn18_ind_gtsrb_normal_h_z,\n",
    "                                          ood_samples_scores=scores_pca_gtsrb_rn18_ood_cifa10_h_z)\n",
    "\n",
    "print(\"\\ngtsrb-normal vs. stl10:\")\n",
    "print(\"Test InD shape\", scores_pca_gtsrb_rn18_ind_gtsrb_normal_h_z.shape);\n",
    "print(\"Test OoD shape\", scores_pca_gtsrb_rn18_ood_stl10_h_z.shape);\n",
    "\n",
    "results_stl10 = get_hz_detector_results(detect_exp_name=\"woodscape-normal vs. woodscape-soiling\",\n",
    "                                        ind_samples_scores=scores_pca_gtsrb_rn18_ind_gtsrb_normal_h_z,\n",
    "                                        ood_samples_scores=scores_pca_gtsrb_rn18_ood_stl10_h_z)"
   ]
  },
  {
   "cell_type": "markdown",
   "metadata": {},
   "source": [
    "**Best Results:**\n",
    "\n",
    "PCA Components:  28\n",
    "\n",
    "gtsrb-normal vs. gtsrb-anomal:\n",
    "- AUROC: 0.8017\n",
    "- FPR95: 0.7120\n",
    "- AUPR: 0.7772\n",
    "\n",
    "\n",
    "gtsrb-normal vs. cifar10:\n",
    "- AUROC: 0.8720\n",
    "- FPR95: 0.6807\n",
    "- AUPR: 0.7527\n",
    "\n",
    "\n",
    "gtsrb-normal vs. stl10:\n",
    "- AUROC: 0.8759\n",
    "- FPR95: 0.6815\n",
    "- AUPR: 0.8270"
   ]
  },
  {
   "cell_type": "markdown",
   "metadata": {},
   "source": [
    "# Load Entropy Values"
   ]
  },
  {
   "cell_type": "code",
   "execution_count": 46,
   "metadata": {},
   "outputs": [],
   "source": [
    "gtsrb_rn18_h_z_gtsrb_normal_train_samples_np = np.load(h_z_path + 'gtsrb_rn18_h_z_gtsrb_normal_train_samples_np.npy')\n",
    "gtsrb_rn18_h_z_gtsrb_normal_valid_samples_np = np.load(h_z_path + 'gtsrb_rn18_h_z_gtsrb_normal_valid_samples_np.npy')\n",
    "gtsrb_rn18_h_z_gtsrb_normal_test_samples_np = np.load(h_z_path + 'gtsrb_rn18_h_z_gtsrb_normal_test_samples_np.npy')\n",
    "\n",
    "gtsrb_rn18_h_z_gtsrb_anomal_valid_samples_np = np.load(h_z_path + 'gtsrb_rn18_h_z_gtsrb_anomal_valid_samples_np.npy')\n",
    "gtsrb_rn18_h_z_gtsrb_anomal_test_samples_np = np.load(h_z_path + 'gtsrb_rn18_h_z_gtsrb_anomal_test_samples_np.npy')\n",
    "\n",
    "gtsrb_rn18_h_z_cifar10_valid_samples_np = np.load(h_z_path + 'gtsrb_rn18_h_z_cifar10_valid_samples_np.npy')\n",
    "gtsrb_rn18_h_z_cifar10_test_samples_np = np.load(h_z_path + 'gtsrb_rn18_h_z_cifar10_test_samples_np.npy')\n",
    "\n",
    "gtsrb_rn18_h_z_stl10_valid_samples_np = np.load(h_z_path + 'gtsrb_rn18_h_z_stl10_valid_samples_np.npy')\n",
    "gtsrb_rn18_h_z_stl10_test_samples_np = np.load(h_z_path + 'gtsrb_rn18_h_z_stl10_test_samples_np.npy')"
   ]
  },
  {
   "cell_type": "markdown",
   "metadata": {},
   "source": [
    "# LaREM Score"
   ]
  },
  {
   "cell_type": "code",
   "execution_count": 48,
   "metadata": {},
   "outputs": [
    {
     "name": "stderr",
     "output_type": "stream",
     "text": [
      "ic| gtsrb_rn18_h_z_gtsrb_normal_train_samples_np.shape: (7120, 512)\n",
      "ic| gtsrb_rn18_h_z_gtsrb_normal_valid_samples_np.shape: (3609, 512)\n",
      "ic| gtsrb_rn18_h_z_gtsrb_normal_test_samples_np.shape: (1273, 512)\n",
      "ic| gtsrb_rn18_h_z_gtsrb_anomal_valid_samples_np.shape: (3609, 512)\n",
      "ic| gtsrb_rn18_h_z_gtsrb_anomal_test_samples_np.shape: (1273, 512)\n",
      "ic| gtsrb_rn18_h_z_cifar10_valid_samples_np.shape: (10000, 512)\n",
      "ic| gtsrb_rn18_h_z_cifar10_test_samples_np.shape: (10000, 512)\n",
      "ic| gtsrb_rn18_h_z_stl10_valid_samples_np.shape: (3000, 512)\n",
      "ic| gtsrb_rn18_h_z_stl10_test_samples_np.shape: (8000, 512)\n"
     ]
    }
   ],
   "source": [
    "ic(gtsrb_rn18_h_z_gtsrb_normal_train_samples_np.shape);\n",
    "ic(gtsrb_rn18_h_z_gtsrb_normal_valid_samples_np.shape);\n",
    "ic(gtsrb_rn18_h_z_gtsrb_normal_test_samples_np.shape);\n",
    "\n",
    "ic(gtsrb_rn18_h_z_gtsrb_anomal_valid_samples_np.shape);\n",
    "ic(gtsrb_rn18_h_z_gtsrb_anomal_test_samples_np.shape);\n",
    "\n",
    "ic(gtsrb_rn18_h_z_cifar10_valid_samples_np.shape);\n",
    "ic(gtsrb_rn18_h_z_cifar10_test_samples_np.shape);\n",
    "\n",
    "ic(gtsrb_rn18_h_z_stl10_valid_samples_np.shape);\n",
    "ic(gtsrb_rn18_h_z_stl10_test_samples_np.shape);"
   ]
  },
  {
   "cell_type": "code",
   "execution_count": 49,
   "metadata": {},
   "outputs": [],
   "source": [
    "gtsrb_h_z = np.concatenate((gtsrb_rn18_h_z_gtsrb_normal_valid_samples_np, gtsrb_rn18_h_z_gtsrb_normal_test_samples_np))\n",
    "gtsrb_anomal_h_z = np.concatenate((gtsrb_rn18_h_z_gtsrb_anomal_valid_samples_np, gtsrb_rn18_h_z_gtsrb_anomal_test_samples_np))\n",
    "cifar10_h_z = np.concatenate((gtsrb_rn18_h_z_cifar10_valid_samples_np, gtsrb_rn18_h_z_cifar10_test_samples_np))\n",
    "stl10_h_z = np.concatenate((gtsrb_rn18_h_z_stl10_valid_samples_np, gtsrb_rn18_h_z_stl10_test_samples_np))"
   ]
  },
  {
   "cell_type": "markdown",
   "metadata": {},
   "source": [
    "## Build LaREM Distribution Shift Detector"
   ]
  },
  {
   "cell_type": "code",
   "execution_count": 50,
   "metadata": {},
   "outputs": [],
   "source": [
    "from sklearn.covariance import EmpiricalCovariance\n",
    "\n",
    "class LaREMPostprocessor:\n",
    "    def __init__(self,\n",
    "                 setup_flag: bool = False,\n",
    "                 get_2d_rep_mean: bool = False):\n",
    "\n",
    "        self.setup_flag = setup_flag\n",
    "        self.get_2d_rep_mean = get_2d_rep_mean\n",
    "        self.feats_mean = None\n",
    "        self.precision = None\n",
    "\n",
    "    def setup(self,\n",
    "              ind_feats: np.ndarray):\n",
    "        \n",
    "        if not self.setup_flag:\n",
    "            # estimate mean and variance from training set\n",
    "            print('\\n Estimating mean and variance from training set...')\n",
    "\n",
    "            self.feats_mean = ind_feats.mean(0)\n",
    "            self.feats_mean = np.mean(ind_feats, 0, keepdims=True)\n",
    "            \n",
    "            self.centered_data = ind_feats - self.feats_mean\n",
    "              \n",
    "            group_lasso = EmpiricalCovariance(assume_centered=False)\n",
    "            group_lasso.fit(self.centered_data)\n",
    "            \n",
    "            self.precision = group_lasso.precision_\n",
    "            \n",
    "            self.setup_flag = True\n",
    "            # we need to use:\n",
    "            # self.feats_mean & self.precision\n",
    "        else:\n",
    "            pass\n",
    "\n",
    "    def postprocess(self,\n",
    "                    ood_feats: np.ndarray):\n",
    "           \n",
    "        diff = ood_feats - self.feats_mean\n",
    "        conf_score = -np.diag(np.matmul(np.matmul(diff, self.precision), np.transpose(diff)))\n",
    "\n",
    "        return conf_score"
   ]
  },
  {
   "cell_type": "code",
   "execution_count": 51,
   "metadata": {},
   "outputs": [],
   "source": [
    "gtsrb_rn18_larem_detector = LaREMPostprocessor()"
   ]
  },
  {
   "cell_type": "code",
   "execution_count": 52,
   "metadata": {},
   "outputs": [
    {
     "name": "stdout",
     "output_type": "stream",
     "text": [
      "\n",
      " Estimating mean and variance from training set...\n"
     ]
    }
   ],
   "source": [
    "gtsrb_rn18_larem_detector.setup(gtsrb_rn18_h_z_gtsrb_normal_train_samples_np)"
   ]
  },
  {
   "cell_type": "code",
   "execution_count": 53,
   "metadata": {},
   "outputs": [
    {
     "name": "stderr",
     "output_type": "stream",
     "text": [
      "ic| gtsrb_rn18_larem_detector.feats_mean.shape: (1, 512)\n",
      "ic| gtsrb_rn18_larem_detector.precision.shape: (512, 512)\n"
     ]
    }
   ],
   "source": [
    "ic(gtsrb_rn18_larem_detector.feats_mean.shape);\n",
    "ic(gtsrb_rn18_larem_detector.precision.shape);"
   ]
  },
  {
   "cell_type": "markdown",
   "metadata": {},
   "source": [
    "## Get Scores"
   ]
  },
  {
   "cell_type": "code",
   "execution_count": 54,
   "metadata": {},
   "outputs": [
    {
     "name": "stderr",
     "output_type": "stream",
     "text": [
      "ic| gtsrb_h_z.shape: (4882, 512)\n"
     ]
    },
    {
     "name": "stderr",
     "output_type": "stream",
     "text": [
      "ic| gtsrb_anomal_h_z.shape: (4882, 512)\n",
      "ic| cifar10_h_z.shape: (20000, 512)\n",
      "ic| stl10_h_z.shape: (11000, 512)\n"
     ]
    }
   ],
   "source": [
    "ic(gtsrb_h_z.shape);\n",
    "ic(gtsrb_anomal_h_z.shape);\n",
    "ic(cifar10_h_z.shape);\n",
    "ic(stl10_h_z.shape);"
   ]
  },
  {
   "cell_type": "code",
   "execution_count": 55,
   "metadata": {},
   "outputs": [
    {
     "name": "stderr",
     "output_type": "stream",
     "text": [
      "ic| ind_gtsrb_larem_score.shape: (4882,)\n",
      "ic| ood_gtsrb_anomal_larem_score.shape: (4882,)\n",
      "ic| ood_cifar10_larem_score.shape: (20000,)\n",
      "ic| ood_stl10_larem_score.shape: (11000,)\n"
     ]
    }
   ],
   "source": [
    "ind_gtsrb_larem_score = gtsrb_rn18_larem_detector.postprocess(gtsrb_h_z)\n",
    "ic(ind_gtsrb_larem_score.shape);\n",
    "\n",
    "ood_gtsrb_anomal_larem_score = gtsrb_rn18_larem_detector.postprocess(gtsrb_anomal_h_z)\n",
    "ic(ood_gtsrb_anomal_larem_score.shape);\n",
    "\n",
    "ood_cifar10_larem_score = gtsrb_rn18_larem_detector.postprocess(cifar10_h_z)\n",
    "ic(ood_cifar10_larem_score.shape);\n",
    "\n",
    "ood_stl10_larem_score = gtsrb_rn18_larem_detector.postprocess(stl10_h_z)\n",
    "ic(ood_stl10_larem_score.shape);"
   ]
  },
  {
   "cell_type": "markdown",
   "metadata": {},
   "source": [
    "## Get Results"
   ]
  },
  {
   "cell_type": "code",
   "execution_count": 56,
   "metadata": {},
   "outputs": [
    {
     "name": "stdout",
     "output_type": "stream",
     "text": [
      "\n",
      "gtsrb-normal vs. gtsrb-anomal:\n",
      "Test InD shape (4882,)\n",
      "Test OoD shape (4882,)\n",
      "AUROC: 0.8401\n",
      "FPR95: 0.4889\n",
      "AUPR: 0.8017\n",
      "\n",
      "gtsrb-normal vs. cifar10:\n",
      "Test InD shape (4882,)\n",
      "Test OoD shape (20000,)\n",
      "AUROC: 0.9869\n",
      "FPR95: 0.0521\n",
      "AUPR: 0.9616\n",
      "\n",
      "gtsrb-normal vs. stl10:\n",
      "Test InD shape (4882,)\n",
      "Test OoD shape (11000,)\n",
      "AUROC: 0.9893\n",
      "FPR95: 0.0362\n",
      "AUPR: 0.9782\n"
     ]
    }
   ],
   "source": [
    "print(\"\\ngtsrb-normal vs. gtsrb-anomal:\")\n",
    "print(\"Test InD shape\", ind_gtsrb_larem_score.shape);\n",
    "print(\"Test OoD shape\", ood_gtsrb_anomal_larem_score.shape);\n",
    "\n",
    "results_gtsrb_anomal = get_hz_detector_results(detect_exp_name=\"gtsrb-normal vs. gtsrb-anomal\",\n",
    "                                               ind_samples_scores=ind_gtsrb_larem_score,\n",
    "                                               ood_samples_scores=ood_gtsrb_anomal_larem_score)\n",
    "\n",
    "print(\"\\ngtsrb-normal vs. cifar10:\")\n",
    "print(\"Test InD shape\", ind_gtsrb_larem_score.shape);\n",
    "print(\"Test OoD shape\", ood_cifar10_larem_score.shape);\n",
    "\n",
    "results_cifar10 = get_hz_detector_results(detect_exp_name=\"gtsrb-normal vs. cifar10\",\n",
    "                                          ind_samples_scores=ind_gtsrb_larem_score,\n",
    "                                          ood_samples_scores=ood_cifar10_larem_score)\n",
    "\n",
    "print(\"\\ngtsrb-normal vs. stl10:\")\n",
    "print(\"Test InD shape\", ind_gtsrb_larem_score.shape);\n",
    "print(\"Test OoD shape\", ood_stl10_larem_score.shape);\n",
    "\n",
    "results_stl10 = get_hz_detector_results(detect_exp_name=\"gtsrb-normal vs. stl10\",\n",
    "                                        ind_samples_scores=ind_gtsrb_larem_score,\n",
    "                                        ood_samples_scores=ood_stl10_larem_score)"
   ]
  },
  {
   "cell_type": "markdown",
   "metadata": {},
   "source": [
    "## Plot Score Values"
   ]
  },
  {
   "cell_type": "code",
   "execution_count": 57,
   "metadata": {},
   "outputs": [],
   "source": [
    "df_scores_gtsrb = pd.DataFrame(ind_gtsrb_larem_score, columns=[\"LaREM score\"])\n",
    "df_scores_gtsrb_anomal = pd.DataFrame(ood_gtsrb_anomal_larem_score, columns=[\"LaREM score\"])\n",
    "df_scores_stl10 = pd.DataFrame(ood_cifar10_larem_score, columns=[\"LaREM score\"])\n",
    "df_scores_cifar10 = pd.DataFrame(ood_stl10_larem_score, columns=[\"LaREM score\"])\n",
    "\n",
    "df_scores_gtsrb.insert(0, \"Dataset\", \"\")\n",
    "df_scores_gtsrb.loc[:, \"Dataset\"] = \"gtsrb\"\n",
    "\n",
    "df_scores_gtsrb_anomal.insert(0, \"Dataset\", \"\")\n",
    "df_scores_gtsrb_anomal.loc[:, \"Dataset\"] = \"gtsrb-anomal\"\n",
    "\n",
    "df_scores_stl10.insert(0, \"Dataset\", \"\")\n",
    "df_scores_stl10.loc[:, \"Dataset\"] = \"stl10\"\n",
    "\n",
    "df_scores_cifar10.insert(0, \"Dataset\", \"\")\n",
    "df_scores_cifar10.loc[:, \"Dataset\"] = \"cifar10\""
   ]
  },
  {
   "cell_type": "code",
   "execution_count": 59,
   "metadata": {},
   "outputs": [
    {
     "data": {
      "image/png": "[encoded data removed]",
      "text/plain": [
       "<Figure size 642.875x500 with 1 Axes>"
      ]
     },
     "metadata": {},
     "output_type": "display_data"
    }
   ],
   "source": [
    "df_larem_scores = pd.concat([df_scores_gtsrb,\n",
    "                             df_scores_gtsrb_anomal,\n",
    "                             df_scores_stl10,\n",
    "                             df_scores_cifar10]).reset_index(drop=True)\n",
    "\n",
    "sns.displot(df_larem_scores, x=\"LaREM score\", hue=\"Dataset\", kind=\"hist\", fill=True)\n",
    "plt.show()"
   ]
  },
  {
   "cell_type": "code",
   "execution_count": 61,
   "metadata": {},
   "outputs": [
    {
     "data": {
      "image/png": "[encoded data removed]",
      "text/plain": [
       "<Figure size 642.875x500 with 1 Axes>"
      ]
     },
     "metadata": {},
     "output_type": "display_data"
    }
   ],
   "source": [
    "df_larem_scores = pd.concat([df_scores_gtsrb,\n",
    "                             df_scores_gtsrb_anomal]).reset_index(drop=True)\n",
    "\n",
    "sns.displot(df_larem_scores, x=\"LaREM score\", hue=\"Dataset\", kind=\"hist\", fill=True)\n",
    "plt.show()"
   ]
  },
  {
   "cell_type": "code",
   "execution_count": 63,
   "metadata": {},
   "outputs": [
    {
     "data": {
      "image/png": "[encoded data removed]",
      "text/plain": [
       "<Figure size 598.5x500 with 1 Axes>"
      ]
     },
     "metadata": {},
     "output_type": "display_data"
    }
   ],
   "source": [
    "df_larem_scores = pd.concat([df_scores_gtsrb,\n",
    "                             df_scores_cifar10]).reset_index(drop=True)\n",
    "\n",
    "sns.displot(df_larem_scores, x=\"LaREM score\", hue=\"Dataset\", kind=\"hist\", fill=True)\n",
    "plt.show()"
   ]
  },
  {
   "cell_type": "code",
   "execution_count": 64,
   "metadata": {},
   "outputs": [
    {
     "data": {
      "image/png": "[encoded data removed]",
      "text/plain": [
       "<Figure size 586.125x500 with 1 Axes>"
      ]
     },
     "metadata": {},
     "output_type": "display_data"
    }
   ],
   "source": [
    "df_larem_scores = pd.concat([df_scores_gtsrb,\n",
    "                             df_scores_stl10]).reset_index(drop=True)\n",
    "\n",
    "sns.displot(df_larem_scores, x=\"LaREM score\", hue=\"Dataset\", kind=\"hist\", fill=True)\n",
    "plt.show()"
   ]
  },
  {
   "cell_type": "code",
   "execution_count": null,
   "metadata": {},
   "outputs": [],
   "source": []
  }
 ],
 "metadata": {
  "kernelspec": {
   "display_name": "Semantic_Segmentation",
   "language": "python",
   "name": "python3"
  },
  "language_info": {
   "codemirror_mode": {
    "name": "ipython",
    "version": 3
   },
   "file_extension": ".py",
   "mimetype": "text/x-python",
   "name": "python",
   "nbconvert_exporter": "python",
   "pygments_lexer": "ipython3",
   "version": "3.7.5"
  },
  "orig_nbformat": 4
 },
 "nbformat": 4,
 "nbformat_minor": 2
}

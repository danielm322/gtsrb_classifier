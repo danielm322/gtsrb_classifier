{
 "cells": [
  {
   "attachments": {},
   "cell_type": "markdown",
   "metadata": {},
   "source": [
    "# General Imports"
   ]
  },
  {
   "cell_type": "code",
   "execution_count": 1,
   "metadata": {},
   "outputs": [],
   "source": [
    "%load_ext autoreload\n",
    "%autoreload 2\n",
    "%reload_ext autoreload"
   ]
  },
  {
   "cell_type": "code",
   "execution_count": 2,
   "metadata": {},
   "outputs": [],
   "source": [
    "%matplotlib inline"
   ]
  },
  {
   "cell_type": "code",
   "execution_count": 3,
   "metadata": {},
   "outputs": [],
   "source": [
    "from copy import deepcopy\n",
    "from collections import namedtuple\n",
    "import numpy as np\n",
    "import matplotlib.pyplot as plt\n",
    "import random\n",
    "import pandas as pd\n",
    "import seaborn as sns\n",
    "from PIL import Image\n",
    "import sklearn\n",
    "from icecream import ic"
   ]
  },
  {
   "cell_type": "code",
   "execution_count": 4,
   "metadata": {},
   "outputs": [],
   "source": [
    "import torch\n",
    "import torch.nn as nn\n",
    "import pytorch_lightning as pl\n",
    "from pytorch_lightning.callbacks import ModelCheckpoint\n",
    "from torchvision import transforms as transform_lib\n",
    "from pytorch_lightning.callbacks import TQDMProgressBar\n",
    "from torch.utils.data import Dataset\n",
    "from torch.utils.data import DataLoader\n",
    "from torch.utils.data.sampler import SubsetRandomSampler"
   ]
  },
  {
   "cell_type": "code",
   "execution_count": 5,
   "metadata": {},
   "outputs": [],
   "source": [
    "from datasets import GtsrbModule"
   ]
  },
  {
   "cell_type": "code",
   "execution_count": 6,
   "metadata": {},
   "outputs": [],
   "source": [
    "from pl_bolts.datamodules import CIFAR10DataModule\n",
    "from pl_bolts.datamodules import STL10DataModule"
   ]
  },
  {
   "cell_type": "code",
   "execution_count": 7,
   "metadata": {},
   "outputs": [],
   "source": [
    "from models import ResnetModule"
   ]
  },
  {
   "cell_type": "code",
   "execution_count": 8,
   "metadata": {},
   "outputs": [],
   "source": [
    "from dropblock import DropBlock2D, LinearScheduler"
   ]
  },
  {
   "cell_type": "code",
   "execution_count": 9,
   "metadata": {},
   "outputs": [],
   "source": [
    "from ls_ood_detect_cea.uncertainty_estimation import Hook\n",
    "from ls_ood_detect_cea.uncertainty_estimation import deeplabv3p_get_ls_mcd_samples\n",
    "from ls_ood_detect_cea.uncertainty_estimation import get_latent_represent_mcd_samples\n",
    "from ls_ood_detect_cea.uncertainty_estimation import get_dl_h_z\n",
    "from ls_ood_detect_cea.ood_detection_dataset import build_ood_detection_ds\n",
    "from ls_ood_detect_cea.dimensionality_reduction import plot_samples_pacmap\n",
    "from ls_ood_detect_cea.detectors import KDEClassifier\n",
    "from ls_ood_detect_cea.metrics import get_ood_detector_results, plot_roc_ood_detector"
   ]
  },
  {
   "cell_type": "code",
   "execution_count": 10,
   "metadata": {},
   "outputs": [],
   "source": [
    "from ls_ood_detect_cea.metrics import get_hz_detector_results"
   ]
  },
  {
   "cell_type": "code",
   "execution_count": 11,
   "metadata": {},
   "outputs": [],
   "source": [
    "from ls_ood_detect_cea.uncertainty_estimation import Hook\n",
    "from ls_ood_detect_cea.uncertainty_estimation import deeplabv3p_get_ls_mcd_samples\n",
    "from ls_ood_detect_cea.uncertainty_estimation import get_latent_represent_mcd_samples\n",
    "from ls_ood_detect_cea.uncertainty_estimation import get_dl_h_z\n",
    "from ls_ood_detect_cea.ood_detection_dataset import build_ood_detection_ds\n",
    "from ls_ood_detect_cea.dimensionality_reduction import plot_samples_pacmap\n",
    "from ls_ood_detect_cea.detectors import KDEClassifier, DetectorKDE\n",
    "from ls_ood_detect_cea.score import get_hz_scores\n",
    "from ls_ood_detect_cea.metrics import get_hz_detector_results\n",
    "from ls_ood_detect_cea.metrics import get_ood_detector_results\n",
    "from ls_ood_detect_cea.metrics import plot_roc_ood_detector\n",
    "from ls_ood_detect_cea.metrics import plot_auprc_ood_detector\n",
    "from ls_ood_detect_cea.dimensionality_reduction import plot_samples_pacmap\n",
    "from ls_ood_detect_cea.dimensionality_reduction import apply_pca_ds_split\n",
    "from ls_ood_detect_cea.dimensionality_reduction import apply_pca_transform"
   ]
  },
  {
   "cell_type": "code",
   "execution_count": 12,
   "metadata": {},
   "outputs": [
    {
     "name": "stdout",
     "output_type": "stream",
     "text": [
      "cuda\n"
     ]
    }
   ],
   "source": [
    "device = torch.device('cuda' if torch.cuda.is_available() else 'cpu')\n",
    "print(device)"
   ]
  },
  {
   "cell_type": "markdown",
   "metadata": {},
   "source": [
    "# Paths"
   ]
  },
  {
   "cell_type": "markdown",
   "metadata": {},
   "source": [
    "Datasets paths:"
   ]
  },
  {
   "cell_type": "code",
   "execution_count": 13,
   "metadata": {},
   "outputs": [],
   "source": [
    "gtsrb_dataset_path = \"/media/farnez/Data/DATASETS/gtsrb-data/\"\n",
    "cifar10_data_path = \"/media/farnez/Data/DATASETS/cifar-10/\"\n",
    "stl10_data_path = \"/media/farnez/Data/DATASETS/stl-10/\""
   ]
  },
  {
   "cell_type": "markdown",
   "metadata": {},
   "source": [
    "Experiments path:"
   ]
  },
  {
   "cell_type": "code",
   "execution_count": 14,
   "metadata": {},
   "outputs": [],
   "source": [
    "exp_path = \"/media/farnez/Data/EXPERIMENTS/ICLR-2024/gtsrb-classification/\""
   ]
  },
  {
   "cell_type": "markdown",
   "metadata": {},
   "source": [
    "Resnet Classification Model Number & checkpoint:"
   ]
  },
  {
   "cell_type": "code",
   "execution_count": 15,
   "metadata": {},
   "outputs": [],
   "source": [
    "exp_model_name = \"resnet18_model_1\""
   ]
  },
  {
   "cell_type": "code",
   "execution_count": 16,
   "metadata": {},
   "outputs": [
    {
     "data": {
      "text/plain": [
       "'/media/farnez/Data/EXPERIMENTS/ICLR-2024/gtsrb-classification/resnet18_model_1/model/epoch=1101-step=154280.ckpt'"
      ]
     },
     "execution_count": 16,
     "metadata": {},
     "output_type": "execute_result"
    }
   ],
   "source": [
    "gtsrb_resnet18_model_path = exp_path + exp_model_name + \"/model/epoch=1101-step=154280.ckpt\"\n",
    "gtsrb_resnet18_model_path"
   ]
  },
  {
   "cell_type": "markdown",
   "metadata": {},
   "source": [
    "**Baseline models path:**"
   ]
  },
  {
   "cell_type": "code",
   "execution_count": 17,
   "metadata": {},
   "outputs": [],
   "source": [
    "baseline_methods_path = \"baseline_methods/\""
   ]
  },
  {
   "cell_type": "code",
   "execution_count": 18,
   "metadata": {},
   "outputs": [],
   "source": [
    "baseline_model_mcd_path = \"models/resnet18_mcd/\"\n",
    "baseline_model_det_path = \"models/resnet18_det/\""
   ]
  },
  {
   "cell_type": "markdown",
   "metadata": {},
   "source": [
    "**ResNet18 MCD only Classifier**\n",
    "\n",
    "- No DropBlock2D\n",
    "- Only Dropout layer"
   ]
  },
  {
   "cell_type": "code",
   "execution_count": 19,
   "metadata": {},
   "outputs": [
    {
     "data": {
      "text/plain": [
       "'/media/farnez/Data/EXPERIMENTS/ICLR-2024/gtsrb-classification/baseline_methods/models/resnet18_mcd/last.ckpt'"
      ]
     },
     "execution_count": 19,
     "metadata": {},
     "output_type": "execute_result"
    }
   ],
   "source": [
    "gtsrb_mcd_model_path = exp_path + baseline_methods_path + baseline_model_mcd_path + \"last.ckpt\"\n",
    "gtsrb_mcd_model_path"
   ]
  },
  {
   "cell_type": "markdown",
   "metadata": {},
   "source": [
    "**Deterministic ResNet18 Classifier**\n",
    "- No DropBlock2D neither Dropout"
   ]
  },
  {
   "cell_type": "code",
   "execution_count": 20,
   "metadata": {},
   "outputs": [
    {
     "data": {
      "text/plain": [
       "'/media/farnez/Data/EXPERIMENTS/ICLR-2024/gtsrb-classification/baseline_methods/models/resnet18_det/last.ckpt'"
      ]
     },
     "execution_count": 20,
     "metadata": {},
     "output_type": "execute_result"
    }
   ],
   "source": [
    "gtsrb_det_model_path = exp_path + baseline_methods_path + baseline_model_det_path + \"last.ckpt\"\n",
    "gtsrb_det_model_path"
   ]
  },
  {
   "cell_type": "markdown",
   "metadata": {},
   "source": [
    "Detection Baselines Samples Paths:"
   ]
  },
  {
   "cell_type": "code",
   "execution_count": 21,
   "metadata": {},
   "outputs": [],
   "source": [
    "baselines_samples_path = \"OoD_detection_baselines/\""
   ]
  },
  {
   "cell_type": "code",
   "execution_count": 22,
   "metadata": {},
   "outputs": [
    {
     "data": {
      "text/plain": [
       "'/media/farnez/Data/EXPERIMENTS/ICLR-2024/gtsrb-classification/baseline_methods/OoD_detection_baselines/predicted_uncertainty/'"
      ]
     },
     "execution_count": 22,
     "metadata": {},
     "output_type": "execute_result"
    }
   ],
   "source": [
    "predicted_uncertainty_path = exp_path + baseline_methods_path + baselines_samples_path + \"predicted_uncertainty/\"\n",
    "predicted_uncertainty_path"
   ]
  },
  {
   "cell_type": "code",
   "execution_count": 23,
   "metadata": {},
   "outputs": [
    {
     "data": {
      "text/plain": [
       "'/media/farnez/Data/EXPERIMENTS/ICLR-2024/gtsrb-classification/baseline_methods/OoD_detection_baselines/msp_score/'"
      ]
     },
     "execution_count": 23,
     "metadata": {},
     "output_type": "execute_result"
    }
   ],
   "source": [
    "msp_score_path = exp_path + baseline_methods_path + baselines_samples_path + \"msp_score/\"\n",
    "msp_score_path"
   ]
  },
  {
   "cell_type": "code",
   "execution_count": 24,
   "metadata": {},
   "outputs": [
    {
     "data": {
      "text/plain": [
       "'/media/farnez/Data/EXPERIMENTS/ICLR-2024/gtsrb-classification/baseline_methods/OoD_detection_baselines/energy_score/'"
      ]
     },
     "execution_count": 24,
     "metadata": {},
     "output_type": "execute_result"
    }
   ],
   "source": [
    "energy_score_path = exp_path + baseline_methods_path + baselines_samples_path + \"energy_score/\"\n",
    "energy_score_path"
   ]
  },
  {
   "cell_type": "code",
   "execution_count": 25,
   "metadata": {},
   "outputs": [
    {
     "data": {
      "text/plain": [
       "'/media/farnez/Data/EXPERIMENTS/ICLR-2024/gtsrb-classification/baseline_methods/OoD_detection_baselines/mahalanobis_dist_score/'"
      ]
     },
     "execution_count": 25,
     "metadata": {},
     "output_type": "execute_result"
    }
   ],
   "source": [
    "m_dist_score_path = exp_path + baseline_methods_path + baselines_samples_path + \"mahalanobis_dist_score/\"\n",
    "m_dist_score_path"
   ]
  },
  {
   "cell_type": "code",
   "execution_count": 26,
   "metadata": {},
   "outputs": [
    {
     "data": {
      "text/plain": [
       "'/media/farnez/Data/EXPERIMENTS/ICLR-2024/gtsrb-classification/baseline_methods/OoD_detection_baselines/knn_dist_score/'"
      ]
     },
     "execution_count": 26,
     "metadata": {},
     "output_type": "execute_result"
    }
   ],
   "source": [
    "knn_dist_score_path = exp_path + baseline_methods_path + baselines_samples_path + \"knn_dist_score/\"\n",
    "knn_dist_score_path"
   ]
  },
  {
   "attachments": {},
   "cell_type": "markdown",
   "metadata": {},
   "source": [
    "# Datasets"
   ]
  },
  {
   "attachments": {},
   "cell_type": "markdown",
   "metadata": {},
   "source": [
    "## GTSRB-Normal"
   ]
  },
  {
   "cell_type": "code",
   "execution_count": 27,
   "metadata": {},
   "outputs": [],
   "source": [
    "gtsrb_normal_dm = GtsrbModule(img_size=(128, 128), data_path=gtsrb_dataset_path, batch_size=1, shuffle=False)"
   ]
  },
  {
   "cell_type": "code",
   "execution_count": 28,
   "metadata": {},
   "outputs": [],
   "source": [
    "gtsrb_normal_dm.setup(stage='fit')\n",
    "gtsrb_normal_dm.setup(stage='validate')\n",
    "gtsrb_normal_dm.setup(stage='test')"
   ]
  },
  {
   "cell_type": "code",
   "execution_count": 29,
   "metadata": {},
   "outputs": [
    {
     "name": "stderr",
     "output_type": "stream",
     "text": [
      "ic| len(samples_idx): 7120\n"
     ]
    }
   ],
   "source": [
    "gtsrb_ds_len = len(gtsrb_normal_dm.ds_gtsrb_train)\n",
    "indices_train_dl = list(range(gtsrb_ds_len))\n",
    "samples_size = 0.2 # of the dataset\n",
    "\n",
    "random.seed(9290)\n",
    "random.shuffle(indices_train_dl)\n",
    "\n",
    "split = int(np.floor(gtsrb_ds_len * samples_size))\n",
    "samples_idx = indices_train_dl[:split]\n",
    "ic(len(samples_idx));\n",
    "\n",
    "train_sampler = SubsetRandomSampler(samples_idx)\n",
    "\n",
    "gtsrb_normal_dm.shuffle = False\n",
    "gtsrb_normal_dm.ds_gtsrb_train_sampler = train_sampler"
   ]
  },
  {
   "cell_type": "code",
   "execution_count": 30,
   "metadata": {},
   "outputs": [
    {
     "name": "stderr",
     "output_type": "stream",
     "text": [
      "ic| len(gtsrb_normal_train_loader): 7120\n",
      "ic| len(gtsrb_normal_valid_loader): 3609\n",
      "ic| len(gtsrb_normal_test_loader): 1273\n"
     ]
    }
   ],
   "source": [
    "gtsrb_normal_train_loader = gtsrb_normal_dm.train_dataloader()\n",
    "gtsrb_normal_valid_loader = gtsrb_normal_dm.val_dataloader()\n",
    "gtsrb_normal_test_loader = gtsrb_normal_dm.test_dataloader()\n",
    "ic(len(gtsrb_normal_train_loader));\n",
    "ic(len(gtsrb_normal_valid_loader));\n",
    "ic(len(gtsrb_normal_test_loader));"
   ]
  },
  {
   "cell_type": "code",
   "execution_count": 31,
   "metadata": {},
   "outputs": [],
   "source": [
    "dataiter = iter(gtsrb_normal_train_loader)"
   ]
  },
  {
   "cell_type": "code",
   "execution_count": 32,
   "metadata": {},
   "outputs": [
    {
     "name": "stdout",
     "output_type": "stream",
     "text": [
      "No passing\n"
     ]
    },
    {
     "data": {
      "image/png": "[encoded data removed]",
      "text/plain": [
       "<Figure size 100x100 with 1 Axes>"
      ]
     },
     "metadata": {},
     "output_type": "display_data"
    }
   ],
   "source": [
    "samp, lbl = dataiter.next()\n",
    "lbl_np = lbl[0].cpu().numpy()\n",
    "print(gtsrb_normal_dm.idx2label[lbl_np.item()])\n",
    "gtsrb_normal_dm.unprocess_image(samp[0], plot=True)"
   ]
  },
  {
   "attachments": {},
   "cell_type": "markdown",
   "metadata": {},
   "source": [
    "## GTSRB-Anomalies"
   ]
  },
  {
   "cell_type": "code",
   "execution_count": 33,
   "metadata": {},
   "outputs": [],
   "source": [
    "gtsrb_anomal_dm = GtsrbModule(img_size=(128, 128), data_path=gtsrb_dataset_path, batch_size=1, anomaly_transforms=True, shuffle=True)"
   ]
  },
  {
   "cell_type": "code",
   "execution_count": 34,
   "metadata": {},
   "outputs": [],
   "source": [
    "gtsrb_anomal_dm.setup(stage='fit')\n",
    "gtsrb_anomal_dm.setup(stage='validate')\n",
    "gtsrb_anomal_dm.setup(stage='test')"
   ]
  },
  {
   "cell_type": "code",
   "execution_count": 35,
   "metadata": {},
   "outputs": [
    {
     "name": "stderr",
     "output_type": "stream",
     "text": [
      "ic| len(gtsrb_anomal_train_loader): 35600\n",
      "ic| len(gtsrb_anomal_valid_loader): 3609\n",
      "ic| len(gtsrb_anomal_test_loader): 1273\n"
     ]
    }
   ],
   "source": [
    "gtsrb_anomal_train_loader = gtsrb_anomal_dm.train_dataloader()\n",
    "gtsrb_anomal_valid_loader = gtsrb_anomal_dm.val_dataloader()\n",
    "gtsrb_anomal_test_loader = gtsrb_anomal_dm.test_dataloader()\n",
    "ic(len(gtsrb_anomal_train_loader));\n",
    "ic(len(gtsrb_anomal_valid_loader));\n",
    "ic(len(gtsrb_anomal_test_loader));"
   ]
  },
  {
   "cell_type": "code",
   "execution_count": 36,
   "metadata": {},
   "outputs": [],
   "source": [
    "dataiter_anomal = iter(gtsrb_anomal_train_loader)"
   ]
  },
  {
   "cell_type": "code",
   "execution_count": 37,
   "metadata": {},
   "outputs": [
    {
     "name": "stdout",
     "output_type": "stream",
     "text": [
      "Stop\n"
     ]
    },
    {
     "data": {
      "image/png": "[encoded data removed]",
      "text/plain": [
       "<Figure size 100x100 with 1 Axes>"
      ]
     },
     "metadata": {},
     "output_type": "display_data"
    }
   ],
   "source": [
    "samp, lbl = dataiter_anomal.next()\n",
    "lbl_np = lbl[0].cpu().numpy()\n",
    "print(gtsrb_anomal_dm.idx2label[lbl_np.item()])\n",
    "gtsrb_anomal_dm.unprocess_image(samp[0], plot=True)"
   ]
  },
  {
   "attachments": {},
   "cell_type": "markdown",
   "metadata": {},
   "source": [
    "## CIFAR-10 OoD"
   ]
  },
  {
   "cell_type": "code",
   "execution_count": 38,
   "metadata": {},
   "outputs": [],
   "source": [
    "cifar10_dm = CIFAR10DataModule(data_dir=cifar10_data_path,\n",
    "                               val_split=0.2,\n",
    "                               num_workers=10,\n",
    "                               normalize=True,\n",
    "                               batch_size=1,\n",
    "                               seed=10,\n",
    "                               drop_last=True,\n",
    "                               shuffle=True)\n",
    "\n",
    "cifar10_transforms = transform_lib.Compose([\n",
    "    transform_lib.Resize((128, 128)),\n",
    "    transform_lib.ToTensor(),\n",
    "    transform_lib.Normalize(\n",
    "        mean=[0.3337, 0.3064, 0.3171],\n",
    "        std=[0.2672, 0.2564, 0.2629]\n",
    "    )\n",
    "])\n",
    "\n",
    "cifar10_dm.train_transforms = cifar10_transforms\n",
    "cifar10_dm.test_transforms = cifar10_transforms\n",
    "cifar10_dm.val_transforms  = cifar10_transforms"
   ]
  },
  {
   "cell_type": "code",
   "execution_count": 39,
   "metadata": {},
   "outputs": [],
   "source": [
    "# cifar10_dm.prepare_data()"
   ]
  },
  {
   "cell_type": "code",
   "execution_count": 40,
   "metadata": {},
   "outputs": [],
   "source": [
    "cifar10_dm.setup(stage='fit')\n",
    "cifar10_dm.setup(stage='test')"
   ]
  },
  {
   "cell_type": "code",
   "execution_count": 41,
   "metadata": {},
   "outputs": [
    {
     "name": "stderr",
     "output_type": "stream",
     "text": [
      "ic| len(cifar10_train_loader): 40000\n",
      "ic| len(cifar10_valid_loader): 10000\n",
      "ic| len(cifar10_test_loader): 10000\n"
     ]
    }
   ],
   "source": [
    "cifar10_train_loader = cifar10_dm.train_dataloader()\n",
    "cifar10_valid_loader = cifar10_dm.val_dataloader()\n",
    "cifar10_test_loader = cifar10_dm.test_dataloader()\n",
    "ic(len(cifar10_train_loader));\n",
    "ic(len(cifar10_valid_loader));\n",
    "ic(len(cifar10_test_loader));"
   ]
  },
  {
   "cell_type": "code",
   "execution_count": 42,
   "metadata": {},
   "outputs": [],
   "source": [
    "def unprocess_cifar10_image(im,\n",
    "                            norm_mean=[x / 255.0 for x in [125.3, 123.0, 113.9]],\n",
    "                            norm_std=[x / 255.0 for x in [63.0, 62.1, 66.7]], \n",
    "                            plot=False):\n",
    "    # im = im.squeeze().numpy().transpose((1, 2, 0))\n",
    "    norm_mean = np.array(norm_mean)\n",
    "    norm_std = np.array(norm_std)\n",
    "    im = im.squeeze().numpy().transpose((1, 2, 0))\n",
    "    im = norm_std * im + norm_mean\n",
    "    im = np.clip(im, 0, 1)\n",
    "    im = im * 255\n",
    "    im = Image.fromarray(im.astype(np.uint8))\n",
    "\n",
    "    if plot:\n",
    "        plt.rcParams['figure.figsize'] = [2.54/2.54, 2.54/2.54]\n",
    "        plt.imshow(im)\n",
    "        plt.xticks([])\n",
    "        plt.yticks([])\n",
    "        plt.show()\n",
    "    else:\n",
    "        return im"
   ]
  },
  {
   "cell_type": "code",
   "execution_count": 43,
   "metadata": {},
   "outputs": [],
   "source": [
    "dataiter = iter(cifar10_train_loader)"
   ]
  },
  {
   "cell_type": "code",
   "execution_count": 44,
   "metadata": {},
   "outputs": [
    {
     "data": {
      "image/png": "[encoded data removed]",
      "text/plain": [
       "<Figure size 100x100 with 1 Axes>"
      ]
     },
     "metadata": {},
     "output_type": "display_data"
    }
   ],
   "source": [
    "samp, lbl = dataiter.next()\n",
    "lbl_np = lbl[0].cpu().numpy()\n",
    "unprocess_cifar10_image(samp[0], norm_mean=[0.3337, 0.3064, 0.3171], norm_std=[0.2672, 0.2564, 0.2629], plot=True)"
   ]
  },
  {
   "attachments": {},
   "cell_type": "markdown",
   "metadata": {},
   "source": [
    "## STL-10 OoD"
   ]
  },
  {
   "cell_type": "code",
   "execution_count": 45,
   "metadata": {},
   "outputs": [],
   "source": [
    "stl10_dm = STL10DataModule(data_dir=stl10_data_path,\n",
    "                           train_val_split=3000,\n",
    "                           num_workers=10,\n",
    "                           batch_size=1,\n",
    "                           seed=10,\n",
    "                           drop_last=True,\n",
    "                           shuffle=True)\n",
    "\n",
    "stl10_transforms = transform_lib.Compose([\n",
    "    transform_lib.Resize((128, 128)),\n",
    "    transform_lib.ToTensor(),\n",
    "    transform_lib.Normalize(\n",
    "        mean=(0.3337, 0.3064, 0.3171),\n",
    "        std=(0.2672, 0.2564, 0.2629)\n",
    "    )\n",
    "])\n",
    "\n",
    "stl10_dm.train_transforms = stl10_transforms\n",
    "stl10_dm.test_transforms = stl10_transforms\n",
    "stl10_dm.val_transforms  = stl10_transforms"
   ]
  },
  {
   "cell_type": "code",
   "execution_count": 46,
   "metadata": {},
   "outputs": [],
   "source": [
    "# stl10_dm.prepare_data()"
   ]
  },
  {
   "cell_type": "code",
   "execution_count": 47,
   "metadata": {},
   "outputs": [
    {
     "name": "stderr",
     "output_type": "stream",
     "text": [
      "ic| len(stl10_train_loader): 2000\n",
      "ic| len(stl10_valid_loader): 3000\n",
      "ic| len(stl10_test_loader): 8000\n"
     ]
    }
   ],
   "source": [
    "stl10_train_loader = stl10_dm.train_dataloader_labeled()\n",
    "stl10_valid_loader = stl10_dm.val_dataloader_labeled()\n",
    "stl10_test_loader = stl10_dm.test_dataloader()\n",
    "ic(len(stl10_train_loader));\n",
    "ic(len(stl10_valid_loader));\n",
    "ic(len(stl10_test_loader));"
   ]
  },
  {
   "cell_type": "code",
   "execution_count": 48,
   "metadata": {},
   "outputs": [],
   "source": [
    "def unprocess_stl10_image(im,\n",
    "                          norm_mean=[0.43, 0.42, 0.39],\n",
    "                          norm_std=[0.27, 0.26, 0.27], \n",
    "                          plot=False):\n",
    "    # im = im.squeeze().numpy().transpose((1, 2, 0))\n",
    "    norm_mean = np.array(norm_mean)\n",
    "    norm_std = np.array(norm_std)\n",
    "    im = im.squeeze().numpy().transpose((1, 2, 0))\n",
    "    im = norm_std * im + norm_mean\n",
    "    im = np.clip(im, 0, 1)\n",
    "    im = im * 255\n",
    "    im = Image.fromarray(im.astype(np.uint8))\n",
    "\n",
    "    if plot:\n",
    "        plt.rcParams['figure.figsize'] = [2.54/2.54, 2.54/2.54]\n",
    "        plt.imshow(im)\n",
    "        plt.xticks([])\n",
    "        plt.yticks([])\n",
    "        plt.show()\n",
    "    else:\n",
    "        return im"
   ]
  },
  {
   "cell_type": "code",
   "execution_count": 49,
   "metadata": {},
   "outputs": [],
   "source": [
    "dataiter = iter(stl10_train_loader)"
   ]
  },
  {
   "cell_type": "code",
   "execution_count": 50,
   "metadata": {},
   "outputs": [
    {
     "data": {
      "image/png": "[encoded data removed]",
      "text/plain": [
       "<Figure size 100x100 with 1 Axes>"
      ]
     },
     "metadata": {},
     "output_type": "display_data"
    }
   ],
   "source": [
    "samp, lbl = dataiter.next()\n",
    "lbl_np = lbl[0].cpu().numpy()\n",
    "unprocess_stl10_image(samp[0], norm_mean=[0.3337, 0.3064, 0.3171], norm_std=[0.2672, 0.2564, 0.2629], plot=True)"
   ]
  },
  {
   "cell_type": "markdown",
   "metadata": {},
   "source": [
    "# Dataset Distribution Shift Uncertainty Latent Representations - MCD"
   ]
  },
  {
   "cell_type": "markdown",
   "metadata": {},
   "source": [
    "GTSRB Anomal Detection"
   ]
  },
  {
   "cell_type": "code",
   "execution_count": 61,
   "metadata": {},
   "outputs": [],
   "source": [
    "m1_gtsrb_anomal_auroc =  torch.tensor([[0.8130, 0.8147, 0.8127]])\n",
    "m1_gtsrb_anomal_fpr95 =  torch.tensor([[0.6794, 0.6934, 0.7106]])\n",
    "m1_gtsrb_anomal_aupr =  torch.tensor([[0.8015, 0.7988, 0.8023]])"
   ]
  },
  {
   "cell_type": "code",
   "execution_count": 62,
   "metadata": {},
   "outputs": [
    {
     "name": "stderr",
     "output_type": "stream",
     "text": [
      "ic| std_mean_gtsrb_anomal_auroc: (tensor(0.0011), tensor(0.8135))\n"
     ]
    },
    {
     "name": "stderr",
     "output_type": "stream",
     "text": [
      "ic| std_mean_gtsrb_anomal_fpr95: (tensor(0.0156), tensor(0.6945))\n",
      "ic| std_mean_gtsrb_anomal_aupr: (tensor(0.0018), tensor(0.8009))\n"
     ]
    }
   ],
   "source": [
    "std_mean_gtsrb_anomal_auroc = torch.std_mean(m1_gtsrb_anomal_auroc, unbiased=True)\n",
    "std_mean_gtsrb_anomal_fpr95 = torch.std_mean(m1_gtsrb_anomal_fpr95, unbiased=True)\n",
    "std_mean_gtsrb_anomal_aupr = torch.std_mean(m1_gtsrb_anomal_aupr, unbiased=True)\n",
    "ic(std_mean_gtsrb_anomal_auroc);\n",
    "ic(std_mean_gtsrb_anomal_fpr95);\n",
    "ic(std_mean_gtsrb_anomal_aupr);"
   ]
  },
  {
   "cell_type": "markdown",
   "metadata": {},
   "source": [
    "CIFAR10 Detection"
   ]
  },
  {
   "cell_type": "code",
   "execution_count": 63,
   "metadata": {},
   "outputs": [],
   "source": [
    "m1_cifar10_auroc =  torch.tensor([[0.9673, 0.9662, 0.9665]])\n",
    "m1_cifar10_fpr95 =  torch.tensor([[0.1992, 0.2238, 0.2174]])\n",
    "m1_cifar10_aupr =  torch.tensor([[0.9334, 0.9338, 0.9334]])"
   ]
  },
  {
   "cell_type": "code",
   "execution_count": 64,
   "metadata": {},
   "outputs": [
    {
     "name": "stderr",
     "output_type": "stream",
     "text": [
      "ic| std_mean_cifar10_auroc: (tensor(0.0006), tensor(0.9667))\n",
      "ic| std_mean_cifar10_fpr95: (tensor(0.0128), tensor(0.2135))\n",
      "ic| std_mean_cifar10_aupr: ("
     ]
    },
    {
     "name": "stderr",
     "output_type": "stream",
     "text": [
      "tensor(0.0002), tensor(0.9335))\n"
     ]
    }
   ],
   "source": [
    "std_mean_cifar10_auroc = torch.std_mean(m1_cifar10_auroc, unbiased=True)\n",
    "std_mean_cifar10_fpr95 = torch.std_mean(m1_cifar10_fpr95, unbiased=True)\n",
    "std_mean_cifar10_aupr = torch.std_mean(m1_cifar10_aupr, unbiased=True)\n",
    "ic(std_mean_cifar10_auroc);\n",
    "ic(std_mean_cifar10_fpr95);\n",
    "ic(std_mean_cifar10_aupr);"
   ]
  },
  {
   "cell_type": "markdown",
   "metadata": {},
   "source": [
    "STL10 Detection"
   ]
  },
  {
   "cell_type": "code",
   "execution_count": 65,
   "metadata": {},
   "outputs": [],
   "source": [
    "m1_stl10_auroc =  torch.tensor([[0.9845, 0.9836, 0.9843]])\n",
    "m1_stl10_fpr95 =  torch.tensor([[0.0603, 0.0717, 0.0670]])\n",
    "m1_stl10_aupr =  torch.tensor([[0.9777, 0.9770, 0.9771]])"
   ]
  },
  {
   "cell_type": "code",
   "execution_count": 66,
   "metadata": {},
   "outputs": [
    {
     "name": "stderr",
     "output_type": "stream",
     "text": [
      "ic| std_mean_stl10_auroc: (tensor(0.0005), tensor(0.9841))\n",
      "ic| std_mean_stl10_fpr95: (tensor(0.0057), tensor(0.0663))\n",
      "ic| std_mean_stl10_aupr: (tensor(0.0004), tensor"
     ]
    },
    {
     "name": "stderr",
     "output_type": "stream",
     "text": [
      "(0.9773))\n"
     ]
    }
   ],
   "source": [
    "std_mean_stl10_auroc = torch.std_mean(m1_stl10_auroc, unbiased=True)\n",
    "std_mean_stl10_fpr95 = torch.std_mean(m1_stl10_fpr95, unbiased=True)\n",
    "std_mean_stl10_aupr = torch.std_mean(m1_stl10_aupr, unbiased=True)\n",
    "ic(std_mean_stl10_auroc);\n",
    "ic(std_mean_stl10_fpr95);\n",
    "ic(std_mean_stl10_aupr);"
   ]
  },
  {
   "attachments": {},
   "cell_type": "markdown",
   "metadata": {},
   "source": [
    "# GTSRB ResNet18 Classifier"
   ]
  },
  {
   "cell_type": "markdown",
   "metadata": {},
   "source": [
    "**ResNet18 MCD only Classifier**\n",
    "\n",
    "- No DropBlock2D\n",
    "- Only Dropout layer"
   ]
  },
  {
   "cell_type": "code",
   "execution_count": 73,
   "metadata": {},
   "outputs": [],
   "source": [
    "gtsrb_mcd_model = ResnetModule.load_from_checkpoint(checkpoint_path=gtsrb_mcd_model_path)"
   ]
  },
  {
   "cell_type": "code",
   "execution_count": null,
   "metadata": {},
   "outputs": [],
   "source": [
    "gtsrb_mcd_model;"
   ]
  },
  {
   "cell_type": "code",
   "execution_count": 98,
   "metadata": {},
   "outputs": [],
   "source": [
    "gtsrb_mcd_model.eval();"
   ]
  },
  {
   "cell_type": "markdown",
   "metadata": {},
   "source": [
    "**Deterministic ResNet18 Classifier**\n",
    "- No DropBlock2D neither Dropout"
   ]
  },
  {
   "cell_type": "code",
   "execution_count": 51,
   "metadata": {},
   "outputs": [],
   "source": [
    "gtsrb_det_model = ResnetModule.load_from_checkpoint(checkpoint_path=gtsrb_det_model_path)"
   ]
  },
  {
   "cell_type": "code",
   "execution_count": 52,
   "metadata": {},
   "outputs": [],
   "source": [
    "gtsrb_det_model;"
   ]
  },
  {
   "cell_type": "code",
   "execution_count": 53,
   "metadata": {},
   "outputs": [],
   "source": [
    "gtsrb_det_model.eval();"
   ]
  },
  {
   "cell_type": "markdown",
   "metadata": {},
   "source": [
    "# Dataset Distribution Shift Detection Baselines"
   ]
  },
  {
   "cell_type": "code",
   "execution_count": 67,
   "metadata": {},
   "outputs": [
    {
     "name": "stderr",
     "output_type": "stream",
     "text": [
      "ic| len(gtsrb_normal_train_loader): 7120\n",
      "ic| len(gtsrb_normal_valid_loader): 3609\n",
      "ic| len(gtsrb_normal_test_loader): 1273\n",
      "ic| '========================================'\n",
      "ic| len(gtsrb_anomal_train_loader): 35600\n",
      "ic| len(gtsrb_anomal_valid_loader): 3609\n",
      "ic| len(gtsrb_anomal_test_loader): 1273\n",
      "ic| '========================================'\n",
      "ic| len(cifar10_train_loader): 40000\n",
      "ic| len(cifar10_valid_loader): 10000\n",
      "ic| len(cifar10_test_loader): 10000\n",
      "ic| '========================================'\n",
      "ic| len(stl10_train_loader): 2000\n",
      "ic| len(stl10_valid_loader): 3000\n",
      "ic| len(stl10_test_loader): 8000\n"
     ]
    }
   ],
   "source": [
    "ic(len(gtsrb_normal_train_loader));\n",
    "ic(len(gtsrb_normal_valid_loader));\n",
    "ic(len(gtsrb_normal_test_loader));\n",
    "ic(\"========================================\")\n",
    "ic(len(gtsrb_anomal_train_loader));\n",
    "ic(len(gtsrb_anomal_valid_loader));\n",
    "ic(len(gtsrb_anomal_test_loader));\n",
    "ic(\"========================================\")\n",
    "ic(len(cifar10_train_loader));\n",
    "ic(len(cifar10_valid_loader));\n",
    "ic(len(cifar10_test_loader));\n",
    "ic(\"========================================\")\n",
    "ic(len(stl10_train_loader));\n",
    "ic(len(stl10_valid_loader));\n",
    "ic(len(stl10_test_loader));"
   ]
  },
  {
   "cell_type": "markdown",
   "metadata": {},
   "source": [
    "## Predictive Uncertainty"
   ]
  },
  {
   "cell_type": "code",
   "execution_count": 100,
   "metadata": {},
   "outputs": [
    {
     "name": "stderr",
     "output_type": "stream",
     "text": [
      "ic| '================================'\n",
      "ic| gtsrb_mcd_model.model.dropout_layer: Dropout(p=0.3, inplace=False)\n",
      "ic| gtsrb_mcd_model.model.dropout_layer.p: 0.3\n",
      "ic| gtsrb_mcd_model.model.dropout_layer.training: False\n"
     ]
    }
   ],
   "source": [
    "ic(\"================================\");\n",
    "ic(gtsrb_mcd_model.model.dropout_layer);\n",
    "ic(gtsrb_mcd_model.model.dropout_layer.p);\n",
    "ic(gtsrb_mcd_model.model.dropout_layer.training);"
   ]
  },
  {
   "cell_type": "code",
   "execution_count": 101,
   "metadata": {},
   "outputs": [],
   "source": [
    "def resnet18_enable_dropout_test(m):\n",
    "    if type(m) == torch.nn.Dropout:\n",
    "        m.train()"
   ]
  },
  {
   "cell_type": "code",
   "execution_count": 102,
   "metadata": {},
   "outputs": [],
   "source": [
    "gtsrb_mcd_model.to(device);\n",
    "gtsrb_mcd_model.eval(); \n",
    "gtsrb_mcd_model.apply(resnet18_enable_dropout_test); # enable dropout"
   ]
  },
  {
   "cell_type": "code",
   "execution_count": 103,
   "metadata": {},
   "outputs": [
    {
     "name": "stderr",
     "output_type": "stream",
     "text": [
      "ic| '================================'\n",
      "ic| gtsrb_mcd_model.model.dropout_layer: Dropout(p=0.3, inplace=False)\n",
      "ic| gtsrb_mcd_model.model.dropout_layer.p: 0.3\n",
      "ic| "
     ]
    },
    {
     "name": "stderr",
     "output_type": "stream",
     "text": [
      "gtsrb_mcd_model.model.dropout_layer.training: True\n"
     ]
    }
   ],
   "source": [
    "ic(\"================================\");\n",
    "ic(gtsrb_mcd_model.model.dropout_layer);\n",
    "ic(gtsrb_mcd_model.model.dropout_layer.p);\n",
    "ic(gtsrb_mcd_model.model.dropout_layer.training);"
   ]
  },
  {
   "cell_type": "code",
   "execution_count": 104,
   "metadata": {},
   "outputs": [],
   "source": [
    "def get_mcd_pred_uncertainty_score(dnn_model: torch.nn.Module,\n",
    "                                   input_dataloader: DataLoader,\n",
    "                                   mcd_nro_samples: int = 2):\n",
    "    \n",
    "    softmax_fn = torch.nn.Softmax(dim=1)\n",
    "    \n",
    "    device = torch.device('cuda' if torch.cuda.is_available() else 'cpu')\n",
    "    \n",
    "    # gtsrb_model.to(device)\n",
    "    with torch.no_grad():\n",
    "        # dl_imgs_latent_mcd_samples = []\n",
    "        # dl_pred_mcd_samples = []\n",
    "        img_pred_mcd_samples = []\n",
    "        \n",
    "        for i, (image, label) in enumerate(input_dataloader):\n",
    "            image = image.to(device)\n",
    "            \n",
    "            for sample in range(mcd_nro_samples):\n",
    "                pred_img = dnn_model(image)      \n",
    "\n",
    "                img_pred_mcd_samples.append(pred_img)\n",
    "\n",
    "            img_pred_mcd_samples_t = torch.cat(img_pred_mcd_samples, dim=0)\n",
    "            # ic(img_pred_mcd_samples_t.shape)\n",
    "            \n",
    "            # compute softmax output - normalized output:\n",
    "            img_pred_softmax_mcd_samples_t = softmax_fn(img_pred_mcd_samples_t)\n",
    "            \n",
    "        dl_pred_mcd_samples = torch.split(img_pred_softmax_mcd_samples_t, mcd_nro_samples)\n",
    "        # Get dataloader mcd predictions:\n",
    "        dl_pred_mcd_samples_t = torch.stack(dl_pred_mcd_samples)\n",
    "        \n",
    "        # get predictive entropy:\n",
    "        expect_preds = torch.mean(dl_pred_mcd_samples_t, dim=1)\n",
    "        pred_h_t = -torch.sum((expect_preds * torch.log(expect_preds)), dim=1)\n",
    "        # get expected entropy:\n",
    "        preds_h = -torch.sum(dl_pred_mcd_samples_t * torch.log(dl_pred_mcd_samples_t), dim=-1)\n",
    "        expected_h_preds_t = torch.mean(preds_h, dim=1)\n",
    "        # get mutual information:\n",
    "        mi_t = pred_h_t - expected_h_preds_t\n",
    "       \n",
    "    \n",
    "    return dl_pred_mcd_samples_t, pred_h_t, mi_t\n"
   ]
  },
  {
   "cell_type": "code",
   "execution_count": 105,
   "metadata": {},
   "outputs": [],
   "source": [
    "dl_gtsrb_test_preds, dl_gtsrb_test_pred_h, dl_gtsrb_test_mi = get_mcd_pred_uncertainty_score(dnn_model=gtsrb_mcd_model.model, \n",
    "                                                                                             input_dataloader=gtsrb_normal_test_loader,\n",
    "                                                                                             mcd_nro_samples=16)"
   ]
  },
  {
   "cell_type": "code",
   "execution_count": 106,
   "metadata": {},
   "outputs": [],
   "source": [
    "dl_gtsrb_anomal_test_preds, dl_gtsrb_anomal_test_pred_h, dl_gtsrb_anomal_test_mi = get_mcd_pred_uncertainty_score(dnn_model=gtsrb_mcd_model.model, \n",
    "                                                                                                                  input_dataloader=gtsrb_anomal_test_loader,\n",
    "                                                                                                                  mcd_nro_samples=16)"
   ]
  },
  {
   "cell_type": "code",
   "execution_count": 107,
   "metadata": {},
   "outputs": [],
   "source": [
    "dl_cifar10_test_preds, dl_cifar10_test_pred_h, dl_cifar10_test_mi = get_mcd_pred_uncertainty_score(dnn_model=gtsrb_mcd_model.model, \n",
    "                                                                                                   input_dataloader=cifar10_test_loader,\n",
    "                                                                                                   mcd_nro_samples=16)"
   ]
  },
  {
   "cell_type": "code",
   "execution_count": 108,
   "metadata": {},
   "outputs": [],
   "source": [
    "dl_stl10_test_preds, dl_stl10_test_pred_h, dl_stl10_test_mi = get_mcd_pred_uncertainty_score(dnn_model=gtsrb_mcd_model.model, \n",
    "                                                                                             input_dataloader=stl10_test_loader,\n",
    "                                                                                             mcd_nro_samples=16)"
   ]
  },
  {
   "cell_type": "code",
   "execution_count": 109,
   "metadata": {},
   "outputs": [],
   "source": [
    "dl_gtsrb_valid_preds, dl_gtsrb_valid_pred_h, dl_gtsrb_valid_mi = get_mcd_pred_uncertainty_score(dnn_model=gtsrb_mcd_model.model, \n",
    "                                                                                                input_dataloader=gtsrb_normal_valid_loader,\n",
    "                                                                                                mcd_nro_samples=16)"
   ]
  },
  {
   "cell_type": "code",
   "execution_count": 110,
   "metadata": {},
   "outputs": [],
   "source": [
    "dl_gtsrb_anomal_valid_preds, dl_gtsrb_anomal_valid_pred_h, dl_gtsrb_anomal_valid_mi = get_mcd_pred_uncertainty_score(dnn_model=gtsrb_mcd_model.model, \n",
    "                                                                                                                     input_dataloader=gtsrb_anomal_valid_loader,\n",
    "                                                                                                                     mcd_nro_samples=16)"
   ]
  },
  {
   "cell_type": "code",
   "execution_count": 111,
   "metadata": {},
   "outputs": [],
   "source": [
    "dl_cifar10_valid_preds, dl_cifar10_valid_pred_h, dl_cifar10_valid_mi = get_mcd_pred_uncertainty_score(dnn_model=gtsrb_mcd_model.model, \n",
    "                                                                                                      input_dataloader=cifar10_valid_loader,\n",
    "                                                                                                      mcd_nro_samples=16)"
   ]
  },
  {
   "cell_type": "code",
   "execution_count": 112,
   "metadata": {},
   "outputs": [],
   "source": [
    "dl_stl10_valid_preds, dl_stl10_valid_pred_h, dl_stl10_valid_mi = get_mcd_pred_uncertainty_score(dnn_model=gtsrb_mcd_model.model, \n",
    "                                                                                                input_dataloader=stl10_valid_loader,\n",
    "                                                                                                mcd_nro_samples=16)"
   ]
  },
  {
   "cell_type": "code",
   "execution_count": 132,
   "metadata": {},
   "outputs": [],
   "source": [
    "torch.save(dl_gtsrb_valid_preds,\n",
    "           predicted_uncertainty_path + 'dl_gtsrb_valid_preds.pt')\n",
    "torch.save(dl_gtsrb_valid_pred_h,\n",
    "           predicted_uncertainty_path + 'dl_gtsrb_valid_pred_h.pt')\n",
    "torch.save(dl_gtsrb_valid_mi,\n",
    "           predicted_uncertainty_path + 'dl_gtsrb_valid_mi.pt')\n",
    "\n",
    "\n",
    "torch.save(dl_gtsrb_anomal_valid_preds,\n",
    "           predicted_uncertainty_path + 'dl_gtsrb_anomal_valid_preds.pt')\n",
    "torch.save(dl_gtsrb_anomal_valid_pred_h,\n",
    "           predicted_uncertainty_path + 'dl_gtsrb_anomal_valid_pred_h.pt')\n",
    "torch.save(dl_gtsrb_anomal_valid_mi,\n",
    "           predicted_uncertainty_path + 'dl_gtsrb_anomal_valid_mi.pt')\n",
    "\n",
    "\n",
    "torch.save(dl_cifar10_valid_preds,\n",
    "           predicted_uncertainty_path + 'dl_cifar10_valid_preds.pt')\n",
    "torch.save(dl_cifar10_valid_pred_h,\n",
    "           predicted_uncertainty_path + 'dl_cifar10_valid_pred_h.pt')\n",
    "torch.save(dl_cifar10_valid_mi,\n",
    "           predicted_uncertainty_path + 'dl_cifar10_valid_mi.pt')\n",
    "\n",
    "\n",
    "torch.save(dl_stl10_valid_preds,\n",
    "           predicted_uncertainty_path + 'dl_stl10_valid_preds.pt')\n",
    "torch.save(dl_stl10_valid_pred_h,\n",
    "           predicted_uncertainty_path + 'dl_stl10_valid_pred_h.pt')\n",
    "torch.save(dl_stl10_valid_mi,\n",
    "           predicted_uncertainty_path + 'dl_stl10_valid_mi.pt')"
   ]
  },
  {
   "cell_type": "code",
   "execution_count": 133,
   "metadata": {},
   "outputs": [],
   "source": [
    "torch.save(dl_gtsrb_test_preds,\n",
    "           predicted_uncertainty_path + 'dl_gtsrb_test_preds.pt')\n",
    "torch.save(dl_gtsrb_test_pred_h,\n",
    "           predicted_uncertainty_path + 'dl_gtsrb_test_pred_h.pt')\n",
    "torch.save(dl_gtsrb_test_mi,\n",
    "           predicted_uncertainty_path + 'dl_gtsrb_test_mi.pt')\n",
    "\n",
    "\n",
    "torch.save(dl_gtsrb_anomal_test_preds,\n",
    "           predicted_uncertainty_path + 'dl_gtsrb_anomal_test_preds.pt')\n",
    "torch.save(dl_gtsrb_anomal_test_pred_h,\n",
    "           predicted_uncertainty_path + 'dl_gtsrb_anomal_test_pred_h.pt')\n",
    "torch.save(dl_gtsrb_anomal_test_mi,\n",
    "           predicted_uncertainty_path + 'dl_gtsrb_anomal_test_mi.pt')\n",
    "\n",
    "\n",
    "torch.save(dl_cifar10_test_preds,\n",
    "           predicted_uncertainty_path + 'dl_cifar10_test_preds.pt')\n",
    "torch.save(dl_cifar10_test_pred_h,\n",
    "           predicted_uncertainty_path + 'dl_cifar10_test_pred_h.pt')\n",
    "torch.save(dl_cifar10_test_mi,\n",
    "           predicted_uncertainty_path + 'dl_cifar10_test_mi.pt')\n",
    "\n",
    "\n",
    "torch.save(dl_stl10_test_preds,\n",
    "           predicted_uncertainty_path + 'dl_stl10_test_preds.pt')\n",
    "torch.save(dl_stl10_test_pred_h,\n",
    "           predicted_uncertainty_path + 'dl_stl10_test_pred_h.pt')\n",
    "torch.save(dl_stl10_test_mi,\n",
    "           predicted_uncertainty_path + 'dl_stl10_test_mi.pt')"
   ]
  },
  {
   "cell_type": "code",
   "execution_count": 216,
   "metadata": {},
   "outputs": [
    {
     "name": "stderr",
     "output_type": "stream",
     "text": [
      "ic| dl_gtsrb_test_pred_h.shape: torch.Size([1273])\n"
     ]
    },
    {
     "name": "stderr",
     "output_type": "stream",
     "text": [
      "ic| dl_gtsrb_test_mi.shape: torch.Size([1273])\n",
      "ic| '================================================================'\n",
      "ic| dl_gtsrb_anomal_test_pred_h.shape: torch.Size([1273])\n",
      "ic| dl_gtsrb_anomal_test_mi.shape: torch.Size([1273])\n",
      "ic| '================================================================'\n",
      "ic| dl_cifar10_test_pred_h.shape: torch.Size([10000])\n",
      "ic| dl_cifar10_test_mi.shape: torch.Size([10000])\n",
      "ic| '================================================================'\n",
      "ic| dl_stl10_test_pred_h.shape: torch.Size([8000])\n",
      "ic| dl_stl10_test_mi.shape: torch.Size([8000])\n"
     ]
    }
   ],
   "source": [
    "ic(dl_gtsrb_test_pred_h.shape);\n",
    "ic(dl_gtsrb_test_mi.shape);\n",
    "ic(\"================================================================\");\n",
    "ic(dl_gtsrb_anomal_test_pred_h.shape);\n",
    "ic(dl_gtsrb_anomal_test_mi.shape);\n",
    "ic(\"================================================================\");\n",
    "ic(dl_cifar10_test_pred_h.shape);\n",
    "ic(dl_cifar10_test_mi.shape);\n",
    "ic(\"================================================================\");\n",
    "ic(dl_stl10_test_pred_h.shape);\n",
    "ic(dl_stl10_test_mi.shape);"
   ]
  },
  {
   "cell_type": "code",
   "execution_count": 134,
   "metadata": {},
   "outputs": [
    {
     "name": "stderr",
     "output_type": "stream",
     "text": [
      "ic| ind_gtsrb_test_pred_h_score.shape: (1273,)\n",
      "ic| ind_gtsrb_test_mi_score.shape: (1273,)\n",
      "ic| ood_gtsrb_anomal_test_pred_h_score.shape: (1273,)\n"
     ]
    },
    {
     "name": "stderr",
     "output_type": "stream",
     "text": [
      "ic| ood_gtsrb_anomal_test_mi_score.shape: (1273,)\n",
      "ic| ood_cifar10_test_pred_h_score.shape: (10000,)\n",
      "ic| ood_cifar10_test_mi_score.shape: (10000,)\n",
      "ic| ood_stl10_test_pred_h_score.shape: (8000,)\n",
      "ic| ood_stl10_test_mi_score.shape: (8000,)\n"
     ]
    }
   ],
   "source": [
    "ind_gtsrb_test_pred_h_score = dl_gtsrb_test_pred_h.cpu().numpy()\n",
    "ind_gtsrb_test_mi_score = dl_gtsrb_test_mi.cpu().numpy()\n",
    "ic(ind_gtsrb_test_pred_h_score.shape);\n",
    "ic(ind_gtsrb_test_mi_score.shape);\n",
    "\n",
    "ood_gtsrb_anomal_test_pred_h_score = dl_gtsrb_anomal_test_pred_h.cpu().numpy()\n",
    "ood_gtsrb_anomal_test_mi_score = dl_gtsrb_anomal_test_mi.cpu().numpy()\n",
    "ic(ood_gtsrb_anomal_test_pred_h_score.shape);\n",
    "ic(ood_gtsrb_anomal_test_mi_score.shape);\n",
    "\n",
    "ood_cifar10_test_pred_h_score = dl_cifar10_test_pred_h.cpu().numpy()\n",
    "ood_cifar10_test_mi_score = dl_cifar10_test_mi.cpu().numpy()\n",
    "ic(ood_cifar10_test_pred_h_score.shape);\n",
    "ic(ood_cifar10_test_mi_score.shape);\n",
    "\n",
    "ood_stl10_test_pred_h_score = dl_stl10_test_pred_h.cpu().numpy()\n",
    "ood_stl10_test_mi_score = dl_stl10_test_mi.cpu().numpy()\n",
    "ic(ood_stl10_test_pred_h_score.shape);\n",
    "ic(ood_stl10_test_mi_score.shape);"
   ]
  },
  {
   "cell_type": "code",
   "execution_count": 135,
   "metadata": {},
   "outputs": [
    {
     "name": "stderr",
     "output_type": "stream",
     "text": [
      "ic| ind_gtsrb_valid_pred_h_score.shape: (3609,)\n",
      "ic| ind_gtsrb_valid_mi_score.shape: (3609,)\n",
      "ic| ood_gtsrb_anomal_valid_pred_h_score.shape: (3609,)\n",
      "ic| ood_gtsrb_anomal_valid_mi_score.shape: (3609,)\n",
      "ic| ood_cifar10_valid_pred_h_score.shape: (10000,)\n",
      "ic| ood_cifar10_valid_mi_score.shape: (10000,)\n"
     ]
    },
    {
     "name": "stderr",
     "output_type": "stream",
     "text": [
      "ic| ood_stl10_valid_pred_h_score.shape: (3000,)\n",
      "ic| ood_stl10_valid_mi_score.shape: (3000,)\n"
     ]
    }
   ],
   "source": [
    "ind_gtsrb_valid_pred_h_score = dl_gtsrb_valid_pred_h.cpu().numpy()\n",
    "ind_gtsrb_valid_mi_score = dl_gtsrb_valid_mi.cpu().numpy()\n",
    "ic(ind_gtsrb_valid_pred_h_score.shape);\n",
    "ic(ind_gtsrb_valid_mi_score.shape);\n",
    "\n",
    "ood_gtsrb_anomal_valid_pred_h_score = dl_gtsrb_anomal_valid_pred_h.cpu().numpy()\n",
    "ood_gtsrb_anomal_valid_mi_score = dl_gtsrb_anomal_valid_mi.cpu().numpy()\n",
    "ic(ood_gtsrb_anomal_valid_pred_h_score.shape);\n",
    "ic(ood_gtsrb_anomal_valid_mi_score.shape);\n",
    "\n",
    "ood_cifar10_valid_pred_h_score = dl_cifar10_valid_pred_h.cpu().numpy()\n",
    "ood_cifar10_valid_mi_score = dl_cifar10_valid_mi.cpu().numpy()\n",
    "ic(ood_cifar10_valid_pred_h_score.shape);\n",
    "ic(ood_cifar10_valid_mi_score.shape);\n",
    "\n",
    "ood_stl10_valid_pred_h_score = dl_stl10_valid_pred_h.cpu().numpy()\n",
    "ood_stl10_valid_mi_score = dl_stl10_valid_mi.cpu().numpy()\n",
    "ic(ood_stl10_valid_pred_h_score.shape);\n",
    "ic(ood_stl10_valid_mi_score.shape);"
   ]
  },
  {
   "cell_type": "code",
   "execution_count": 136,
   "metadata": {},
   "outputs": [],
   "source": [
    "ind_gtsrb_pred_h_score = np.concatenate((ind_gtsrb_valid_pred_h_score, ind_gtsrb_test_pred_h_score))\n",
    "ind_gtsrb_pred_mi_score = np.concatenate((ind_gtsrb_valid_mi_score, ind_gtsrb_test_mi_score))\n",
    "\n",
    "ood_gtsrb_anomal_pred_h_score = np.concatenate((ood_gtsrb_anomal_valid_pred_h_score, ood_gtsrb_anomal_test_pred_h_score))\n",
    "ood_gtsrb_anomal_pred_mi_score = np.concatenate((ood_gtsrb_anomal_valid_mi_score, ood_gtsrb_anomal_test_mi_score))\n",
    "\n",
    "ood_cifar10_pred_h_score = np.concatenate((ood_cifar10_valid_pred_h_score, ood_cifar10_test_pred_h_score))\n",
    "ood_cifar10_pred_mi_score = np.concatenate((ood_cifar10_valid_mi_score, ood_cifar10_test_mi_score))\n",
    "\n",
    "ood_stl10_pred_h_score = np.concatenate((ood_stl10_valid_pred_h_score, ood_stl10_test_pred_h_score))\n",
    "ood_stl10_pred_mi_score = np.concatenate((ood_stl10_valid_mi_score, ood_stl10_test_mi_score))\n"
   ]
  },
  {
   "cell_type": "markdown",
   "metadata": {},
   "source": [
    "### Plot Score Values Predictive Entropy"
   ]
  },
  {
   "cell_type": "code",
   "execution_count": 137,
   "metadata": {},
   "outputs": [],
   "source": [
    "df_pred_h_scores_gtsrb = pd.DataFrame(ind_gtsrb_pred_h_score, columns=[\"Predictive H score\"])\n",
    "df_pred_h_scores_gtsrb_anomal = pd.DataFrame(ood_gtsrb_anomal_pred_h_score, columns=[\"Predictive H score\"])\n",
    "df_pred_h_scores_stl10 = pd.DataFrame(ood_stl10_pred_h_score, columns=[\"Predictive H score\"])\n",
    "df_pred_h_scores_cifar10 = pd.DataFrame(ood_cifar10_pred_h_score, columns=[\"Predictive H score\"])\n",
    "\n",
    "df_pred_h_scores_gtsrb.insert(0, \"Dataset\", \"\")\n",
    "df_pred_h_scores_gtsrb.loc[:, \"Dataset\"] = \"gtsrb\"\n",
    "\n",
    "df_pred_h_scores_gtsrb_anomal.insert(0, \"Dataset\", \"\")\n",
    "df_pred_h_scores_gtsrb_anomal.loc[:, \"Dataset\"] = \"gtsrb-anomal\"\n",
    "\n",
    "df_pred_h_scores_stl10.insert(0, \"Dataset\", \"\")\n",
    "df_pred_h_scores_stl10.loc[:, \"Dataset\"] = \"stl10\"\n",
    "\n",
    "df_pred_h_scores_cifar10.insert(0, \"Dataset\", \"\")\n",
    "df_pred_h_scores_cifar10.loc[:, \"Dataset\"] = \"cifar10\""
   ]
  },
  {
   "cell_type": "code",
   "execution_count": 138,
   "metadata": {},
   "outputs": [
    {
     "data": {
      "image/png": "[encoded data removed]",
      "text/plain": [
       "<Figure size 642.875x500 with 1 Axes>"
      ]
     },
     "metadata": {},
     "output_type": "display_data"
    }
   ],
   "source": [
    "df_pred_h_scores = pd.concat([df_pred_h_scores_gtsrb,\n",
    "                              df_pred_h_scores_gtsrb_anomal,\n",
    "                              df_pred_h_scores_stl10,\n",
    "                              df_pred_h_scores_cifar10]).reset_index(drop=True)\n",
    "\n",
    "sns.displot(df_pred_h_scores, x=\"Predictive H score\", hue=\"Dataset\", kind=\"hist\", fill=True)\n",
    "plt.show()"
   ]
  },
  {
   "cell_type": "code",
   "execution_count": 139,
   "metadata": {},
   "outputs": [
    {
     "data": {
      "image/png": "[encoded data removed]",
      "text/plain": [
       "<Figure size 642.875x500 with 1 Axes>"
      ]
     },
     "metadata": {},
     "output_type": "display_data"
    }
   ],
   "source": [
    "df_pred_h_scores = pd.concat([df_pred_h_scores_gtsrb,\n",
    "                              df_pred_h_scores_gtsrb_anomal]).reset_index(drop=True)\n",
    "\n",
    "sns.displot(df_pred_h_scores, x=\"Predictive H score\", hue=\"Dataset\", kind=\"hist\", fill=True)\n",
    "plt.show()"
   ]
  },
  {
   "cell_type": "markdown",
   "metadata": {},
   "source": [
    "### Plot Score values Predictive MI"
   ]
  },
  {
   "cell_type": "code",
   "execution_count": 140,
   "metadata": {},
   "outputs": [],
   "source": [
    "df_mi_scores_gtsrb = pd.DataFrame(ind_gtsrb_pred_mi_score, columns=[\"Predictive MI score\"])\n",
    "df_mi_scores_gtsrb_anomal = pd.DataFrame(ood_gtsrb_anomal_pred_mi_score, columns=[\"Predictive MI score\"])\n",
    "df_mi_scores_stl10 = pd.DataFrame(ood_stl10_pred_mi_score, columns=[\"Predictive MI score\"])\n",
    "df_mi_scores_cifar10 = pd.DataFrame(ood_cifar10_pred_mi_score, columns=[\"Predictive MI score\"])\n",
    "\n",
    "df_mi_scores_gtsrb.insert(0, \"Dataset\", \"\")\n",
    "df_mi_scores_gtsrb.loc[:, \"Dataset\"] = \"gtsrb\"\n",
    "\n",
    "df_mi_scores_gtsrb_anomal.insert(0, \"Dataset\", \"\")\n",
    "df_mi_scores_gtsrb_anomal.loc[:, \"Dataset\"] = \"gtsrb-anomal\"\n",
    "\n",
    "df_mi_scores_stl10.insert(0, \"Dataset\", \"\")\n",
    "df_mi_scores_stl10.loc[:, \"Dataset\"] = \"stl10\"\n",
    "\n",
    "df_mi_scores_cifar10.insert(0, \"Dataset\", \"\")\n",
    "df_mi_scores_cifar10.loc[:, \"Dataset\"] = \"cifar10\""
   ]
  },
  {
   "cell_type": "code",
   "execution_count": 141,
   "metadata": {},
   "outputs": [
    {
     "data": {
      "image/png": "[encoded data removed]",
      "text/plain": [
       "<Figure size 642.875x500 with 1 Axes>"
      ]
     },
     "metadata": {},
     "output_type": "display_data"
    }
   ],
   "source": [
    "df_pred_mi_scores = pd.concat([df_mi_scores_gtsrb,\n",
    "                               df_mi_scores_gtsrb_anomal,\n",
    "                               df_mi_scores_stl10,\n",
    "                               df_mi_scores_cifar10]).reset_index(drop=True)\n",
    "\n",
    "sns.displot(df_pred_mi_scores, x=\"Predictive MI score\", hue=\"Dataset\", kind=\"hist\", fill=True)\n",
    "plt.show()"
   ]
  },
  {
   "cell_type": "code",
   "execution_count": 143,
   "metadata": {},
   "outputs": [
    {
     "data": {
      "image/png": "[encoded data removed]",
      "text/plain": [
       "<Figure size 642.875x500 with 1 Axes>"
      ]
     },
     "metadata": {},
     "output_type": "display_data"
    }
   ],
   "source": [
    "df_pred_mi_scores = pd.concat([df_mi_scores_gtsrb,\n",
    "                               df_mi_scores_gtsrb_anomal]).reset_index(drop=True)\n",
    "\n",
    "sns.displot(df_pred_mi_scores, x=\"Predictive MI score\", hue=\"Dataset\", kind=\"hist\", fill=True)\n",
    "plt.show()"
   ]
  },
  {
   "cell_type": "code",
   "execution_count": null,
   "metadata": {},
   "outputs": [],
   "source": []
  },
  {
   "cell_type": "markdown",
   "metadata": {},
   "source": [
    "### Plot Score Values Predictive Entropy (test split)"
   ]
  },
  {
   "cell_type": "code",
   "execution_count": 144,
   "metadata": {},
   "outputs": [],
   "source": [
    "df_pred_h_scores_gtsrb = pd.DataFrame(ind_gtsrb_test_pred_h_score, columns=[\"Predictive H score\"])\n",
    "df_pred_h_scores_gtsrb_anomal = pd.DataFrame(ood_gtsrb_anomal_test_pred_h_score, columns=[\"Predictive H score\"])\n",
    "df_pred_h_scores_stl10 = pd.DataFrame(ood_stl10_test_pred_h_score, columns=[\"Predictive H score\"])\n",
    "df_pred_h_scores_cifar10 = pd.DataFrame(ood_cifar10_test_pred_h_score, columns=[\"Predictive H score\"])\n",
    "\n",
    "df_pred_h_scores_gtsrb.insert(0, \"Dataset\", \"\")\n",
    "df_pred_h_scores_gtsrb.loc[:, \"Dataset\"] = \"gtsrb\"\n",
    "\n",
    "df_pred_h_scores_gtsrb_anomal.insert(0, \"Dataset\", \"\")\n",
    "df_pred_h_scores_gtsrb_anomal.loc[:, \"Dataset\"] = \"gtsrb-anomal\"\n",
    "\n",
    "df_pred_h_scores_stl10.insert(0, \"Dataset\", \"\")\n",
    "df_pred_h_scores_stl10.loc[:, \"Dataset\"] = \"stl10\"\n",
    "\n",
    "df_pred_h_scores_cifar10.insert(0, \"Dataset\", \"\")\n",
    "df_pred_h_scores_cifar10.loc[:, \"Dataset\"] = \"cifar10\""
   ]
  },
  {
   "cell_type": "code",
   "execution_count": 145,
   "metadata": {},
   "outputs": [
    {
     "data": {
      "image/png": "[encoded data removed]",
      "text/plain": [
       "<Figure size 642.875x500 with 1 Axes>"
      ]
     },
     "metadata": {},
     "output_type": "display_data"
    }
   ],
   "source": [
    "df_pred_h_scores = pd.concat([df_pred_h_scores_gtsrb,\n",
    "                              df_pred_h_scores_gtsrb_anomal,\n",
    "                              df_pred_h_scores_stl10,\n",
    "                              df_pred_h_scores_cifar10]).reset_index(drop=True)\n",
    "\n",
    "sns.displot(df_pred_h_scores, x=\"Predictive H score\", hue=\"Dataset\", kind=\"hist\", fill=True)\n",
    "plt.show()"
   ]
  },
  {
   "cell_type": "code",
   "execution_count": 146,
   "metadata": {},
   "outputs": [
    {
     "data": {
      "image/png": "[encoded data removed]",
      "text/plain": [
       "<Figure size 642.875x500 with 1 Axes>"
      ]
     },
     "metadata": {},
     "output_type": "display_data"
    }
   ],
   "source": [
    "df_pred_h_scores = pd.concat([df_pred_h_scores_gtsrb,\n",
    "                              df_pred_h_scores_gtsrb_anomal]).reset_index(drop=True)\n",
    "\n",
    "sns.displot(df_pred_h_scores, x=\"Predictive H score\", hue=\"Dataset\", kind=\"hist\", fill=True)\n",
    "plt.show()"
   ]
  },
  {
   "cell_type": "markdown",
   "metadata": {},
   "source": [
    "### Plot Score values Predictive MI (test split)"
   ]
  },
  {
   "cell_type": "code",
   "execution_count": 147,
   "metadata": {},
   "outputs": [],
   "source": [
    "df_mi_scores_gtsrb = pd.DataFrame(ind_gtsrb_test_mi_score, columns=[\"Predictive MI score\"])\n",
    "df_mi_scores_gtsrb_anomal = pd.DataFrame(ood_gtsrb_anomal_test_mi_score, columns=[\"Predictive MI score\"])\n",
    "df_mi_scores_stl10 = pd.DataFrame(ood_stl10_test_mi_score, columns=[\"Predictive MI score\"])\n",
    "df_mi_scores_cifar10 = pd.DataFrame(ood_cifar10_test_mi_score, columns=[\"Predictive MI score\"])\n",
    "\n",
    "df_mi_scores_gtsrb.insert(0, \"Dataset\", \"\")\n",
    "df_mi_scores_gtsrb.loc[:, \"Dataset\"] = \"gtsrb\"\n",
    "\n",
    "df_mi_scores_gtsrb_anomal.insert(0, \"Dataset\", \"\")\n",
    "df_mi_scores_gtsrb_anomal.loc[:, \"Dataset\"] = \"gtsrb-anomal\"\n",
    "\n",
    "df_mi_scores_stl10.insert(0, \"Dataset\", \"\")\n",
    "df_mi_scores_stl10.loc[:, \"Dataset\"] = \"stl10\"\n",
    "\n",
    "df_mi_scores_cifar10.insert(0, \"Dataset\", \"\")\n",
    "df_mi_scores_cifar10.loc[:, \"Dataset\"] = \"cifar10\""
   ]
  },
  {
   "cell_type": "code",
   "execution_count": 148,
   "metadata": {},
   "outputs": [
    {
     "data": {
      "image/png": "[encoded data removed]",
      "text/plain": [
       "<Figure size 642.875x500 with 1 Axes>"
      ]
     },
     "metadata": {},
     "output_type": "display_data"
    }
   ],
   "source": [
    "df_pred_mi_scores = pd.concat([df_mi_scores_gtsrb,\n",
    "                               df_mi_scores_gtsrb_anomal,\n",
    "                               df_mi_scores_stl10,\n",
    "                               df_mi_scores_cifar10]).reset_index(drop=True)\n",
    "\n",
    "sns.displot(df_pred_mi_scores, x=\"Predictive MI score\", hue=\"Dataset\", kind=\"hist\", fill=True)\n",
    "plt.show()"
   ]
  },
  {
   "cell_type": "code",
   "execution_count": 149,
   "metadata": {},
   "outputs": [
    {
     "data": {
      "image/png": "[encoded data removed]",
      "text/plain": [
       "<Figure size 642.875x500 with 1 Axes>"
      ]
     },
     "metadata": {},
     "output_type": "display_data"
    }
   ],
   "source": [
    "df_pred_mi_scores = pd.concat([df_mi_scores_gtsrb,\n",
    "                               df_mi_scores_gtsrb_anomal]).reset_index(drop=True)\n",
    "\n",
    "sns.displot(df_pred_mi_scores, x=\"Predictive MI score\", hue=\"Dataset\", kind=\"hist\", fill=True)\n",
    "plt.show()"
   ]
  },
  {
   "cell_type": "markdown",
   "metadata": {},
   "source": [
    "### GTSRB vs GTSRB-Anomalies"
   ]
  },
  {
   "cell_type": "markdown",
   "metadata": {},
   "source": [
    "We use negative uncertainty scores for to align with the convention that positive (in-distribution) samples have higher scores (see plots above)"
   ]
  },
  {
   "cell_type": "code",
   "execution_count": 150,
   "metadata": {},
   "outputs": [
    {
     "name": "stdout",
     "output_type": "stream",
     "text": [
      "Test InD shape (4882,)\n",
      "Test OoD shape (4882,)\n",
      "AUROC: 0.8634\n",
      "FPR95: 0.3611\n",
      "AUPR: 0.7955\n"
     ]
    }
   ],
   "source": [
    "print(\"Test InD shape\", ind_gtsrb_pred_h_score.shape);\n",
    "print(\"Test OoD shape\", ood_gtsrb_anomal_pred_h_score.shape);\n",
    "\n",
    "results_pred_h_gtsrb_anomaly_test = get_hz_detector_results(detect_exp_name=\"predictive h: gtsrb vs. gtsrb_anomaly\",\n",
    "                                                            ind_samples_scores=-ind_gtsrb_pred_h_score,\n",
    "                                                            ood_samples_scores=-ood_gtsrb_anomal_pred_h_score)"
   ]
  },
  {
   "cell_type": "code",
   "execution_count": 151,
   "metadata": {},
   "outputs": [
    {
     "name": "stdout",
     "output_type": "stream",
     "text": [
      "Test InD shape (4882,)\n",
      "Test OoD shape (4882,)\n",
      "AUROC: 0.8457\n",
      "FPR95: 0.4222\n",
      "AUPR: 0.7803\n"
     ]
    }
   ],
   "source": [
    "print(\"Test InD shape\", ind_gtsrb_pred_mi_score.shape);\n",
    "print(\"Test OoD shape\", ood_gtsrb_anomal_pred_mi_score.shape);\n",
    "\n",
    "results_pred_mi_gtsrb_anomaly_test = get_hz_detector_results(detect_exp_name=\"predictive mi: gtsrb vs. gtsrb_anomaly\",\n",
    "                                                             ind_samples_scores=-ind_gtsrb_pred_mi_score,\n",
    "                                                             ood_samples_scores=-ood_gtsrb_anomal_pred_mi_score)"
   ]
  },
  {
   "cell_type": "markdown",
   "metadata": {},
   "source": [
    "### GTSRB vs CIFAR-10"
   ]
  },
  {
   "cell_type": "markdown",
   "metadata": {},
   "source": [
    "We use negative uncertainty scores for to align with the convention that positive (in-distribution) samples have higher scores (see plots above)"
   ]
  },
  {
   "cell_type": "code",
   "execution_count": 152,
   "metadata": {},
   "outputs": [
    {
     "name": "stdout",
     "output_type": "stream",
     "text": [
      "Test InD shape (4882,)\n",
      "Test OoD shape (20000,)\n",
      "AUROC: 0.9798\n",
      "FPR95: 0.0732\n",
      "AUPR: 0.9263\n"
     ]
    }
   ],
   "source": [
    "print(\"Test InD shape\", ind_gtsrb_pred_h_score.shape);\n",
    "print(\"Test OoD shape\", ood_cifar10_pred_h_score.shape);\n",
    "\n",
    "results_pred_h_cifar10_test = get_hz_detector_results(detect_exp_name=\"predictive h: gtsrb vs. cifar10\",\n",
    "                                                      ind_samples_scores=-ind_gtsrb_pred_h_score,\n",
    "                                                      ood_samples_scores=-ood_cifar10_pred_h_score)"
   ]
  },
  {
   "cell_type": "code",
   "execution_count": 153,
   "metadata": {},
   "outputs": [
    {
     "name": "stdout",
     "output_type": "stream",
     "text": [
      "Test InD shape (4882,)\n",
      "Test OoD shape (20000,)\n",
      "AUROC: 0.9787\n",
      "FPR95: 0.0803\n",
      "AUPR: 0.9279\n"
     ]
    }
   ],
   "source": [
    "print(\"Test InD shape\", ind_gtsrb_pred_mi_score.shape);\n",
    "print(\"Test OoD shape\", ood_cifar10_pred_mi_score.shape);\n",
    "\n",
    "results_pred_mi_cifar10_test = get_hz_detector_results(detect_exp_name=\"predictive mi: gtsrb vs. cifar10\",\n",
    "                                                       ind_samples_scores=-ind_gtsrb_pred_mi_score,\n",
    "                                                       ood_samples_scores=-ood_cifar10_pred_mi_score)"
   ]
  },
  {
   "cell_type": "markdown",
   "metadata": {},
   "source": [
    "### GTSRB vs STL-10"
   ]
  },
  {
   "cell_type": "markdown",
   "metadata": {},
   "source": [
    "We use negative uncertainty scores for to align with the convention that positive (in-distribution) samples have higher scores (see plots above)"
   ]
  },
  {
   "cell_type": "code",
   "execution_count": 154,
   "metadata": {},
   "outputs": [
    {
     "name": "stdout",
     "output_type": "stream",
     "text": [
      "Test InD shape (4882,)\n",
      "Test OoD shape (11000,)\n",
      "AUROC: 0.9814\n",
      "FPR95: 0.0628\n",
      "AUPR: 0.9517\n"
     ]
    }
   ],
   "source": [
    "print(\"Test InD shape\", ind_gtsrb_pred_h_score.shape);\n",
    "print(\"Test OoD shape\", ood_stl10_pred_h_score.shape);\n",
    "\n",
    "results_pred_h_stl10_test = get_hz_detector_results(detect_exp_name=\"predictive h: gtsrb vs. stl10\",\n",
    "                                                      ind_samples_scores=-ind_gtsrb_pred_h_score,\n",
    "                                                      ood_samples_scores=-ood_stl10_pred_h_score)"
   ]
  },
  {
   "cell_type": "code",
   "execution_count": 155,
   "metadata": {},
   "outputs": [
    {
     "name": "stdout",
     "output_type": "stream",
     "text": [
      "Test InD shape (4882,)\n",
      "Test OoD shape (11000,)\n",
      "AUROC: 0.9842\n",
      "FPR95: 0.0562\n",
      "AUPR: 0.9601\n"
     ]
    }
   ],
   "source": [
    "print(\"Test InD shape\", ind_gtsrb_pred_mi_score.shape);\n",
    "print(\"Test OoD shape\", ood_stl10_pred_mi_score.shape);\n",
    "\n",
    "results_pred_mi_stl10_test = get_hz_detector_results(detect_exp_name=\"predictive mi: gtsrb vs. stl10\",\n",
    "                                                       ind_samples_scores=-ind_gtsrb_pred_mi_score,\n",
    "                                                       ood_samples_scores=-ood_stl10_pred_mi_score)"
   ]
  },
  {
   "cell_type": "markdown",
   "metadata": {},
   "source": [
    "## MSP Score"
   ]
  },
  {
   "cell_type": "code",
   "execution_count": 79,
   "metadata": {},
   "outputs": [],
   "source": [
    "gtsrb_det_model.to(device);\n",
    "gtsrb_det_model.eval(); "
   ]
  },
  {
   "cell_type": "code",
   "execution_count": 80,
   "metadata": {},
   "outputs": [],
   "source": [
    "def get_msp_score(dnn_model: torch.nn.Module,\n",
    "                  input_dataloader: DataLoader):\n",
    "    \n",
    "    softmax_fn = torch.nn.Softmax(dim=1)\n",
    "    \n",
    "    device = torch.device('cuda' if torch.cuda.is_available() else 'cpu')\n",
    "    # gtsrb_model.to(device)\n",
    "    dl_preds = []\n",
    "    dl_preds_msp_scores = []\n",
    "\n",
    "    with torch.no_grad():\n",
    "        \n",
    "        for i, (image, label) in enumerate(input_dataloader):\n",
    "            image = image.to(device)\n",
    "            pred_logits = dnn_model(image)\n",
    "                                    \n",
    "            pred_score = torch.max(softmax_fn(pred_logits), dim=1)\n",
    "            # ic(pred_score.shape)\n",
    "            # get the max values:\n",
    "            dl_preds_msp_scores.append(pred_score[0])\n",
    "        \n",
    "        dl_preds_msp_scores_t = torch.cat(dl_preds_msp_scores, dim=0)\n",
    "        # ic(dl_preds_msp_scores_t.shape)\n",
    "        # pred = np.max(softmax_fn(pred_logits).detach().cpu().numpy(), axis=1)\n",
    "        dl_preds_msp_scores = dl_preds_msp_scores_t.detach().cpu().numpy()\n",
    "        \n",
    "    return dl_preds_msp_scores"
   ]
  },
  {
   "cell_type": "code",
   "execution_count": 81,
   "metadata": {},
   "outputs": [],
   "source": [
    "ind_gtsrb_test_pred_msp_score = get_msp_score(dnn_model=gtsrb_det_model.model, input_dataloader=gtsrb_normal_test_loader)\n",
    "ood_gtsrb_anomal_test_pred_msp_score = get_msp_score(dnn_model=gtsrb_det_model.model, input_dataloader=gtsrb_anomal_test_loader)\n",
    "ood_cifar10_test_pred_msp_score = get_msp_score(dnn_model=gtsrb_det_model.model, input_dataloader=cifar10_test_loader)\n",
    "ood_stl10_test_pred_msp_score = get_msp_score(dnn_model=gtsrb_det_model.model, input_dataloader=stl10_test_loader)"
   ]
  },
  {
   "cell_type": "code",
   "execution_count": 82,
   "metadata": {},
   "outputs": [],
   "source": [
    "ind_gtsrb_valid_pred_msp_score = get_msp_score(dnn_model=gtsrb_det_model.model, input_dataloader=gtsrb_normal_valid_loader)\n",
    "ood_gtsrb_anomal_valid_pred_msp_score = get_msp_score(dnn_model=gtsrb_det_model.model, input_dataloader=gtsrb_anomal_valid_loader)\n",
    "ood_cifar10_valid_pred_msp_score = get_msp_score(dnn_model=gtsrb_det_model.model, input_dataloader=cifar10_valid_loader)\n",
    "ood_stl10_valid_pred_msp_score = get_msp_score(dnn_model=gtsrb_det_model.model, input_dataloader=stl10_valid_loader)"
   ]
  },
  {
   "cell_type": "code",
   "execution_count": 83,
   "metadata": {},
   "outputs": [],
   "source": [
    "ind_gtsrb_pred_msp_score = np.concatenate((ind_gtsrb_valid_pred_msp_score, ind_gtsrb_test_pred_msp_score))\n",
    "ood_gtsrb_anomal_pred_msp_score = np.concatenate((ood_gtsrb_anomal_valid_pred_msp_score, ood_gtsrb_anomal_test_pred_msp_score))\n",
    "ood_cifar10_pred_msp_score = np.concatenate((ood_cifar10_valid_pred_msp_score, ood_cifar10_test_pred_msp_score))\n",
    "ood_stl10_pred_msp_score = np.concatenate((ood_stl10_valid_pred_msp_score, ood_stl10_test_pred_msp_score))"
   ]
  },
  {
   "cell_type": "code",
   "execution_count": 101,
   "metadata": {},
   "outputs": [],
   "source": [
    "np.save(msp_score_path + 'ind_gtsrb_pred_msp_score',\n",
    "        ind_gtsrb_pred_msp_score)\n",
    "\n",
    "np.save(msp_score_path + 'ood_gtsrb_anomal_pred_msp_score',\n",
    "        ood_gtsrb_anomal_pred_msp_score)\n",
    "\n",
    "np.save(msp_score_path + 'ood_cifar10_pred_msp_score',\n",
    "        ood_cifar10_pred_msp_score)\n",
    "\n",
    "np.save(msp_score_path + 'ood_stl10_pred_msp_score',\n",
    "        ood_stl10_pred_msp_score)"
   ]
  },
  {
   "cell_type": "markdown",
   "metadata": {},
   "source": [
    "### Plot MSP scores"
   ]
  },
  {
   "cell_type": "code",
   "execution_count": 86,
   "metadata": {},
   "outputs": [],
   "source": [
    "df_pred_msp_scores_gtsrb = pd.DataFrame(ind_gtsrb_pred_msp_score, columns=[\"Predictive MSP score\"])\n",
    "df_pred_msp_scores_gtsrb_anomal = pd.DataFrame(ood_gtsrb_anomal_pred_msp_score, columns=[\"Predictive MSP score\"])\n",
    "df_pred_msp_scores_stl10 = pd.DataFrame(ood_stl10_pred_msp_score, columns=[\"Predictive MSP score\"])\n",
    "df_pred_msp_scores_cifar10 = pd.DataFrame(ood_cifar10_pred_msp_score, columns=[\"Predictive MSP score\"])\n",
    "\n",
    "df_pred_msp_scores_gtsrb.insert(0, \"Dataset\", \"\")\n",
    "df_pred_msp_scores_gtsrb.loc[:, \"Dataset\"] = \"gtsrb\"\n",
    "\n",
    "df_pred_msp_scores_gtsrb_anomal.insert(0, \"Dataset\", \"\")\n",
    "df_pred_msp_scores_gtsrb_anomal.loc[:, \"Dataset\"] = \"gtsrb-anomal\"\n",
    "\n",
    "df_pred_msp_scores_stl10.insert(0, \"Dataset\", \"\")\n",
    "df_pred_msp_scores_stl10.loc[:, \"Dataset\"] = \"stl10\"\n",
    "\n",
    "df_pred_msp_scores_cifar10.insert(0, \"Dataset\", \"\")\n",
    "df_pred_msp_scores_cifar10.loc[:, \"Dataset\"] = \"cifar10\""
   ]
  },
  {
   "cell_type": "code",
   "execution_count": 92,
   "metadata": {},
   "outputs": [
    {
     "data": {
      "image/png": "[encoded data removed]",
      "text/plain": [
       "<Figure size 598.5x500 with 1 Axes>"
      ]
     },
     "metadata": {},
     "output_type": "display_data"
    }
   ],
   "source": [
    "df_pred_h_scores = pd.concat([df_pred_msp_scores_gtsrb,\n",
    "                            #   df_pred_msp_scores_gtsrb_anomal,\n",
    "                              df_pred_msp_scores_stl10,\n",
    "                              df_pred_msp_scores_cifar10]).reset_index(drop=True)\n",
    "\n",
    "sns.displot(df_pred_h_scores, x=\"Predictive MSP score\", hue=\"Dataset\", kind=\"hist\", fill=True)\n",
    "plt.show()"
   ]
  },
  {
   "cell_type": "code",
   "execution_count": 88,
   "metadata": {},
   "outputs": [
    {
     "data": {
      "image/png": "[encoded data removed]",
      "text/plain": [
       "<Figure size 642.875x500 with 1 Axes>"
      ]
     },
     "metadata": {},
     "output_type": "display_data"
    }
   ],
   "source": [
    "df_pred_h_scores = pd.concat([df_pred_msp_scores_gtsrb,\n",
    "                              df_pred_msp_scores_gtsrb_anomal]).reset_index(drop=True)\n",
    "\n",
    "sns.displot(df_pred_h_scores, x=\"Predictive MSP score\", hue=\"Dataset\", kind=\"hist\", fill=True)\n",
    "plt.show()"
   ]
  },
  {
   "cell_type": "markdown",
   "metadata": {},
   "source": [
    "### GTSRB vs GTSRB-Anomalies"
   ]
  },
  {
   "cell_type": "markdown",
   "metadata": {},
   "source": [
    "We use negative uncertainty scores for to align with the convention that positive (in-distribution) samples have higher scores (see plots above)"
   ]
  },
  {
   "cell_type": "code",
   "execution_count": 89,
   "metadata": {},
   "outputs": [
    {
     "name": "stdout",
     "output_type": "stream",
     "text": [
      "Test InD shape (4882,)\n",
      "Test OoD shape (4882,)\n",
      "AUROC: 0.8492\n",
      "FPR95: 0.3654\n",
      "AUPR: 0.7765\n"
     ]
    }
   ],
   "source": [
    "print(\"Test InD shape\", ind_gtsrb_pred_msp_score.shape);\n",
    "print(\"Test OoD shape\", ood_gtsrb_anomal_pred_msp_score.shape);\n",
    "\n",
    "results_pred_msp_gtsrb_anomaly_test = get_hz_detector_results(detect_exp_name=\"MSP score: gtsrb vs. gtsrb_anomaly\",\n",
    "                                                              ind_samples_scores=ind_gtsrb_pred_msp_score,\n",
    "                                                              ood_samples_scores=ood_gtsrb_anomal_pred_msp_score)"
   ]
  },
  {
   "cell_type": "markdown",
   "metadata": {},
   "source": [
    "### GTSRB vs CIFAR-10"
   ]
  },
  {
   "cell_type": "markdown",
   "metadata": {},
   "source": [
    "We use negative uncertainty scores for to align with the convention that positive (in-distribution) samples have higher scores (see plots above)"
   ]
  },
  {
   "cell_type": "code",
   "execution_count": 90,
   "metadata": {},
   "outputs": [
    {
     "name": "stdout",
     "output_type": "stream",
     "text": [
      "Test InD shape (4882,)\n",
      "Test OoD shape (20000,)\n",
      "AUROC: 0.9857\n",
      "FPR95: 0.0463\n",
      "AUPR: 0.9611\n"
     ]
    }
   ],
   "source": [
    "print(\"Test InD shape\", ind_gtsrb_pred_msp_score.shape);\n",
    "print(\"Test OoD shape\", ood_cifar10_pred_msp_score.shape);\n",
    "\n",
    "results_pred_msp_cifar10_test = get_hz_detector_results(detect_exp_name=\"MSP score: gtsrb vs. cifar10\",\n",
    "                                                        ind_samples_scores=ind_gtsrb_pred_msp_score,\n",
    "                                                        ood_samples_scores=ood_cifar10_pred_msp_score)"
   ]
  },
  {
   "cell_type": "markdown",
   "metadata": {},
   "source": [
    "### GTSRB vs STL-10"
   ]
  },
  {
   "cell_type": "markdown",
   "metadata": {},
   "source": [
    "We use negative uncertainty scores for to align with the convention that positive (in-distribution) samples have higher scores (see plots above)"
   ]
  },
  {
   "cell_type": "code",
   "execution_count": 91,
   "metadata": {},
   "outputs": [
    {
     "name": "stdout",
     "output_type": "stream",
     "text": [
      "Test InD shape (4882,)\n",
      "Test OoD shape (11000,)\n",
      "AUROC: 0.9860\n",
      "FPR95: 0.0432\n",
      "AUPR: 0.9708\n"
     ]
    }
   ],
   "source": [
    "print(\"Test InD shape\", ind_gtsrb_pred_msp_score.shape);\n",
    "print(\"Test OoD shape\", ood_stl10_pred_msp_score.shape);\n",
    "\n",
    "results_pred_msp_stl10_test = get_hz_detector_results(detect_exp_name=\"MSP score: gtsrb vs. stl10\",\n",
    "                                                      ind_samples_scores=ind_gtsrb_pred_msp_score,\n",
    "                                                      ood_samples_scores=ood_stl10_pred_msp_score)"
   ]
  },
  {
   "cell_type": "markdown",
   "metadata": {},
   "source": [
    "## Energy Score"
   ]
  },
  {
   "cell_type": "code",
   "execution_count": 93,
   "metadata": {},
   "outputs": [],
   "source": [
    "gtsrb_det_model.to(device);\n",
    "gtsrb_det_model.eval(); "
   ]
  },
  {
   "cell_type": "code",
   "execution_count": 94,
   "metadata": {},
   "outputs": [],
   "source": [
    "def get_energy_score(dnn_model: torch.nn.Module,\n",
    "                     input_dataloader: DataLoader):\n",
    "    \n",
    "    device = torch.device('cuda' if torch.cuda.is_available() else 'cpu')\n",
    "    # gtsrb_det_model.to(device)\n",
    "\n",
    "    dl_preds_energy_scores = []\n",
    "\n",
    "    with torch.no_grad():\n",
    "        \n",
    "        for i, (image, label) in enumerate(input_dataloader):\n",
    "            image = image.to(device)\n",
    "            pred_logits = dnn_model(image)\n",
    "            \n",
    "            pred_energy_score = torch.logsumexp(pred_logits, dim=1)\n",
    "\n",
    "            dl_preds_energy_scores.append(pred_energy_score)\n",
    "        \n",
    "        dl_preds_energy_scores_t = torch.cat(dl_preds_energy_scores, dim=0)\n",
    "     \n",
    "        dl_preds_energy_scores = dl_preds_energy_scores_t.detach().cpu().numpy()\n",
    "        \n",
    "    return dl_preds_energy_scores"
   ]
  },
  {
   "cell_type": "code",
   "execution_count": 95,
   "metadata": {},
   "outputs": [],
   "source": [
    "ind_gtsrb_test_pred_energy_score = get_energy_score(dnn_model=gtsrb_det_model.model, input_dataloader=gtsrb_normal_test_loader)\n",
    "ood_gtsrb_anomal_test_pred_energy_score = get_energy_score(dnn_model=gtsrb_det_model.model, input_dataloader=gtsrb_anomal_test_loader)\n",
    "ood_cifar10_test_pred_energy_score = get_energy_score(dnn_model=gtsrb_det_model.model, input_dataloader=cifar10_test_loader)\n",
    "ood_stl10_test_pred_energy_score = get_energy_score(dnn_model=gtsrb_det_model.model, input_dataloader=stl10_test_loader)"
   ]
  },
  {
   "cell_type": "code",
   "execution_count": 96,
   "metadata": {},
   "outputs": [],
   "source": [
    "ind_gtsrb_valid_pred_energy_score = get_energy_score(dnn_model=gtsrb_det_model.model, input_dataloader=gtsrb_normal_valid_loader)\n",
    "ood_gtsrb_anomal_valid_pred_energy_score = get_energy_score(dnn_model=gtsrb_det_model.model, input_dataloader=gtsrb_anomal_valid_loader)\n",
    "ood_cifar10_valid_pred_energy_score = get_energy_score(dnn_model=gtsrb_det_model.model, input_dataloader=cifar10_valid_loader)\n",
    "ood_stl10_valid_pred_energy_score = get_energy_score(dnn_model=gtsrb_det_model.model, input_dataloader=stl10_valid_loader)"
   ]
  },
  {
   "cell_type": "code",
   "execution_count": 97,
   "metadata": {},
   "outputs": [],
   "source": [
    "ind_gtsrb_pred_energy_score = np.concatenate((ind_gtsrb_valid_pred_energy_score, ind_gtsrb_test_pred_energy_score))\n",
    "ood_gtsrb_anomal_pred_energy_score = np.concatenate((ood_gtsrb_anomal_valid_pred_energy_score, ood_gtsrb_anomal_test_pred_energy_score))\n",
    "ood_cifar10_pred_energy_score = np.concatenate((ood_cifar10_valid_pred_energy_score, ood_cifar10_test_pred_energy_score))\n",
    "ood_stl10_pred_energy_score = np.concatenate((ood_stl10_valid_pred_energy_score, ood_stl10_test_pred_energy_score))"
   ]
  },
  {
   "cell_type": "code",
   "execution_count": 99,
   "metadata": {},
   "outputs": [],
   "source": [
    "np.save(energy_score_path + 'ind_gtsrb_pred_energy_score',\n",
    "        ind_gtsrb_pred_energy_score)\n",
    "\n",
    "np.save(energy_score_path + 'ood_gtsrb_anomal_pred_energy_score',\n",
    "        ood_gtsrb_anomal_pred_energy_score)\n",
    "\n",
    "np.save(energy_score_path + 'ood_cifar10_pred_energy_score',\n",
    "        ood_cifar10_pred_energy_score)\n",
    "\n",
    "np.save(energy_score_path + 'ood_stl10_pred_energy_score',\n",
    "        ood_stl10_pred_energy_score)"
   ]
  },
  {
   "cell_type": "code",
   "execution_count": 132,
   "metadata": {},
   "outputs": [
    {
     "data": {
      "text/plain": [
       "(4882,)"
      ]
     },
     "execution_count": 132,
     "metadata": {},
     "output_type": "execute_result"
    }
   ],
   "source": [
    "# a = np.load(energy_score_path + 'ind_gtsrb_pred_energy_score.npy')\n",
    "# a.shape"
   ]
  },
  {
   "cell_type": "markdown",
   "metadata": {},
   "source": [
    "### Plot Energy scores"
   ]
  },
  {
   "cell_type": "code",
   "execution_count": 103,
   "metadata": {},
   "outputs": [],
   "source": [
    "df_pred_energy_scores_gtsrb = pd.DataFrame(ind_gtsrb_pred_energy_score, columns=[\"Predictive Energy score\"])\n",
    "df_pred_energy_scores_gtsrb_anomal = pd.DataFrame(ood_gtsrb_anomal_pred_energy_score, columns=[\"Predictive Energy score\"])\n",
    "df_pred_energy_scores_stl10 = pd.DataFrame(ood_stl10_pred_energy_score, columns=[\"Predictive Energy score\"])\n",
    "df_pred_energy_scores_cifar10 = pd.DataFrame(ood_cifar10_pred_energy_score, columns=[\"Predictive Energy score\"])\n",
    "\n",
    "df_pred_energy_scores_gtsrb.insert(0, \"Dataset\", \"\")\n",
    "df_pred_energy_scores_gtsrb.loc[:, \"Dataset\"] = \"gtsrb\"\n",
    "\n",
    "df_pred_energy_scores_gtsrb_anomal.insert(0, \"Dataset\", \"\")\n",
    "df_pred_energy_scores_gtsrb_anomal.loc[:, \"Dataset\"] = \"gtsrb-anomal\"\n",
    "\n",
    "df_pred_energy_scores_stl10.insert(0, \"Dataset\", \"\")\n",
    "df_pred_energy_scores_stl10.loc[:, \"Dataset\"] = \"stl10\"\n",
    "\n",
    "df_pred_energy_scores_cifar10.insert(0, \"Dataset\", \"\")\n",
    "df_pred_energy_scores_cifar10.loc[:, \"Dataset\"] = \"cifar10\""
   ]
  },
  {
   "cell_type": "code",
   "execution_count": 105,
   "metadata": {},
   "outputs": [
    {
     "data": {
      "image/png": "[encoded data removed]",
      "text/plain": [
       "<Figure size 598.5x500 with 1 Axes>"
      ]
     },
     "metadata": {},
     "output_type": "display_data"
    }
   ],
   "source": [
    "df_pred_h_scores = pd.concat([df_pred_energy_scores_gtsrb,\n",
    "                            #   df_pred_energy_scores_gtsrb_anomal,\n",
    "                              df_pred_energy_scores_stl10,\n",
    "                              df_pred_energy_scores_cifar10]).reset_index(drop=True)\n",
    "\n",
    "sns.displot(df_pred_h_scores, x=\"Predictive Energy score\", hue=\"Dataset\", kind=\"hist\", fill=True)\n",
    "plt.show()"
   ]
  },
  {
   "cell_type": "code",
   "execution_count": 106,
   "metadata": {},
   "outputs": [
    {
     "data": {
      "image/png": "[encoded data removed]",
      "text/plain": [
       "<Figure size 642.875x500 with 1 Axes>"
      ]
     },
     "metadata": {},
     "output_type": "display_data"
    }
   ],
   "source": [
    "df_pred_h_scores = pd.concat([df_pred_energy_scores_gtsrb,\n",
    "                              df_pred_energy_scores_gtsrb_anomal]).reset_index(drop=True)\n",
    "\n",
    "sns.displot(df_pred_h_scores, x=\"Predictive Energy score\", hue=\"Dataset\", kind=\"hist\", fill=True)\n",
    "plt.show()"
   ]
  },
  {
   "cell_type": "markdown",
   "metadata": {},
   "source": [
    "### GTSRB vs GTSRB-Anomalies"
   ]
  },
  {
   "cell_type": "markdown",
   "metadata": {},
   "source": [
    "We use negative uncertainty scores for to align with the convention that positive (in-distribution) samples have higher scores (see plots above)"
   ]
  },
  {
   "cell_type": "code",
   "execution_count": 107,
   "metadata": {},
   "outputs": [
    {
     "name": "stdout",
     "output_type": "stream",
     "text": [
      "Test InD shape (4882,)\n",
      "Test OoD shape (4882,)\n",
      "AUROC: 0.8547\n",
      "FPR95: 0.3705\n",
      "AUPR: 0.8001\n"
     ]
    }
   ],
   "source": [
    "print(\"Test InD shape\", ind_gtsrb_pred_energy_score.shape);\n",
    "print(\"Test OoD shape\", ood_gtsrb_anomal_pred_energy_score.shape);\n",
    "\n",
    "results_pred_energy_gtsrb_anomaly_test = get_hz_detector_results(detect_exp_name=\"Energy score: gtsrb vs. gtsrb_anomaly\",\n",
    "                                                              ind_samples_scores=ind_gtsrb_pred_energy_score,\n",
    "                                                              ood_samples_scores=ood_gtsrb_anomal_pred_energy_score)"
   ]
  },
  {
   "cell_type": "markdown",
   "metadata": {},
   "source": [
    "### GTSRB vs CIFAR-10"
   ]
  },
  {
   "cell_type": "markdown",
   "metadata": {},
   "source": [
    "We use negative uncertainty scores for to align with the convention that positive (in-distribution) samples have higher scores (see plots above)"
   ]
  },
  {
   "cell_type": "code",
   "execution_count": 110,
   "metadata": {},
   "outputs": [
    {
     "name": "stdout",
     "output_type": "stream",
     "text": [
      "Test InD shape (4882,)\n",
      "Test OoD shape (20000,)\n",
      "AUROC: 0.9959\n",
      "FPR95: 0.0168\n",
      "AUPR: 0.9858\n"
     ]
    }
   ],
   "source": [
    "print(\"Test InD shape\", ind_gtsrb_pred_energy_score.shape);\n",
    "print(\"Test OoD shape\", ood_cifar10_pred_energy_score.shape);\n",
    "\n",
    "results_pred_energy_cifar10_test = get_hz_detector_results(detect_exp_name=\"Energy score: gtsrb vs. cifar10\",\n",
    "                                                           ind_samples_scores=ind_gtsrb_pred_energy_score,\n",
    "                                                           ood_samples_scores=ood_cifar10_pred_energy_score)"
   ]
  },
  {
   "cell_type": "markdown",
   "metadata": {},
   "source": [
    "### GTSRB vs STL-10"
   ]
  },
  {
   "cell_type": "markdown",
   "metadata": {},
   "source": [
    "We use negative uncertainty scores for to align with the convention that positive (in-distribution) samples have higher scores (see plots above)"
   ]
  },
  {
   "cell_type": "code",
   "execution_count": 111,
   "metadata": {},
   "outputs": [
    {
     "name": "stdout",
     "output_type": "stream",
     "text": [
      "Test InD shape (4882,)\n",
      "Test OoD shape (11000,)\n",
      "AUROC: 0.9966\n",
      "FPR95: 0.0127\n",
      "AUPR: 0.9906\n"
     ]
    }
   ],
   "source": [
    "print(\"Test InD shape\", ind_gtsrb_pred_energy_score.shape);\n",
    "print(\"Test OoD shape\", ood_stl10_pred_energy_score.shape);\n",
    "\n",
    "results_pred_energy_stl10_test = get_hz_detector_results(detect_exp_name=\"Energy score: gtsrb vs. stl10\",\n",
    "                                                         ind_samples_scores=ind_gtsrb_pred_energy_score,\n",
    "                                                         ood_samples_scores=ood_stl10_pred_energy_score)"
   ]
  },
  {
   "cell_type": "markdown",
   "metadata": {},
   "source": [
    "## Mahalanobis Distance Score"
   ]
  },
  {
   "cell_type": "code",
   "execution_count": 108,
   "metadata": {},
   "outputs": [],
   "source": [
    "class Hook:\n",
    "    \"\"\"\n",
    "    Hook class that returns the input and output of a layer during forward/backward pass\n",
    "    \"\"\"\n",
    "    def __init__(self, module: torch.nn.Module, backward: bool = False):\n",
    "        \"\"\"\n",
    "        Hook Class constructor\n",
    "        :param module: Layer block from Neural Network Module\n",
    "        :type module: torch.nn.Module\n",
    "        :param backward: backward-poss hook\n",
    "        :type backward: bool\n",
    "        \"\"\"\n",
    "        self.input = None\n",
    "        self.output = None\n",
    "        if not backward:\n",
    "            self.hook = module.register_forward_hook(self.hook_fn)\n",
    "        else:\n",
    "            self.hook = module.register_backward_hook(self.hook_fn)\n",
    "\n",
    "    def hook_fn(self, module, input, output):\n",
    "        self.input = input\n",
    "        self.output = output\n",
    "\n",
    "    def close(self):\n",
    "        self.hook.remove()"
   ]
  },
  {
   "cell_type": "code",
   "execution_count": 122,
   "metadata": {},
   "outputs": [],
   "source": [
    "from sklearn.covariance import EmpiricalCovariance\n",
    "\n",
    "class MDSPostprocessor:\n",
    "    def __init__(self,\n",
    "                 num_classes: int = 43,\n",
    "                 setup_flag: bool = False):\n",
    "        # self.config = config\n",
    "        # self.num_classes = num_classes_dict[self.config.dataset.name]\n",
    "        self.num_classes = num_classes\n",
    "        self.setup_flag = setup_flag\n",
    "    \n",
    "\n",
    "    def setup(self,\n",
    "              dnn_model: nn.Module,\n",
    "              ind_dataloader,\n",
    "              layer_hook,\n",
    "              get_2d_rep_mean: bool = False):\n",
    "        \n",
    "        if not self.setup_flag:\n",
    "            # estimate mean and variance from training set\n",
    "            print('\\n Estimating mean and variance from training set...')\n",
    "            all_feats = []\n",
    "            all_labels = []\n",
    "            all_preds = []\n",
    "            # get features/representations:\n",
    "            device = torch.device('cuda' if torch.cuda.is_available() else 'cpu')\n",
    "            dnn_model.to(device)\n",
    "            # get features:\n",
    "            with torch.no_grad():\n",
    "                for i, (image, label) in enumerate(ind_dataloader):\n",
    "                    image = image.to(device)\n",
    "                    # label = label.to(device)\n",
    "                    pred_logits = dnn_model(image)\n",
    "                    latent_rep = torch.flatten(layer_hook.output, 1)  # latent representation sample\n",
    "                    all_feats.append(latent_rep.cpu())\n",
    "                    all_labels.append(deepcopy(label))\n",
    "                    all_preds.append(pred_logits.argmax(1).cpu())\n",
    "                    \n",
    "            all_feats = torch.cat(all_feats)\n",
    "            all_labels = torch.cat(all_labels)\n",
    "            all_preds = torch.cat(all_preds)    \n",
    "            # compute class-conditional statistics:\n",
    "            self.class_mean = []\n",
    "            centered_data = []\n",
    "            for c in range(self.num_classes):\n",
    "                class_samples = all_feats[all_labels.eq(c)].data\n",
    "                self.class_mean.append(class_samples.mean(0))\n",
    "                centered_data.append(class_samples -\n",
    "                                     self.class_mean[c].view(1, -1))\n",
    "\n",
    "            self.class_mean = torch.stack(\n",
    "                self.class_mean)  # shape [#classes, feature dim]\n",
    "\n",
    "            # group_lasso = sklearn.covariance.EmpiricalCovariance(\n",
    "            #     assume_centered=False)\n",
    "            \n",
    "            group_lasso = EmpiricalCovariance(assume_centered=False)\n",
    "            \n",
    "            group_lasso.fit(\n",
    "                torch.cat(centered_data).cpu().numpy().astype(np.float32))\n",
    "            # inverse of covariance\n",
    "            self.precision = torch.from_numpy(group_lasso.precision_).float()\n",
    "            self.setup_flag = True\n",
    "        else:\n",
    "            pass\n",
    "\n",
    "    @torch.no_grad()\n",
    "    def postprocess(self,\n",
    "                    dnn_model: nn.Module,\n",
    "                    dataloader: DataLoader,\n",
    "                    layer_hook):\n",
    "        \n",
    "        all_preds = []\n",
    "        all_conf_score = []\n",
    "        device = torch.device('cuda' if torch.cuda.is_available() else 'cpu')\n",
    "        dnn_model.to(device)\n",
    "        \n",
    "        for i, (image, label) in enumerate(dataloader):\n",
    "            image = image.to(device)\n",
    "            pred_logits = dnn_model(image)\n",
    "            # latent_rep = layer_hook.output\n",
    "            latent_rep = torch.flatten(layer_hook.output, 1)\n",
    "            pred = pred_logits.argmax(1)\n",
    "            \n",
    "            all_preds.append(pred)\n",
    "            \n",
    "            class_scores = torch.zeros((pred_logits.shape[0], self.num_classes))\n",
    "            for c in range(self.num_classes):\n",
    "                tensor = latent_rep.cpu() - self.class_mean[c].view(1, -1)\n",
    "                class_scores[:, c] = -torch.matmul(\n",
    "                    torch.matmul(tensor, self.precision), tensor.t()).diag()\n",
    "                \n",
    "            conf = torch.max(class_scores, dim=1)[0]\n",
    "            \n",
    "            all_conf_score.append(conf)\n",
    "        \n",
    "        all_preds_t = torch.cat(all_preds)\n",
    "        all_conf_score_t = torch.cat(all_conf_score)\n",
    "        \n",
    "        return all_preds_t, all_conf_score_t"
   ]
  },
  {
   "cell_type": "code",
   "execution_count": 123,
   "metadata": {},
   "outputs": [
    {
     "name": "stderr",
     "output_type": "stream",
     "text": [
      "ic| len(gtsrb_normal_train_loader): 7120\n",
      "ic| len(gtsrb_normal_valid_loader): 3609\n",
      "ic| len(gtsrb_normal_test_loader): 1273\n",
      "ic| '========================================'"
     ]
    },
    {
     "name": "stderr",
     "output_type": "stream",
     "text": [
      "\n",
      "ic| len(gtsrb_anomal_train_loader): 35600\n",
      "ic| len(gtsrb_anomal_valid_loader): 3609\n",
      "ic| len(gtsrb_anomal_test_loader): 1273\n",
      "ic| '========================================'\n",
      "ic| len(cifar10_train_loader): 40000\n",
      "ic| len(cifar10_valid_loader): 10000\n",
      "ic| len(cifar10_test_loader): 10000\n",
      "ic| '========================================'\n",
      "ic| len(stl10_train_loader): 2000\n",
      "ic| len(stl10_valid_loader): 3000\n",
      "ic| len(stl10_test_loader): 8000\n"
     ]
    }
   ],
   "source": [
    "ic(len(gtsrb_normal_train_loader));\n",
    "ic(len(gtsrb_normal_valid_loader));\n",
    "ic(len(gtsrb_normal_test_loader));\n",
    "ic(\"========================================\")\n",
    "ic(len(gtsrb_anomal_train_loader));\n",
    "ic(len(gtsrb_anomal_valid_loader));\n",
    "ic(len(gtsrb_anomal_test_loader));\n",
    "ic(\"========================================\")\n",
    "ic(len(cifar10_train_loader));\n",
    "ic(len(cifar10_valid_loader));\n",
    "ic(len(cifar10_test_loader));\n",
    "ic(\"========================================\")\n",
    "ic(len(stl10_train_loader));\n",
    "ic(len(stl10_valid_loader));\n",
    "ic(len(stl10_test_loader));"
   ]
  },
  {
   "cell_type": "code",
   "execution_count": 124,
   "metadata": {},
   "outputs": [],
   "source": [
    "gtsrb_det_model;"
   ]
  },
  {
   "cell_type": "code",
   "execution_count": 112,
   "metadata": {},
   "outputs": [],
   "source": [
    "gtsrb_model_avgpool_layer_hook = Hook(gtsrb_det_model.model.avgpool)"
   ]
  },
  {
   "cell_type": "code",
   "execution_count": 125,
   "metadata": {},
   "outputs": [],
   "source": [
    "m_dist_gtsrb = MDSPostprocessor(num_classes=43, setup_flag=False)"
   ]
  },
  {
   "cell_type": "code",
   "execution_count": 126,
   "metadata": {},
   "outputs": [
    {
     "name": "stdout",
     "output_type": "stream",
     "text": [
      "\n",
      " Estimating mean and variance from training set...\n"
     ]
    }
   ],
   "source": [
    "m_dist_gtsrb.setup(gtsrb_det_model.model,\n",
    "                   gtsrb_normal_train_loader,\n",
    "                   layer_hook=gtsrb_model_avgpool_layer_hook)"
   ]
  },
  {
   "cell_type": "code",
   "execution_count": 127,
   "metadata": {},
   "outputs": [
    {
     "name": "stderr",
     "output_type": "stream",
     "text": [
      "ic| m_dist_gtsrb.class_mean.shape: torch.Size([43, 512])\n",
      "ic| m_dist_gtsrb.precision.shape: torch.Size([512, 512])\n"
     ]
    }
   ],
   "source": [
    "ic(m_dist_gtsrb.class_mean.shape);\n",
    "ic(m_dist_gtsrb.precision.shape);"
   ]
  },
  {
   "cell_type": "code",
   "execution_count": 131,
   "metadata": {},
   "outputs": [],
   "source": [
    "_, ind_gtsrb_valid_m_dist_score = m_dist_gtsrb.postprocess(gtsrb_det_model.model,\n",
    "                                                           gtsrb_normal_valid_loader,\n",
    "                                                           gtsrb_model_avgpool_layer_hook)\n",
    "\n",
    "\n",
    "_, ind_gtsrb_test_m_dist_score = m_dist_gtsrb.postprocess(gtsrb_det_model.model,\n",
    "                                                          gtsrb_normal_test_loader,\n",
    "                                                          gtsrb_model_avgpool_layer_hook)\n",
    "\n",
    "\n",
    "_, ood_gtsrb_anomal_valid_m_dist_score = m_dist_gtsrb.postprocess(gtsrb_det_model.model,\n",
    "                                                                  gtsrb_anomal_valid_loader,\n",
    "                                                                  gtsrb_model_avgpool_layer_hook)\n",
    "\n",
    "_, ood_gtsrb_anomal_test_m_dist_score = m_dist_gtsrb.postprocess(gtsrb_det_model.model,\n",
    "                                                                 gtsrb_anomal_test_loader,\n",
    "                                                                 gtsrb_model_avgpool_layer_hook)\n",
    "\n",
    "\n",
    "_, ood_cifar10_valid_m_dist_score = m_dist_gtsrb.postprocess(gtsrb_det_model.model,\n",
    "                                                             cifar10_valid_loader,\n",
    "                                                             gtsrb_model_avgpool_layer_hook)\n",
    "\n",
    "_, ood_cifar10_test_m_dist_score = m_dist_gtsrb.postprocess(gtsrb_det_model.model,\n",
    "                                                            cifar10_test_loader,\n",
    "                                                            gtsrb_model_avgpool_layer_hook)\n",
    "\n",
    "\n",
    "_, ood_stl10_valid_m_dist_score = m_dist_gtsrb.postprocess(gtsrb_det_model.model,\n",
    "                                                           stl10_valid_loader,\n",
    "                                                           gtsrb_model_avgpool_layer_hook)\n",
    "\n",
    "_, ood_stl10_test_m_dist_score = m_dist_gtsrb.postprocess(gtsrb_det_model.model,\n",
    "                                                          stl10_test_loader,\n",
    "                                                          gtsrb_model_avgpool_layer_hook)\n"
   ]
  },
  {
   "cell_type": "code",
   "execution_count": 133,
   "metadata": {},
   "outputs": [],
   "source": [
    "ind_gtsrb_m_dist_score = np.concatenate((ind_gtsrb_valid_m_dist_score, ind_gtsrb_test_m_dist_score))\n",
    "ood_gtsrb_anomal_m_dist_score = np.concatenate((ood_gtsrb_anomal_valid_m_dist_score, ood_gtsrb_anomal_test_m_dist_score))\n",
    "ood_cifar10_m_dist_score = np.concatenate((ood_cifar10_valid_m_dist_score, ood_cifar10_test_m_dist_score))\n",
    "ood_stl10_m_dist_score = np.concatenate((ood_stl10_valid_m_dist_score, ood_stl10_test_m_dist_score))"
   ]
  },
  {
   "cell_type": "code",
   "execution_count": 143,
   "metadata": {},
   "outputs": [
    {
     "data": {
      "text/plain": [
       "'/media/farnez/Data/EXPERIMENTS/ICLR-2024/gtsrb-classification/baseline_methods/OoD_detection_baselines/mahalanobis_dist_score/'"
      ]
     },
     "execution_count": 143,
     "metadata": {},
     "output_type": "execute_result"
    }
   ],
   "source": [
    "m_dist_score_path"
   ]
  },
  {
   "cell_type": "code",
   "execution_count": 144,
   "metadata": {},
   "outputs": [],
   "source": [
    "np.save(m_dist_score_path + 'ind_gtsrb_m_dist_score',\n",
    "        ind_gtsrb_m_dist_score)\n",
    "\n",
    "np.save(m_dist_score_path + 'ood_gtsrb_anomal_m_dist_score',\n",
    "        ood_gtsrb_anomal_m_dist_score)\n",
    "\n",
    "np.save(m_dist_score_path + 'ood_cifar10_m_dist_score',\n",
    "        ood_cifar10_m_dist_score)\n",
    "\n",
    "np.save(m_dist_score_path + 'ood_stl10_m_dist_score',\n",
    "        ood_stl10_m_dist_score)"
   ]
  },
  {
   "cell_type": "code",
   "execution_count": 135,
   "metadata": {},
   "outputs": [
    {
     "name": "stderr",
     "output_type": "stream",
     "text": [
      "ic| ind_gtsrb_m_dist_score.shape: (4882,)\n",
      "ic| ood_gtsrb_anomal_m_dist_score.shape: (4882,)\n",
      "ic| ood_cifar10_m_dist_score.shape: (20000,)\n",
      "ic| ood_stl10_m_dist_score"
     ]
    },
    {
     "name": "stderr",
     "output_type": "stream",
     "text": [
      ".shape: (11000,)\n"
     ]
    }
   ],
   "source": [
    "ic(ind_gtsrb_m_dist_score.shape);\n",
    "ic(ood_gtsrb_anomal_m_dist_score.shape);\n",
    "ic(ood_cifar10_m_dist_score.shape);\n",
    "ic(ood_stl10_m_dist_score.shape);"
   ]
  },
  {
   "cell_type": "code",
   "execution_count": 136,
   "metadata": {},
   "outputs": [],
   "source": [
    "df_m_dist_scores_gtsrb = pd.DataFrame(ind_gtsrb_m_dist_score, columns=[\"Mahalanobis Distance score\"])\n",
    "df_m_dist_scores_gtsrb_anomal = pd.DataFrame(ood_gtsrb_anomal_m_dist_score, columns=[\"Mahalanobis Distance score\"])\n",
    "df_m_dist_scores_stl10 = pd.DataFrame(ood_cifar10_m_dist_score, columns=[\"Mahalanobis Distance score\"])\n",
    "df_m_dist_scores_cifar10 = pd.DataFrame(ood_stl10_m_dist_score, columns=[\"Mahalanobis Distance score\"])\n",
    "\n",
    "df_m_dist_scores_gtsrb.insert(0, \"Dataset\", \"\")\n",
    "df_m_dist_scores_gtsrb.loc[:, \"Dataset\"] = \"gtsrb\"\n",
    "\n",
    "df_m_dist_scores_gtsrb_anomal.insert(0, \"Dataset\", \"\")\n",
    "df_m_dist_scores_gtsrb_anomal.loc[:, \"Dataset\"] = \"gtsrb-anomal\"\n",
    "\n",
    "df_m_dist_scores_stl10.insert(0, \"Dataset\", \"\")\n",
    "df_m_dist_scores_stl10.loc[:, \"Dataset\"] = \"stl10\"\n",
    "\n",
    "df_m_dist_scores_cifar10.insert(0, \"Dataset\", \"\")\n",
    "df_m_dist_scores_cifar10.loc[:, \"Dataset\"] = \"cifar10\""
   ]
  },
  {
   "cell_type": "code",
   "execution_count": 140,
   "metadata": {},
   "outputs": [
    {
     "data": {
      "image/png": "[encoded data removed]",
      "text/plain": [
       "<Figure size 598.5x500 with 1 Axes>"
      ]
     },
     "metadata": {},
     "output_type": "display_data"
    }
   ],
   "source": [
    "df_pred_h_scores = pd.concat([df_m_dist_scores_gtsrb,\n",
    "                              # df_m_dist_scores_gtsrb_anomal,\n",
    "                              df_m_dist_scores_stl10,\n",
    "                              df_m_dist_scores_cifar10]).reset_index(drop=True)\n",
    "\n",
    "sns.displot(df_pred_h_scores, x=\"Mahalanobis Distance score\", hue=\"Dataset\", kind=\"hist\", fill=True)\n",
    "plt.show()"
   ]
  },
  {
   "cell_type": "code",
   "execution_count": null,
   "metadata": {},
   "outputs": [],
   "source": [
    "ic(ind_gtsrb_m_dist_score.shape);\n",
    "ic(ood_gtsrb_anomal_m_dist_score.shape);\n",
    "ic(ood_cifar10_m_dist_score.shape);\n",
    "ic(ood_stl10_m_dist_score.shape);"
   ]
  },
  {
   "cell_type": "markdown",
   "metadata": {},
   "source": [
    "### GTSRB vs GTSRB-Anomalies"
   ]
  },
  {
   "cell_type": "markdown",
   "metadata": {},
   "source": [
    "We use negative uncertainty scores for to align with the convention that positive (in-distribution) samples have higher scores (see plots above)"
   ]
  },
  {
   "cell_type": "code",
   "execution_count": 145,
   "metadata": {},
   "outputs": [
    {
     "name": "stdout",
     "output_type": "stream",
     "text": [
      "Test InD shape (4882,)\n",
      "Test OoD shape (4882,)\n",
      "AUROC: 0.8830\n",
      "FPR95: 0.4048\n",
      "AUPR: 0.8590\n"
     ]
    }
   ],
   "source": [
    "print(\"Test InD shape\", ind_gtsrb_m_dist_score.shape);\n",
    "print(\"Test OoD shape\", ood_gtsrb_anomal_m_dist_score.shape);\n",
    "\n",
    "results_m_dist_gtsrb_anomaly = get_hz_detector_results(detect_exp_name=\"Mahalanobis Distance score: gtsrb vs. gtsrb_anomaly\",\n",
    "                                                       ind_samples_scores=ind_gtsrb_m_dist_score,\n",
    "                                                       ood_samples_scores=ood_gtsrb_anomal_m_dist_score)"
   ]
  },
  {
   "cell_type": "markdown",
   "metadata": {},
   "source": [
    "### GTSRB vs CIFAR-10"
   ]
  },
  {
   "cell_type": "markdown",
   "metadata": {},
   "source": [
    "We use negative uncertainty scores for to align with the convention that positive (in-distribution) samples have higher scores (see plots above)"
   ]
  },
  {
   "cell_type": "code",
   "execution_count": 146,
   "metadata": {},
   "outputs": [
    {
     "name": "stdout",
     "output_type": "stream",
     "text": [
      "Test InD shape (4882,)\n",
      "Test OoD shape (20000,)\n",
      "AUROC: 0.9682\n",
      "FPR95: 0.1498\n",
      "AUPR: 0.9573\n"
     ]
    }
   ],
   "source": [
    "print(\"Test InD shape\", ind_gtsrb_m_dist_score.shape);\n",
    "print(\"Test OoD shape\", ood_cifar10_m_dist_score.shape);\n",
    "\n",
    "results_m_dist_cifar10 = get_hz_detector_results(detect_exp_name=\"Mahalanobis Distance score: gtsrb vs. cifar10\",\n",
    "                                                 ind_samples_scores=ind_gtsrb_m_dist_score,\n",
    "                                                 ood_samples_scores=ood_cifar10_m_dist_score)"
   ]
  },
  {
   "cell_type": "markdown",
   "metadata": {},
   "source": [
    "### GTSRB vs STL-10"
   ]
  },
  {
   "cell_type": "markdown",
   "metadata": {},
   "source": [
    "We use negative uncertainty scores for to align with the convention that positive (in-distribution) samples have higher scores (see plots above)"
   ]
  },
  {
   "cell_type": "code",
   "execution_count": 147,
   "metadata": {},
   "outputs": [
    {
     "name": "stdout",
     "output_type": "stream",
     "text": [
      "Test InD shape (4882,)\n",
      "Test OoD shape (11000,)\n",
      "AUROC: 0.9708\n",
      "FPR95: 0.1149\n",
      "AUPR: 0.9698\n"
     ]
    }
   ],
   "source": [
    "print(\"Test InD shape\", ind_gtsrb_m_dist_score.shape);\n",
    "print(\"Test OoD shape\", ood_stl10_m_dist_score.shape);\n",
    "\n",
    "results_m_dist_stl10 = get_hz_detector_results(detect_exp_name=\"Mahalanobis Distance score: gtsrb vs. stl10\",\n",
    "                                                 ind_samples_scores=ind_gtsrb_m_dist_score,\n",
    "                                                 ood_samples_scores=ood_stl10_m_dist_score)"
   ]
  },
  {
   "cell_type": "markdown",
   "metadata": {},
   "source": [
    "## KNN Distance Score"
   ]
  },
  {
   "cell_type": "code",
   "execution_count": 54,
   "metadata": {},
   "outputs": [],
   "source": [
    "import faiss"
   ]
  },
  {
   "cell_type": "code",
   "execution_count": 55,
   "metadata": {},
   "outputs": [],
   "source": [
    "class Hook:\n",
    "    \"\"\"\n",
    "    Hook class that returns the input and output of a layer during forward/backward pass\n",
    "    \"\"\"\n",
    "    def __init__(self, module: torch.nn.Module, backward: bool = False):\n",
    "        \"\"\"\n",
    "        Hook Class constructor\n",
    "        :param module: Layer block from Neural Network Module\n",
    "        :type module: torch.nn.Module\n",
    "        :param backward: backward-poss hook\n",
    "        :type backward: bool\n",
    "        \"\"\"\n",
    "        self.input = None\n",
    "        self.output = None\n",
    "        if not backward:\n",
    "            self.hook = module.register_forward_hook(self.hook_fn)\n",
    "        else:\n",
    "            self.hook = module.register_backward_hook(self.hook_fn)\n",
    "\n",
    "    def hook_fn(self, module, input, output):\n",
    "        self.input = input\n",
    "        self.output = output\n",
    "\n",
    "    def close(self):\n",
    "        self.hook.remove()"
   ]
  },
  {
   "cell_type": "code",
   "execution_count": 56,
   "metadata": {},
   "outputs": [],
   "source": [
    "normalizer = lambda x: x / (np.linalg.norm(x, ord=2, axis=-1, keepdims=True) + 1e-10)\n"
   ]
  },
  {
   "cell_type": "code",
   "execution_count": 73,
   "metadata": {},
   "outputs": [],
   "source": [
    "class KNNPostprocessor:\n",
    "    def __init__(self,\n",
    "                 K: int = 50,\n",
    "                 setup_flag: bool = False):\n",
    "        self.K = K\n",
    "        self.activation_log = None\n",
    "        self.setup_flag = setup_flag\n",
    "        self.index = None\n",
    "\n",
    "    def setup(self,\n",
    "              dnn_model: nn.Module,\n",
    "              ind_dataloader,\n",
    "              layer_hook,\n",
    "              get_2d_rep_mean: bool = False):\n",
    "\n",
    "        if not self.setup_flag:\n",
    "            print('\\n Get latent embeddings z from training set...')\n",
    "            activation_log = []\n",
    "            device = torch.device('cuda' if torch.cuda.is_available() else 'cpu')\n",
    "            dnn_model.to(device)\n",
    "            \n",
    "            with torch.no_grad():\n",
    "                for i, (image, label) in enumerate(ind_dataloader):\n",
    "                    image = image.to(device)\n",
    "                    pred_logits = dnn_model(image)\n",
    "                    \n",
    "                    latent_rep = torch.flatten(layer_hook.output, 1)  # latent representation sample\n",
    "                    # ic(layer_hook.output)\n",
    "                    activation_log.append(\n",
    "                        normalizer(latent_rep.data.cpu().numpy()))\n",
    "\n",
    "            self.activation_log = np.concatenate(activation_log, axis=0)\n",
    "            self.index = faiss.IndexFlatL2(latent_rep.shape[1])\n",
    "            self.index.add(self.activation_log)\n",
    "            self.setup_flag = True\n",
    "        else:\n",
    "            pass\n",
    "\n",
    "    @torch.no_grad()\n",
    "    def postprocess(self,\n",
    "                    dnn_model: nn.Module,\n",
    "                    dataloader: DataLoader,\n",
    "                    layer_hook):\n",
    "        \n",
    "        all_preds = []\n",
    "        all_kth_dist_score = []\n",
    "        device = torch.device('cuda' if torch.cuda.is_available() else 'cpu')\n",
    "        dnn_model.to(device)\n",
    "        \n",
    "        for i, (image, label) in enumerate(dataloader):\n",
    "            image = image.to(device)\n",
    "            pred_logits = dnn_model(image)\n",
    "            # ic(layer_hook.output)\n",
    "            latent_rep = torch.flatten(layer_hook.output, 1)  # latent representation sample\n",
    "            \n",
    "            pred = torch.max(torch.softmax(pred_logits, dim=1), dim=1)\n",
    "            latent_rep_normed = normalizer(latent_rep.data.cpu().numpy())\n",
    "            \n",
    "            D, _ = self.index.search(\n",
    "                latent_rep_normed,\n",
    "                self.K)\n",
    "            kth_dist = -D[:, -1]\n",
    "            \n",
    "            all_preds.append(pred[0])\n",
    "            all_kth_dist_score.append(kth_dist)\n",
    "            \n",
    "        all_preds_t = torch.cat(all_preds)\n",
    "        # all_kth_dist_score_t = torch.cat(all_kth_dist_score)\n",
    "        all_kth_dist_score_np = np.concatenate(all_kth_dist_score, axis=0)\n",
    "        \n",
    "        return all_preds_t, all_kth_dist_score_np\n",
    "\n",
    "    def set_K_hyperparam(self, hyperparam: int = 50):\n",
    "        self.K = hyperparam\n",
    "\n",
    "    def get_K_hyperparam(self):\n",
    "        return self.K"
   ]
  },
  {
   "cell_type": "code",
   "execution_count": 74,
   "metadata": {},
   "outputs": [
    {
     "name": "stderr",
     "output_type": "stream",
     "text": [
      "ic| len(gtsrb_normal_train_loader): 7120\n",
      "ic| len(gtsrb_normal_valid_loader): 3609\n",
      "ic| len(gtsrb_normal_test_loader): 1273\n",
      "ic| '========================================'"
     ]
    },
    {
     "name": "stderr",
     "output_type": "stream",
     "text": [
      "\n",
      "ic| len(gtsrb_anomal_train_loader): 35600\n",
      "ic| len(gtsrb_anomal_valid_loader): 3609\n",
      "ic| len(gtsrb_anomal_test_loader): 1273\n",
      "ic| '========================================'\n",
      "ic| len(cifar10_train_loader): 40000\n",
      "ic| len(cifar10_valid_loader): 10000\n",
      "ic| len(cifar10_test_loader): 10000\n",
      "ic| '========================================'\n",
      "ic| len(stl10_train_loader): 2000\n",
      "ic| len(stl10_valid_loader): 3000\n",
      "ic| len(stl10_test_loader): 8000\n"
     ]
    }
   ],
   "source": [
    "ic(len(gtsrb_normal_train_loader));\n",
    "ic(len(gtsrb_normal_valid_loader));\n",
    "ic(len(gtsrb_normal_test_loader));\n",
    "ic(\"========================================\")\n",
    "ic(len(gtsrb_anomal_train_loader));\n",
    "ic(len(gtsrb_anomal_valid_loader));\n",
    "ic(len(gtsrb_anomal_test_loader));\n",
    "ic(\"========================================\")\n",
    "ic(len(cifar10_train_loader));\n",
    "ic(len(cifar10_valid_loader));\n",
    "ic(len(cifar10_test_loader));\n",
    "ic(\"========================================\")\n",
    "ic(len(stl10_train_loader));\n",
    "ic(len(stl10_valid_loader));\n",
    "ic(len(stl10_test_loader));"
   ]
  },
  {
   "cell_type": "code",
   "execution_count": 60,
   "metadata": {},
   "outputs": [
    {
     "data": {
      "text/plain": [
       "<__main__.Hook at 0x7fa16a95a590>"
      ]
     },
     "execution_count": 60,
     "metadata": {},
     "output_type": "execute_result"
    }
   ],
   "source": [
    "gtsrb_model_avgpool_layer_hook = Hook(gtsrb_det_model.model.avgpool)\n",
    "gtsrb_model_avgpool_layer_hook"
   ]
  },
  {
   "cell_type": "code",
   "execution_count": 75,
   "metadata": {},
   "outputs": [],
   "source": [
    "knn_dist_gtsrb = KNNPostprocessor(K=50, setup_flag=False)"
   ]
  },
  {
   "cell_type": "code",
   "execution_count": 76,
   "metadata": {},
   "outputs": [
    {
     "name": "stdout",
     "output_type": "stream",
     "text": [
      "\n",
      " Get latent embeddings z from training set...\n"
     ]
    }
   ],
   "source": [
    "knn_dist_gtsrb.setup(gtsrb_det_model.model,\n",
    "                     gtsrb_normal_train_loader,\n",
    "                     layer_hook=gtsrb_model_avgpool_layer_hook)"
   ]
  },
  {
   "cell_type": "code",
   "execution_count": 77,
   "metadata": {},
   "outputs": [],
   "source": [
    "_, ind_gtsrb_valid_kth_dist_score = knn_dist_gtsrb.postprocess(gtsrb_det_model.model,\n",
    "                                                               gtsrb_normal_valid_loader,\n",
    "                                                               gtsrb_model_avgpool_layer_hook)"
   ]
  },
  {
   "cell_type": "code",
   "execution_count": 79,
   "metadata": {},
   "outputs": [],
   "source": [
    "_, ind_gtsrb_valid_kth_dist_score = knn_dist_gtsrb.postprocess(gtsrb_det_model.model,\n",
    "                                                               gtsrb_normal_valid_loader,\n",
    "                                                               gtsrb_model_avgpool_layer_hook)\n",
    "\n",
    "\n",
    "_, ind_gtsrb_test_kth_dist_score = knn_dist_gtsrb.postprocess(gtsrb_det_model.model,\n",
    "                                                              gtsrb_normal_test_loader,\n",
    "                                                              gtsrb_model_avgpool_layer_hook)\n",
    "\n",
    "\n",
    "_, ood_gtsrb_anomal_valid_kth_dist_score = knn_dist_gtsrb.postprocess(gtsrb_det_model.model,\n",
    "                                                                      gtsrb_anomal_valid_loader,\n",
    "                                                                      gtsrb_model_avgpool_layer_hook)\n",
    "\n",
    "_, ood_gtsrb_anomal_test_kth_dist_score = knn_dist_gtsrb.postprocess(gtsrb_det_model.model,\n",
    "                                                                     gtsrb_anomal_test_loader,\n",
    "                                                                     gtsrb_model_avgpool_layer_hook)\n",
    "\n",
    "\n",
    "_, ood_cifar10_valid_kth_dist_score = knn_dist_gtsrb.postprocess(gtsrb_det_model.model,\n",
    "                                                                 cifar10_valid_loader,\n",
    "                                                                 gtsrb_model_avgpool_layer_hook)\n",
    "\n",
    "_, ood_cifar10_test_kth_dist_score = knn_dist_gtsrb.postprocess(gtsrb_det_model.model,\n",
    "                                                                cifar10_test_loader,\n",
    "                                                                gtsrb_model_avgpool_layer_hook)\n",
    "\n",
    "\n",
    "_, ood_stl10_valid_kth_dist_score = knn_dist_gtsrb.postprocess(gtsrb_det_model.model,\n",
    "                                                               stl10_valid_loader,\n",
    "                                                               gtsrb_model_avgpool_layer_hook)\n",
    "\n",
    "_, ood_stl10_test_kth_dist_score = knn_dist_gtsrb.postprocess(gtsrb_det_model.model,\n",
    "                                                              stl10_test_loader,\n",
    "                                                              gtsrb_model_avgpool_layer_hook)"
   ]
  },
  {
   "cell_type": "code",
   "execution_count": 80,
   "metadata": {},
   "outputs": [],
   "source": [
    "ind_gtsrb_kth_dist_score = np.concatenate((ind_gtsrb_valid_kth_dist_score, ind_gtsrb_test_kth_dist_score))\n",
    "ood_gtsrb_anomal_kth_dist_score = np.concatenate((ood_gtsrb_anomal_valid_kth_dist_score, ood_gtsrb_anomal_test_kth_dist_score))\n",
    "ood_cifar10_kth_dist_score = np.concatenate((ood_cifar10_valid_kth_dist_score, ood_cifar10_test_kth_dist_score))\n",
    "ood_stl10_kth_dist_score = np.concatenate((ood_stl10_valid_kth_dist_score, ood_stl10_test_kth_dist_score))"
   ]
  },
  {
   "cell_type": "code",
   "execution_count": null,
   "metadata": {},
   "outputs": [
    {
     "data": {
      "text/plain": [
       "'/media/farnez/Data/EXPERIMENTS/ICLR-2024/gtsrb-classification/baseline_methods/OoD_detection_baselines/mahalanobis_dist_score/'"
      ]
     },
     "metadata": {},
     "output_type": "display_data"
    }
   ],
   "source": [
    "knn_dist_score_path"
   ]
  },
  {
   "cell_type": "code",
   "execution_count": 83,
   "metadata": {},
   "outputs": [],
   "source": [
    "np.save(knn_dist_score_path + 'ind_gtsrb_kth_dist_score',\n",
    "        ind_gtsrb_kth_dist_score)\n",
    "\n",
    "np.save(knn_dist_score_path + 'ood_gtsrb_anomal_kth_dist_score',\n",
    "        ood_gtsrb_anomal_kth_dist_score)\n",
    "\n",
    "np.save(knn_dist_score_path + 'ood_cifar10_kth_dist_score',\n",
    "        ood_cifar10_kth_dist_score)\n",
    "\n",
    "np.save(knn_dist_score_path + 'ood_stl10_kth_dist_score',\n",
    "        ood_stl10_kth_dist_score)"
   ]
  },
  {
   "cell_type": "code",
   "execution_count": 84,
   "metadata": {},
   "outputs": [
    {
     "name": "stderr",
     "output_type": "stream",
     "text": [
      "ic| ind_gtsrb_kth_dist_score.shape: (4882,)\n",
      "ic| ood_gtsrb_anomal_kth_dist_score.shape: (4882,)\n",
      "ic| ood_cifar10_kth_dist_score.shape: (20000,)\n",
      "ic| ood_stl10_kth_dist_score.shape: (11000,)\n"
     ]
    }
   ],
   "source": [
    "ic(ind_gtsrb_kth_dist_score.shape);\n",
    "ic(ood_gtsrb_anomal_kth_dist_score.shape);\n",
    "ic(ood_cifar10_kth_dist_score.shape);\n",
    "ic(ood_stl10_kth_dist_score.shape);"
   ]
  },
  {
   "cell_type": "code",
   "execution_count": 86,
   "metadata": {},
   "outputs": [],
   "source": [
    "df_kth_dist_scores_gtsrb = pd.DataFrame(ind_gtsrb_kth_dist_score, columns=[\"KNN Distance score\"])\n",
    "df_kth_dist_scores_gtsrb_anomal = pd.DataFrame(ood_gtsrb_anomal_kth_dist_score, columns=[\"KNN Distance score\"])\n",
    "df_kth_dist_scores_stl10 = pd.DataFrame(ood_cifar10_kth_dist_score, columns=[\"KNN Distance score\"])\n",
    "df_kth_dist_scores_cifar10 = pd.DataFrame(ood_stl10_kth_dist_score, columns=[\"KNN Distance score\"])\n",
    "\n",
    "df_kth_dist_scores_gtsrb.insert(0, \"Dataset\", \"\")\n",
    "df_kth_dist_scores_gtsrb.loc[:, \"Dataset\"] = \"gtsrb\"\n",
    "\n",
    "df_kth_dist_scores_gtsrb_anomal.insert(0, \"Dataset\", \"\")\n",
    "df_kth_dist_scores_gtsrb_anomal.loc[:, \"Dataset\"] = \"gtsrb-anomal\"\n",
    "\n",
    "df_kth_dist_scores_stl10.insert(0, \"Dataset\", \"\")\n",
    "df_kth_dist_scores_stl10.loc[:, \"Dataset\"] = \"stl10\"\n",
    "\n",
    "df_kth_dist_scores_cifar10.insert(0, \"Dataset\", \"\")\n",
    "df_kth_dist_scores_cifar10.loc[:, \"Dataset\"] = \"cifar10\""
   ]
  },
  {
   "cell_type": "code",
   "execution_count": 99,
   "metadata": {},
   "outputs": [
    {
     "data": {
      "image/png": "[encoded data removed]",
      "text/plain": [
       "<Figure size 598.5x500 with 1 Axes>"
      ]
     },
     "metadata": {},
     "output_type": "display_data"
    }
   ],
   "source": [
    "df_pred_kth_dist_scores = pd.concat([df_kth_dist_scores_gtsrb,\n",
    "                                    #  df_kth_dist_scores_gtsrb_anomal,\n",
    "                                     df_kth_dist_scores_stl10,\n",
    "                                     df_kth_dist_scores_cifar10]).reset_index(drop=True)\n",
    "\n",
    "sns.displot(df_pred_kth_dist_scores, x=\"KNN Distance score\", hue=\"Dataset\", kind=\"hist\", fill=True)\n",
    "plt.show()"
   ]
  },
  {
   "cell_type": "code",
   "execution_count": 98,
   "metadata": {},
   "outputs": [
    {
     "data": {
      "image/png": "[encoded data removed]",
      "text/plain": [
       "<Figure size 642.875x500 with 1 Axes>"
      ]
     },
     "metadata": {},
     "output_type": "display_data"
    }
   ],
   "source": [
    "df_pred_kth_dist_scores = pd.concat([df_kth_dist_scores_gtsrb,\n",
    "                                     df_kth_dist_scores_gtsrb_anomal]).reset_index(drop=True)\n",
    "\n",
    "sns.displot(df_pred_kth_dist_scores, x=\"KNN Distance score\", hue=\"Dataset\", kind=\"hist\", fill=True)\n",
    "plt.show()"
   ]
  },
  {
   "cell_type": "code",
   "execution_count": 89,
   "metadata": {},
   "outputs": [
    {
     "name": "stderr",
     "output_type": "stream",
     "text": [
      "ic| ind_gtsrb_kth_dist_score.shape: (4882,)\n",
      "ic| ood_gtsrb_anomal_kth_dist_score.shape: (4882,)\n",
      "ic| ood_cifar10_kth_dist_score.shape: (20000,)\n",
      "ic| ood_stl10_kth_dist_score.shape: (11000,)\n"
     ]
    }
   ],
   "source": [
    "ic(ind_gtsrb_kth_dist_score.shape);\n",
    "ic(ood_gtsrb_anomal_kth_dist_score.shape);\n",
    "ic(ood_cifar10_kth_dist_score.shape);\n",
    "ic(ood_stl10_kth_dist_score.shape);"
   ]
  },
  {
   "cell_type": "markdown",
   "metadata": {},
   "source": [
    "### GTSRB vs GTSRB-Anomalies"
   ]
  },
  {
   "cell_type": "markdown",
   "metadata": {},
   "source": [
    "We align with the convention where positive (in-distribution) samples have higher scores (see plots above)"
   ]
  },
  {
   "cell_type": "code",
   "execution_count": 93,
   "metadata": {},
   "outputs": [
    {
     "name": "stdout",
     "output_type": "stream",
     "text": [
      "Test InD shape (4882,)\n",
      "Test OoD shape (4882,)\n",
      "AUROC: 0.2863\n",
      "FPR95: 0.9949\n",
      "AUPR: 0.4640\n"
     ]
    }
   ],
   "source": [
    "print(\"Test InD shape\", ind_gtsrb_kth_dist_score.shape);\n",
    "print(\"Test OoD shape\", ood_gtsrb_anomal_kth_dist_score.shape);\n",
    "\n",
    "results_kth_dist_gtsrb_anomaly = get_hz_detector_results(detect_exp_name=\"KNN Distance score: gtsrb vs. gtsrb_anomaly\",\n",
    "                                                         ind_samples_scores=ind_gtsrb_kth_dist_score,\n",
    "                                                         ood_samples_scores=ood_gtsrb_anomal_kth_dist_score)"
   ]
  },
  {
   "cell_type": "markdown",
   "metadata": {},
   "source": [
    "### GTSRB vs CIFAR-10"
   ]
  },
  {
   "cell_type": "markdown",
   "metadata": {},
   "source": [
    "We align with the convention where positive (in-distribution) samples have higher scores (see plots above)"
   ]
  },
  {
   "cell_type": "code",
   "execution_count": 96,
   "metadata": {},
   "outputs": [
    {
     "name": "stdout",
     "output_type": "stream",
     "text": [
      "Test InD shape (4882,)\n",
      "Test OoD shape (20000,)\n",
      "AUROC: 0.7993\n",
      "FPR95: 0.9998\n",
      "AUPR: 0.7952\n"
     ]
    }
   ],
   "source": [
    "print(\"Test InD shape\", ind_gtsrb_kth_dist_score.shape);\n",
    "print(\"Test OoD shape\", ood_cifar10_kth_dist_score.shape);\n",
    "\n",
    "results_kth_dist_cifar10 = get_hz_detector_results(detect_exp_name=\"KNN Distance score: gtsrb vs. cifar10\",\n",
    "                                                 ind_samples_scores=ind_gtsrb_kth_dist_score,\n",
    "                                                 ood_samples_scores=ood_cifar10_kth_dist_score)"
   ]
  },
  {
   "cell_type": "markdown",
   "metadata": {},
   "source": [
    "### GTSRB vs STL-10"
   ]
  },
  {
   "cell_type": "markdown",
   "metadata": {},
   "source": [
    "We align with the convention where positive (in-distribution) samples have higher scores (see plots above)"
   ]
  },
  {
   "cell_type": "code",
   "execution_count": 92,
   "metadata": {},
   "outputs": [
    {
     "name": "stdout",
     "output_type": "stream",
     "text": [
      "Test InD shape (4882,)\n",
      "Test OoD shape (11000,)\n",
      "AUROC: 0.8043\n",
      "FPR95: 0.9996\n",
      "AUPR: 0.8318\n"
     ]
    }
   ],
   "source": [
    "print(\"Test InD shape\", ind_gtsrb_kth_dist_score.shape);\n",
    "print(\"Test OoD shape\", ood_stl10_kth_dist_score.shape);\n",
    "\n",
    "results_kth_dist_stl10 = get_hz_detector_results(detect_exp_name=\"KNN Distance score: gtsrb vs. stl10\",\n",
    "                                                 ind_samples_scores=ind_gtsrb_kth_dist_score,\n",
    "                                                 ood_samples_scores=ood_stl10_kth_dist_score)"
   ]
  },
  {
   "cell_type": "code",
   "execution_count": null,
   "metadata": {},
   "outputs": [],
   "source": []
  },
  {
   "cell_type": "code",
   "execution_count": null,
   "metadata": {},
   "outputs": [],
   "source": []
  },
  {
   "cell_type": "code",
   "execution_count": null,
   "metadata": {},
   "outputs": [],
   "source": []
  },
  {
   "cell_type": "code",
   "execution_count": null,
   "metadata": {},
   "outputs": [],
   "source": []
  },
  {
   "cell_type": "markdown",
   "metadata": {},
   "source": [
    "# Help Computations"
   ]
  },
  {
   "cell_type": "code",
   "execution_count": 150,
   "metadata": {},
   "outputs": [
    {
     "name": "stderr",
     "output_type": "stream",
     "text": [
      "ic| a.shape: torch.Size([1273, 43])\n",
      "ic| h.shape: torch.Size([1273])\n"
     ]
    }
   ],
   "source": [
    "a = torch.mean(dl_preds, dim=1)\n",
    "ic(a.shape);\n",
    "h = - torch.sum(a * torch.log(a), dim=1)\n",
    "ic(h.shape);"
   ]
  },
  {
   "cell_type": "code",
   "execution_count": 145,
   "metadata": {},
   "outputs": [
    {
     "data": {
      "text/plain": [
       "torch.Size([1273, 4, 43])"
      ]
     },
     "execution_count": 145,
     "metadata": {},
     "output_type": "execute_result"
    }
   ],
   "source": [
    "dl_preds.shape"
   ]
  },
  {
   "cell_type": "code",
   "execution_count": 170,
   "metadata": {},
   "outputs": [
    {
     "data": {
      "text/plain": [
       "torch.Size([1273, 4])"
      ]
     },
     "execution_count": 170,
     "metadata": {},
     "output_type": "execute_result"
    }
   ],
   "source": [
    "b = -torch.sum(dl_preds * torch.log(dl_preds), dim=-1)\n",
    "b.shape"
   ]
  },
  {
   "cell_type": "code",
   "execution_count": 171,
   "metadata": {},
   "outputs": [
    {
     "data": {
      "text/plain": [
       "torch.Size([1273])"
      ]
     },
     "execution_count": 171,
     "metadata": {},
     "output_type": "execute_result"
    }
   ],
   "source": [
    "c = torch.mean(b, dim=-1)\n",
    "c.shape"
   ]
  },
  {
   "cell_type": "code",
   "execution_count": 15,
   "metadata": {},
   "outputs": [
    {
     "data": {
      "text/plain": [
       "array([-4, -3, -2, -1,  0,  1,  2,  3,  4])"
      ]
     },
     "execution_count": 15,
     "metadata": {},
     "output_type": "execute_result"
    }
   ],
   "source": [
    "a = np.arange(9) - 4\n",
    "a\n"
   ]
  },
  {
   "cell_type": "code",
   "execution_count": 24,
   "metadata": {},
   "outputs": [
    {
     "data": {
      "text/plain": [
       "array([[-4., -3., -2.],\n",
       "       [-1.,  0.,  1.],\n",
       "       [ 2.,  3.,  4.]], dtype=float32)"
      ]
     },
     "execution_count": 24,
     "metadata": {},
     "output_type": "execute_result"
    }
   ],
   "source": [
    "b = a.reshape((3, 3)).astype(np.float32)\n",
    "b"
   ]
  },
  {
   "cell_type": "code",
   "execution_count": 25,
   "metadata": {},
   "outputs": [],
   "source": [
    "normalizer = lambda x: x / (np.linalg.norm(x, ord=2, axis=-1, keepdims=True) + 1e-10)"
   ]
  },
  {
   "cell_type": "code",
   "execution_count": 26,
   "metadata": {},
   "outputs": [
    {
     "data": {
      "text/plain": [
       "array([[5.3851647],\n",
       "       [1.4142135],\n",
       "       [5.3851647]], dtype=float32)"
      ]
     },
     "execution_count": 26,
     "metadata": {},
     "output_type": "execute_result"
    }
   ],
   "source": [
    "np.linalg.norm(b, ord=2, axis=-1, keepdims=True)"
   ]
  },
  {
   "cell_type": "code",
   "execution_count": 27,
   "metadata": {},
   "outputs": [
    {
     "data": {
      "text/plain": [
       "array([[-0.74278134, -0.55708605, -0.37139067],\n",
       "       [-0.70710677,  0.        ,  0.70710677],\n",
       "       [ 0.37139067,  0.55708605,  0.74278134]], dtype=float32)"
      ]
     },
     "execution_count": 27,
     "metadata": {},
     "output_type": "execute_result"
    }
   ],
   "source": [
    "c = normalizer(b)\n",
    "c"
   ]
  },
  {
   "cell_type": "code",
   "execution_count": 28,
   "metadata": {},
   "outputs": [
    {
     "data": {
      "text/plain": [
       "tensor([[-4., -3., -2.],\n",
       "        [-1.,  0.,  1.],\n",
       "        [ 2.,  3.,  4.]])"
      ]
     },
     "execution_count": 28,
     "metadata": {},
     "output_type": "execute_result"
    }
   ],
   "source": [
    "b_t = torch.from_numpy(b, )\n",
    "b_t"
   ]
  },
  {
   "cell_type": "code",
   "execution_count": 30,
   "metadata": {},
   "outputs": [
    {
     "data": {
      "text/plain": [
       "tensor([[-0.7428, -0.5571, -0.3714],\n",
       "        [-0.7071,  0.0000,  0.7071],\n",
       "        [ 0.3714,  0.5571,  0.7428]])"
      ]
     },
     "execution_count": 30,
     "metadata": {},
     "output_type": "execute_result"
    }
   ],
   "source": [
    "c_t = torch.nn.functional.normalize(b_t)\n",
    "c_t"
   ]
  },
  {
   "cell_type": "code",
   "execution_count": 31,
   "metadata": {},
   "outputs": [
    {
     "data": {
      "text/plain": [
       "tensor([[0.2152, 0.3962, 1.6234]])"
      ]
     },
     "execution_count": 31,
     "metadata": {},
     "output_type": "execute_result"
    }
   ],
   "source": [
    "z = torch.randn((1, 3))\n",
    "z"
   ]
  },
  {
   "cell_type": "code",
   "execution_count": 33,
   "metadata": {},
   "outputs": [
    {
     "data": {
      "text/plain": [
       "tensor([[0.1278, 0.2352, 0.9635]])"
      ]
     },
     "execution_count": 33,
     "metadata": {},
     "output_type": "execute_result"
    }
   ],
   "source": [
    "z_norm = torch.nn.functional.normalize(z)\n",
    "z_norm"
   ]
  },
  {
   "cell_type": "code",
   "execution_count": null,
   "metadata": {},
   "outputs": [],
   "source": []
  }
 ],
 "metadata": {
  "kernelspec": {
   "display_name": "Semantic_Segmentation",
   "language": "python",
   "name": "python3"
  },
  "language_info": {
   "codemirror_mode": {
    "name": "ipython",
    "version": 3
   },
   "file_extension": ".py",
   "mimetype": "text/x-python",
   "name": "python",
   "nbconvert_exporter": "python",
   "pygments_lexer": "ipython3",
   "version": "3.7.5"
  },
  "orig_nbformat": 4
 },
 "nbformat": 4,
 "nbformat_minor": 2
}
